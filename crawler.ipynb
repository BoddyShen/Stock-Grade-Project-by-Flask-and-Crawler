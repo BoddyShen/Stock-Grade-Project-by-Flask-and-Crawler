{
 "cells": [
  {
   "cell_type": "code",
   "execution_count": 95,
   "id": "2c07897a",
   "metadata": {},
   "outputs": [
    {
     "data": {
      "text/plain": [
       "'<table class=\\'b1 p6_0 r10_0\\' style=\\'width:100%;font-size:11pt;\\'>  <tr class=\\'bg_h0\\' style=\\'text-align:center;\\'>    <td><nobr><span style=\\'color:blue;font-size:14pt;font-weight:bold;\\'>2330&nbsp;台積電&nbsp;單季財務比率表&nbsp;(個別)</span><span style=\\'font-size:10pt;color:black;\\'>&nbsp;&nbsp;&nbsp;&nbsp;(單位:％)</span><span id=\\'txtFinBodyLoading\\' style=\\'position:absolute;font-size:10pt;color:gray;display:none;\\'><br>&nbsp;&nbsp;&nbsp;&nbsp;&nbsp;&nbsp;&nbsp;&nbsp;(載入中...)</span></nobr><div style=\\'margin-top:6px;\\'><nobr><select id=\\'RPT_CAT\\' style=\\'font-size:10pt\\' OnChange=\\'ChgFinSheet(\"RPT_CAT\");\\'><option value=\\'XX_M_QUAR\\' >合併報表 – 單季</option><option value=\\'XX_M_QUAR_ACC\\' >合併報表 – 累季</option><option value=\\'XX_M_YEAR\\' >合併報表 – 年度</option><option value=\\'XX_M_Y4Q\\' >合併報表 – 近四季</option><option value=\\'XX_QUAR\\' selected>個別報表 – 單季</option><option value=\\'XX_QUAR_ACC\\' >個別報表 – 累季</option><option value=\\'XX_YEAR\\' >個別報表 – 年度</option><option value=\\'XX_Y4Q\\' >個別報表 – 近四季</option></select>&nbsp;<select id=\\'QRY_TIME\\' style=\\'font-size:10pt\\' OnChange=\\'ChgFinSheet(\"QRY_TIME\");\\'><option value=\\'20221\\' selected>2022Q1</option><option value=\\'20214\\' >2021Q4</option><option value=\\'20213\\' >2021Q3</option><option value=\\'20212\\' >2021Q2</option><option value=\\'20211\\' >2021Q1</option><option value=\\'20204\\' >2020Q4</option><option value=\\'20203\\' >2020Q3</option><option value=\\'20202\\' >2020Q2</option><option value=\\'20201\\' >2020Q1</option><option value=\\'20194\\' >2019Q4</option><option value=\\'20193\\' >2019Q3</option><option value=\\'20192\\' >2019Q2</option><option value=\\'20191\\' >2019Q1</option><option value=\\'20184\\' >2018Q4</option><option value=\\'20183\\' >2018Q3</option><option value=\\'20182\\' >2018Q2</option><option value=\\'20181\\' >2018Q1</option><option value=\\'20174\\' >2017Q4</option><option value=\\'20173\\' >2017Q3</option><option value=\\'20172\\' >2017Q2</option><option value=\\'20171\\' >2017Q1</option><option value=\\'20164\\' >2016Q4</option><option value=\\'20163\\' >2016Q3</option><option value=\\'20162\\' >2016Q2</option><option value=\\'20161\\' >2016Q1</option><option value=\\'20154\\' >2015Q4</option><option value=\\'20153\\' >2015Q3</option><option value=\\'20152\\' >2015Q2</option><option value=\\'20151\\' >2015Q1</option><option value=\\'20144\\' >2014Q4</option><option value=\\'20143\\' >2014Q3</option><option value=\\'20142\\' >2014Q2</option><option value=\\'20141\\' >2014Q1</option><option value=\\'20134\\' >2013Q4</option><option value=\\'20133\\' >2013Q3</option><option value=\\'20132\\' >2013Q2</option><option value=\\'20131\\' >2013Q1</option><option value=\\'20124\\' >2012Q4</option><option value=\\'20123\\' >2012Q3</option><option value=\\'20122\\' >2012Q2</option><option value=\\'20121\\' >2012Q1</option><option value=\\'20114\\' >2011Q4</option><option value=\\'20113\\' >2011Q3</option><option value=\\'20112\\' >2011Q2</option><option value=\\'20111\\' >2011Q1</option><option value=\\'20104\\' >2010Q4</option><option value=\\'20103\\' >2010Q3</option><option value=\\'20102\\' >2010Q2</option><option value=\\'20101\\' >2010Q1</option><option value=\\'20094\\' >2009Q4</option><option value=\\'20093\\' >2009Q3</option><option value=\\'20092\\' >2009Q2</option><option value=\\'20091\\' >2009Q1</option><option value=\\'20084\\' >2008Q4</option><option value=\\'20083\\' >2008Q3</option><option value=\\'20082\\' >2008Q2</option><option value=\\'20081\\' >2008Q1</option><option value=\\'20074\\' >2007Q4</option><option value=\\'20073\\' >2007Q3</option><option value=\\'20072\\' >2007Q2</option><option value=\\'20071\\' >2007Q1</option><option value=\\'20064\\' >2006Q4</option><option value=\\'20063\\' >2006Q3</option><option value=\\'20062\\' >2006Q2</option><option value=\\'20061\\' >2006Q1</option><option value=\\'20054\\' >2005Q4</option><option value=\\'20053\\' >2005Q3</option><option value=\\'20052\\' >2005Q2</option><option value=\\'20051\\' >2005Q1</option><option value=\\'20044\\' >2004Q4</option><option value=\\'20043\\' >2004Q3</option><option value=\\'20042\\' >2004Q2</option><option value=\\'20041\\' >2004Q1</option><option value=\\'20034\\' >2003Q4</option><option value=\\'20033\\' >2003Q3</option><option value=\\'20032\\' >2003Q2</option><option value=\\'20031\\' >2003Q1</option><option value=\\'20024\\' >2002Q4</option><option value=\\'20023\\' >2002Q3</option><option value=\\'20022\\' >2002Q2</option><option value=\\'20021\\' >2002Q1</option><option value=\\'20014\\' >2001Q4</option><option value=\\'20013\\' >2001Q3</option><option value=\\'20012\\' >2001Q2</option><option value=\\'20011\\' >2001Q1</option><option value=\\'20004\\' >2000Q4</option><option value=\\'20003\\' >2000Q3</option><option value=\\'20002\\' >2000Q2</option><option value=\\'20001\\' >2000Q1</option><option value=\\'19994\\' >1999Q4</option><option value=\\'19993\\' >1999Q3</option><option value=\\'19992\\' >1999Q2</option><option value=\\'19991\\' >1999Q1</option><option value=\\'19984\\' >1998Q4</option><option value=\\'19983\\' >1998Q3</option><option value=\\'19982\\' >1998Q2</option><option value=\\'19981\\' >1998Q1</option><option value=\\'19974\\' >1997Q4</option><option value=\\'19973\\' >1997Q3</option><option value=\\'19972\\' >1997Q2</option><option value=\\'19971\\' >1997Q1</option><option value=\\'19964\\' >1996Q4</option><option value=\\'19963\\' >1996Q3</option><option value=\\'19962\\' >1996Q2</option><option value=\\'19961\\' >1996Q1</option><option value=\\'19954\\' >1995Q4</option><option value=\\'19953\\' >1995Q3</option><option value=\\'19952\\' >1995Q2</option><option value=\\'19951\\' >1995Q1</option><option value=\\'19944\\' >1994Q4</option></select>&ensp;<input type=\\'button\\' value=\\'匯出XLS\\' style=\\'font-size:10pt;padding:1px 6px;\\' onclick=\"export2xls(divFinDetail.innerHTML,\\'FinDetail.xls\\');\">&nbsp;<input type=\\'button\\' value=\\'匯出HTML\\' style=\\'font-size:10pt;padding:1px 6px;\\' onclick=\"export2html(divFinDetail.innerHTML,\\'FinDetail.html\\');\">&nbsp;</nobr></div></td></tr></table><div style=\\'position:relative;width:811px;\\'><div id=\\'divFinDetail\\' style=\\'overflow-x:auto;overflow-y:hidden;border:0;\\'><table class=\\'b1 p4_4 r0_10 row_mouse_over\\' style=\\'width:100%;font-size:11pt;line-height:20px;\\'><tr class=\\'bg_h1 fw_normal\\' style=\\'text-align:center;\\'><th style=\\'color:blue;width:25%;\\'><nobr>獲利能力</nobr></th><th><nobr>2022Q1</nobr></th><th><nobr>2021Q4</nobr></th><th><nobr>2021Q3</nobr></th><th><nobr>2021Q2</nobr></th><th><nobr>2021Q1</nobr></th><th><nobr>2020Q4</nobr></th><th><nobr>2020Q3</nobr></th><th><nobr>2020Q2</nobr></th><th><nobr>2020Q1</nobr></th><th><nobr>2019Q4</nobr></th></tr><tr bgcolor=\\'white\\' align=\\'right\\' valign=\\'middle\\'><td title=\\'滑鼠在此點一下, 可顯示公式說明\\' style=\\'cursor:pointer\\' align=\\'left\\'  OnClick=\\'idDesc0.style.display=(idDesc0.style.display==\"\"?\"none\":\"\");\\'><nobr>營業毛利率</nobr><div id=\\'idDesc0\\' style=\\'color:#FF8000;font-size:9pt;display:none;\\'>營業毛利 / 營業收入 x 100%</div></td><td ><nobr>55.63</nobr></td><td ><nobr>52.66</nobr></td><td ><nobr>51.3</nobr></td><td ><nobr>50.03</nobr></td><td ><nobr>52.38</nobr></td><td ><nobr>54</nobr></td><td ><nobr>53.45</nobr></td><td ><nobr>52.99</nobr></td><td ><nobr>51.76</nobr></td><td ><nobr>50.18</nobr></td></tr><tr bgcolor=\\'white\\' align=\\'right\\' valign=\\'middle\\'><td title=\\'滑鼠在此點一下, 可顯示公式說明\\' style=\\'cursor:pointer\\' align=\\'left\\'  OnClick=\\'idDesc1.style.display=(idDesc1.style.display==\"\"?\"none\":\"\");\\'><nobr>營業利益率</nobr><div id=\\'idDesc1\\' style=\\'color:#FF8000;font-size:9pt;display:none;\\'>營業利益 / 營業收入 x 100%</div></td><td ><nobr>45.57</nobr></td><td ><nobr>41.71</nobr></td><td ><nobr>41.24</nobr></td><td ><nobr>39.14</nobr></td><td ><nobr>41.54</nobr></td><td ><nobr>43.46</nobr></td><td ><nobr>42.1</nobr></td><td ><nobr>42.19</nobr></td><td ><nobr>41.38</nobr></td><td ><nobr>39.16</nobr></td></tr><tr bgcolor=\\'white\\' align=\\'right\\' valign=\\'middle\\'><td title=\\'滑鼠在此點一下, 可顯示公式說明\\' style=\\'cursor:pointer\\' align=\\'left\\'  OnClick=\\'idDesc2.style.display=(idDesc2.style.display==\"\"?\"none\":\"\");\\'><nobr>稅前淨利率</nobr><div id=\\'idDesc2\\' style=\\'color:#FF8000;font-size:9pt;display:none;\\'>稅前淨利 / 營業收入 x 100%</div></td><td ><nobr>46.19</nobr></td><td ><nobr>42.18</nobr></td><td ><nobr>41.93</nobr></td><td ><nobr>40.14</nobr></td><td ><nobr>42.79</nobr></td><td ><nobr>44.56</nobr></td><td ><nobr>43.52</nobr></td><td ><nobr>43.9</nobr></td><td ><nobr>42.55</nobr></td><td ><nobr>40.59</nobr></td></tr><tr bgcolor=\\'white\\' align=\\'right\\' valign=\\'middle\\'><td title=\\'滑鼠在此點一下, 可顯示公式說明\\' style=\\'cursor:pointer\\' align=\\'left\\'  OnClick=\\'idDesc3.style.display=(idDesc3.style.display==\"\"?\"none\":\"\");\\'><nobr>稅後淨利率</nobr><div id=\\'idDesc3\\' style=\\'color:#FF8000;font-size:9pt;display:none;\\'>合併稅後淨利 / 營業收入 x 100%</div></td><td ><nobr>41.31</nobr></td><td ><nobr>37.97</nobr></td><td ><nobr>37.74</nobr></td><td ><nobr>36.14</nobr></td><td ><nobr>38.56</nobr></td><td ><nobr>39.51</nobr></td><td ><nobr>38.54</nobr></td><td ><nobr>38.91</nobr></td><td ><nobr>37.69</nobr></td><td ><nobr>36.59</nobr></td></tr><tr bgcolor=\\'white\\' align=\\'right\\' valign=\\'middle\\'><td title=\\'滑鼠在此點一下, 可顯示公式說明\\' style=\\'cursor:pointer\\' align=\\'left\\'  OnClick=\\'idDesc4.style.display=(idDesc4.style.display==\"\"?\"none\":\"\");\\'><nobr>稅後淨利率<span style=\\'color:gray;font-size:9pt;\\'>&nbsp;(母公司)</span></nobr><div id=\\'idDesc4\\' style=\\'color:#FF8000;font-size:9pt;display:none;\\'>稅後淨利 / 營業收入 x 100%</div></td><td ><nobr>41.28</nobr></td><td ><nobr>37.94</nobr></td><td ><nobr>37.68</nobr></td><td ><nobr>36.1</nobr></td><td ><nobr>38.54</nobr></td><td ><nobr>39.49</nobr></td><td ><nobr>38.52</nobr></td><td ><nobr>38.89</nobr></td><td ><nobr>37.67</nobr></td><td ><nobr>36.58</nobr></td></tr><tr bgcolor=\\'white\\' align=\\'right\\' valign=\\'middle\\'><td title=\\'滑鼠在此點一下, 可顯示公式說明\\' style=\\'cursor:pointer\\' align=\\'left\\'  OnClick=\\'idDesc5.style.display=(idDesc5.style.display==\"\"?\"none\":\"\");\\'><nobr>每股稅前盈餘&nbsp;(元)</nobr><div id=\\'idDesc5\\' style=\\'color:#FF8000;font-size:9pt;display:none;\\'>稅前淨利 / 發行股數</div></td><td ><nobr>8.75</nobr></td><td ><nobr>7.13</nobr></td><td ><nobr>6.7</nobr></td><td ><nobr>5.76</nobr></td><td ><nobr>5.98</nobr></td><td ><nobr>6.22</nobr></td><td ><nobr>5.99</nobr></td><td ><nobr>5.26</nobr></td><td ><nobr>5.09</nobr></td><td ><nobr>4.97</nobr></td></tr><tr bgcolor=\\'white\\' align=\\'right\\' valign=\\'middle\\'><td title=\\'滑鼠在此點一下, 可顯示公式說明\\' style=\\'cursor:pointer\\' align=\\'left\\'  OnClick=\\'idDesc6.style.display=(idDesc6.style.display==\"\"?\"none\":\"\");\\'><nobr>每股稅後盈餘&nbsp;(元)</nobr><div id=\\'idDesc6\\' style=\\'color:#FF8000;font-size:9pt;display:none;\\'>稅後淨利 / 發行股數</div></td><td ><nobr>7.82</nobr></td><td ><nobr>6.41</nobr></td><td ><nobr>6.02</nobr></td><td ><nobr>5.18</nobr></td><td ><nobr>5.39</nobr></td><td ><nobr>5.51</nobr></td><td ><nobr>5.3</nobr></td><td ><nobr>4.66</nobr></td><td ><nobr>4.51</nobr></td><td ><nobr>4.48</nobr></td></tr><tr bgcolor=\\'white\\' align=\\'right\\' valign=\\'middle\\'><td title=\\'滑鼠在此點一下, 可顯示公式說明\\' style=\\'cursor:pointer\\' align=\\'left\\'  OnClick=\\'idDesc7.style.display=(idDesc7.style.display==\"\"?\"none\":\"\");\\'><nobr>每股淨值&nbsp;(元)</nobr><div id=\\'idDesc7\\' style=\\'color:#FF8000;font-size:9pt;display:none;\\'>股東權益總額 / 發行股數</div></td><td ><nobr>89.26</nobr></td><td ><nobr>83.62</nobr></td><td ><nobr>80.06</nobr></td><td ><nobr>76.81</nobr></td><td ><nobr>74.77</nobr></td><td ><nobr>71.33</nobr></td><td ><nobr>68.93</nobr></td><td ><nobr>66.35</nobr></td><td ><nobr>64.64</nobr></td><td ><nobr>62.53</nobr></td></tr><tr bgcolor=\\'white\\' align=\\'right\\' valign=\\'middle\\'><td title=\\'滑鼠在此點一下, 可顯示公式說明\\' style=\\'cursor:pointer\\' align=\\'left\\'  OnClick=\\'idDesc8.style.display=(idDesc8.style.display==\"\"?\"none\":\"\");\\'><nobr>股東權益報酬率<span style=\\'color:gray;font-size:9pt;\\'>&nbsp;(當季)</span></nobr><div id=\\'idDesc8\\' style=\\'color:#FF8000;font-size:9pt;display:none;\\'>當季合併稅後淨利 / ((期初股東權益總額 + 期末股東權益總額) / 2) x 100%</div></td><td ><nobr>9.03</nobr></td><td ><nobr>7.83</nobr></td><td ><nobr>7.69</nobr></td><td ><nobr>6.84</nobr></td><td ><nobr>7.37</nobr></td><td ><nobr>7.85</nobr></td><td ><nobr>7.83</nobr></td><td ><nobr>7.12</nobr></td><td ><nobr>7.1</nobr></td><td ><nobr>7.23</nobr></td></tr><tr bgcolor=\\'white\\' align=\\'right\\' valign=\\'middle\\'><td title=\\'滑鼠在此點一下, 可顯示公式說明\\' style=\\'cursor:pointer\\' align=\\'left\\'  OnClick=\\'idDesc9.style.display=(idDesc9.style.display==\"\"?\"none\":\"\");\\'><nobr>股東權益報酬率<span style=\\'color:gray;font-size:9pt;\\'>&nbsp;(年預估)</span></nobr><div id=\\'idDesc9\\' style=\\'color:#FF8000;font-size:9pt;display:none;\\'>當季合併稅後淨利 / ((期初股東權益總額 + 期末股東權益總額) / 2) x 4 x 100%</div></td><td ><nobr>36.13</nobr></td><td ><nobr>31.32</nobr></td><td ><nobr>30.74</nobr></td><td ><nobr>27.34</nobr></td><td ><nobr>29.48</nobr></td><td ><nobr>31.4</nobr></td><td ><nobr>31.32</nobr></td><td ><nobr>28.46</nobr></td><td ><nobr>28.39</nobr></td><td ><nobr>28.93</nobr></td></tr><tr bgcolor=\\'white\\' align=\\'right\\' valign=\\'middle\\'><td title=\\'滑鼠在此點一下, 可顯示公式說明\\' style=\\'cursor:pointer\\' align=\\'left\\'  OnClick=\\'idDesc10.style.display=(idDesc10.style.display==\"\"?\"none\":\"\");\\'><nobr>資產報酬率<span style=\\'color:gray;font-size:9pt;\\'>&nbsp;(當季)</span></nobr><div id=\\'idDesc10\\' style=\\'color:#FF8000;font-size:9pt;display:none;\\'>當季合併稅後淨利 / ((期初資產總額 + 期末資產總額) / 2) x 100%</div></td><td ><nobr>5.26</nobr></td><td ><nobr>4.71</nobr></td><td ><nobr>4.87</nobr></td><td ><nobr>4.47</nobr></td><td ><nobr>4.92</nobr></td><td ><nobr>5.29</nobr></td><td ><nobr>5.4</nobr></td><td ><nobr>5.05</nobr></td><td ><nobr>5.08</nobr></td><td ><nobr>5.28</nobr></td></tr><tr bgcolor=\\'white\\' align=\\'right\\' valign=\\'middle\\'><td title=\\'滑鼠在此點一下, 可顯示公式說明\\' style=\\'cursor:pointer\\' align=\\'left\\'  OnClick=\\'idDesc11.style.display=(idDesc11.style.display==\"\"?\"none\":\"\");\\'><nobr>資產報酬率<span style=\\'color:gray;font-size:9pt;\\'>&nbsp;(年預估)</span></nobr><div id=\\'idDesc11\\' style=\\'color:#FF8000;font-size:9pt;display:none;\\'>當季合併稅後淨利 / ((期初資產總額 + 期末資產總額) / 2) x 4 x 100%</div></td><td ><nobr>21.03</nobr></td><td ><nobr>18.86</nobr></td><td ><nobr>19.48</nobr></td><td ><nobr>17.9</nobr></td><td ><nobr>19.68</nobr></td><td ><nobr>21.17</nobr></td><td ><nobr>21.62</nobr></td><td ><nobr>20.18</nobr></td><td ><nobr>20.32</nobr></td><td ><nobr>21.11</nobr></td></tr><tr class=\\'bg_h1 fw_normal\\' style=\\'text-align:center;\\'><td style=\\'color:blue;width:25%;\\'><nobr>獲利季成長率</nobr></td><td><nobr>2022Q1</nobr></td><td><nobr>2021Q4</nobr></td><td><nobr>2021Q3</nobr></td><td><nobr>2021Q2</nobr></td><td><nobr>2021Q1</nobr></td><td><nobr>2020Q4</nobr></td><td><nobr>2020Q3</nobr></td><td><nobr>2020Q2</nobr></td><td><nobr>2020Q1</nobr></td><td><nobr>2019Q4</nobr></td></tr><tr bgcolor=\\'white\\' align=\\'right\\' valign=\\'middle\\'><td title=\\'滑鼠在此點一下, 可顯示公式說明\\' style=\\'cursor:pointer\\' align=\\'left\\'  OnClick=\\'idDesc12.style.display=(idDesc12.style.display==\"\"?\"none\":\"\");\\'><nobr>營收季成長率</nobr><div id=\\'idDesc12\\' style=\\'color:#FF8000;font-size:9pt;display:none;\\'>(當期營業收入–上一季營業收入) / 上一季營業收入之絕對值 x 100%</div></td><td ><nobr>12.07</nobr></td><td ><nobr>5.67</nobr></td><td ><nobr>11.43</nobr></td><td ><nobr>2.69</nobr></td><td ><nobr>0.24</nobr></td><td ><nobr>1.43</nobr></td><td ><nobr>14.72</nobr></td><td ><nobr>0.03</nobr></td><td style=\\'color:red;\\'><nobr>-2.09</nobr></td><td ><nobr>8.26</nobr></td></tr><tr bgcolor=\\'white\\' align=\\'right\\' valign=\\'middle\\'><td title=\\'滑鼠在此點一下, 可顯示公式說明\\' style=\\'cursor:pointer\\' align=\\'left\\'  OnClick=\\'idDesc13.style.display=(idDesc13.style.display==\"\"?\"none\":\"\");\\'><nobr>毛利季成長率</nobr><div id=\\'idDesc13\\' style=\\'color:#FF8000;font-size:9pt;display:none;\\'>(當期營業毛利–上一季營業毛利) / 上一季營業毛利之絕對值 x 100%</div></td><td ><nobr>18.4</nobr></td><td ><nobr>8.46</nobr></td><td ><nobr>14.26</nobr></td><td style=\\'color:red;\\'><nobr>-1.92</nobr></td><td style=\\'color:red;\\'><nobr>-2.76</nobr></td><td ><nobr>2.49</nobr></td><td ><nobr>15.71</nobr></td><td ><nobr>2.39</nobr></td><td ><nobr>0.99</nobr></td><td ><nobr>14.19</nobr></td></tr><tr bgcolor=\\'white\\' align=\\'right\\' valign=\\'middle\\'><td title=\\'滑鼠在此點一下, 可顯示公式說明\\' style=\\'cursor:pointer\\' align=\\'left\\'  OnClick=\\'idDesc14.style.display=(idDesc14.style.display==\"\"?\"none\":\"\");\\'><nobr>營業利益季成長率</nobr><div id=\\'idDesc14\\' style=\\'color:#FF8000;font-size:9pt;display:none;\\'>(當期營業利益–上一季營業利益) / 上一季營業利益之絕對值 x 100%</div></td><td ><nobr>22.44</nobr></td><td ><nobr>6.88</nobr></td><td ><nobr>17.39</nobr></td><td style=\\'color:red;\\'><nobr>-3.24</nobr></td><td style=\\'color:red;\\'><nobr>-4.19</nobr></td><td ><nobr>4.71</nobr></td><td ><nobr>14.46</nobr></td><td ><nobr>2</nobr></td><td ><nobr>3.44</nobr></td><td ><nobr>15.16</nobr></td></tr><tr bgcolor=\\'white\\' align=\\'right\\' valign=\\'middle\\'><td title=\\'滑鼠在此點一下, 可顯示公式說明\\' style=\\'cursor:pointer\\' align=\\'left\\'  OnClick=\\'idDesc15.style.display=(idDesc15.style.display==\"\"?\"none\":\"\");\\'><nobr>稅前淨利季成長率</nobr><div id=\\'idDesc15\\' style=\\'color:#FF8000;font-size:9pt;display:none;\\'>(當期稅前淨利–上一季稅前淨利) / 上一季稅前淨利之絕對值 x 100%</div></td><td ><nobr>22.73</nobr></td><td ><nobr>6.31</nobr></td><td ><nobr>16.37</nobr></td><td style=\\'color:red;\\'><nobr>-3.66</nobr></td><td style=\\'color:red;\\'><nobr>-3.75</nobr></td><td ><nobr>3.86</nobr></td><td ><nobr>13.73</nobr></td><td ><nobr>3.22</nobr></td><td ><nobr>2.61</nobr></td><td ><nobr>14.64</nobr></td></tr><tr bgcolor=\\'white\\' align=\\'right\\' valign=\\'middle\\'><td title=\\'滑鼠在此點一下, 可顯示公式說明\\' style=\\'cursor:pointer\\' align=\\'left\\'  OnClick=\\'idDesc16.style.display=(idDesc16.style.display==\"\"?\"none\":\"\");\\'><nobr>稅後淨利季成長率</nobr><div id=\\'idDesc16\\' style=\\'color:#FF8000;font-size:9pt;display:none;\\'>(當期合併稅後淨利–上一季合併稅後淨利) / 上一季合併稅後淨利之絕對值 x 100%</div></td><td ><nobr>21.94</nobr></td><td ><nobr>6.32</nobr></td><td ><nobr>16.36</nobr></td><td style=\\'color:red;\\'><nobr>-3.76</nobr></td><td style=\\'color:red;\\'><nobr>-2.16</nobr></td><td ><nobr>3.96</nobr></td><td ><nobr>13.64</nobr></td><td ><nobr>3.27</nobr></td><td ><nobr>0.85</nobr></td><td ><nobr>14.81</nobr></td></tr><tr bgcolor=\\'white\\' align=\\'right\\' valign=\\'middle\\'><td title=\\'滑鼠在此點一下, 可顯示公式說明\\' style=\\'cursor:pointer\\' align=\\'left\\'  OnClick=\\'idDesc17.style.display=(idDesc17.style.display==\"\"?\"none\":\"\");\\'><nobr>稅後淨利季成長率<span style=\\'color:gray;font-size:9pt;\\'>&nbsp;(母公司)</span></nobr><div id=\\'idDesc17\\' style=\\'color:#FF8000;font-size:9pt;display:none;\\'>(當期稅後淨利–上一季稅後淨利) / 上一季稅後淨利之絕對值 x 100%</div></td><td ><nobr>21.96</nobr></td><td ><nobr>6.38</nobr></td><td ><nobr>16.3</nobr></td><td style=\\'color:red;\\'><nobr>-3.82</nobr></td><td style=\\'color:red;\\'><nobr>-2.15</nobr></td><td ><nobr>3.97</nobr></td><td ><nobr>13.65</nobr></td><td ><nobr>3.28</nobr></td><td ><nobr>0.82</nobr></td><td ><nobr>14.81</nobr></td></tr><tr bgcolor=\\'white\\' align=\\'right\\' valign=\\'middle\\'><td title=\\'滑鼠在此點一下, 可顯示公式說明\\' style=\\'cursor:pointer\\' align=\\'left\\'  OnClick=\\'idDesc18.style.display=(idDesc18.style.display==\"\"?\"none\":\"\");\\'><nobr>每股稅後盈餘季成長率</nobr><div id=\\'idDesc18\\' style=\\'color:#FF8000;font-size:9pt;display:none;\\'>(當期每股稅後盈餘–上一季每股稅後盈餘) / 上一季每股稅後盈餘之絕對值 x 100%</div></td><td ><nobr>22</nobr></td><td ><nobr>6.48</nobr></td><td ><nobr>16.22</nobr></td><td style=\\'color:red;\\'><nobr>-3.9</nobr></td><td style=\\'color:red;\\'><nobr>-2.18</nobr></td><td ><nobr>3.96</nobr></td><td ><nobr>13.73</nobr></td><td ><nobr>3.33</nobr></td><td ><nobr>0.67</nobr></td><td ><nobr>14.87</nobr></td></tr><tr class=\\'bg_h1 fw_normal\\' style=\\'text-align:center;\\'><td style=\\'color:blue;width:25%;\\'><nobr>獲利年成長率</nobr></td><td><nobr>2022Q1</nobr></td><td><nobr>2021Q4</nobr></td><td><nobr>2021Q3</nobr></td><td><nobr>2021Q2</nobr></td><td><nobr>2021Q1</nobr></td><td><nobr>2020Q4</nobr></td><td><nobr>2020Q3</nobr></td><td><nobr>2020Q2</nobr></td><td><nobr>2020Q1</nobr></td><td><nobr>2019Q4</nobr></td></tr><tr bgcolor=\\'white\\' align=\\'right\\' valign=\\'middle\\'><td title=\\'滑鼠在此點一下, 可顯示公式說明\\' style=\\'cursor:pointer\\' align=\\'left\\'  OnClick=\\'idDesc19.style.display=(idDesc19.style.display==\"\"?\"none\":\"\");\\'><nobr>營收年成長率</nobr><div id=\\'idDesc19\\' style=\\'color:#FF8000;font-size:9pt;display:none;\\'>(當期營業收入–去年同期營業收入) / 去年同期營業收入之絕對值 x 100%</div></td><td ><nobr>35.5</nobr></td><td ><nobr>21.2</nobr></td><td ><nobr>16.34</nobr></td><td ><nobr>19.78</nobr></td><td ><nobr>16.68</nobr></td><td ><nobr>13.96</nobr></td><td ><nobr>21.63</nobr></td><td ><nobr>28.92</nobr></td><td ><nobr>42.02</nobr></td><td ><nobr>9.48</nobr></td></tr><tr bgcolor=\\'white\\' align=\\'right\\' valign=\\'middle\\'><td title=\\'滑鼠在此點一下, 可顯示公式說明\\' style=\\'cursor:pointer\\' align=\\'left\\'  OnClick=\\'idDesc20.style.display=(idDesc20.style.display==\"\"?\"none\":\"\");\\'><nobr>毛利年成長率</nobr><div id=\\'idDesc20\\' style=\\'color:#FF8000;font-size:9pt;display:none;\\'>(當期營業毛利–去年同期營業毛利) / 去年同期營業毛利之絕對值 x 100%</div></td><td ><nobr>43.91</nobr></td><td ><nobr>18.19</nobr></td><td ><nobr>11.68</nobr></td><td ><nobr>13.1</nobr></td><td ><nobr>18.08</nobr></td><td ><nobr>22.63</nobr></td><td ><nobr>36.64</nobr></td><td ><nobr>58.7</nobr></td><td ><nobr>77.93</nobr></td><td ><nobr>15.26</nobr></td></tr><tr bgcolor=\\'white\\' align=\\'right\\' valign=\\'middle\\'><td title=\\'滑鼠在此點一下, 可顯示公式說明\\' style=\\'cursor:pointer\\' align=\\'left\\'  OnClick=\\'idDesc21.style.display=(idDesc21.style.display==\"\"?\"none\":\"\");\\'><nobr>營業利益年成長率</nobr><div id=\\'idDesc21\\' style=\\'color:#FF8000;font-size:9pt;display:none;\\'>(當期營業利益–去年同期營業利益) / 去年同期營業利益之絕對值 x 100%</div></td><td ><nobr>48.66</nobr></td><td ><nobr>16.33</nobr></td><td ><nobr>13.97</nobr></td><td ><nobr>11.12</nobr></td><td ><nobr>17.13</nobr></td><td ><nobr>26.46</nobr></td><td ><nobr>39.08</nobr></td><td ><nobr>71.81</nobr></td><td ><nobr>99.98</nobr></td><td ><nobr>15.98</nobr></td></tr><tr bgcolor=\\'white\\' align=\\'right\\' valign=\\'middle\\'><td title=\\'滑鼠在此點一下, 可顯示公式說明\\' style=\\'cursor:pointer\\' align=\\'left\\'  OnClick=\\'idDesc22.style.display=(idDesc22.style.display==\"\"?\"none\":\"\");\\'><nobr>稅前淨利年成長率</nobr><div id=\\'idDesc22\\' style=\\'color:#FF8000;font-size:9pt;display:none;\\'>(當期稅前淨利–去年同期稅前淨利) / 去年同期稅前淨利之絕對值 x 100%</div></td><td ><nobr>46.28</nobr></td><td ><nobr>14.72</nobr></td><td ><nobr>12.07</nobr></td><td ><nobr>9.53</nobr></td><td ><nobr>17.34</nobr></td><td ><nobr>25.1</nobr></td><td ><nobr>38.09</nobr></td><td ><nobr>69.34</nobr></td><td ><nobr>93.82</nobr></td><td ><nobr>15.93</nobr></td></tr><tr bgcolor=\\'white\\' align=\\'right\\' valign=\\'middle\\'><td title=\\'滑鼠在此點一下, 可顯示公式說明\\' style=\\'cursor:pointer\\' align=\\'left\\'  OnClick=\\'idDesc23.style.display=(idDesc23.style.display==\"\"?\"none\":\"\");\\'><nobr>稅後淨利年成長率</nobr><div id=\\'idDesc23\\' style=\\'color:#FF8000;font-size:9pt;display:none;\\'>(當期合併稅後淨利–去年同期合併稅後淨利) / 去年同期合併稅後淨利之絕對值 x 100%</div></td><td ><nobr>45.18</nobr></td><td ><nobr>16.49</nobr></td><td ><nobr>13.9</nobr></td><td ><nobr>11.24</nobr></td><td ><nobr>19.37</nobr></td><td ><nobr>23.04</nobr></td><td ><nobr>35.88</nobr></td><td ><nobr>81.04</nobr></td><td ><nobr>90.7</nobr></td><td ><nobr>16.07</nobr></td></tr><tr bgcolor=\\'white\\' align=\\'right\\' valign=\\'middle\\'><td title=\\'滑鼠在此點一下, 可顯示公式說明\\' style=\\'cursor:pointer\\' align=\\'left\\'  OnClick=\\'idDesc24.style.display=(idDesc24.style.display==\"\"?\"none\":\"\");\\'><nobr>稅後淨利年成長率<span style=\\'color:gray;font-size:9pt;\\'>&nbsp;(母公司)</span></nobr><div id=\\'idDesc24\\' style=\\'color:#FF8000;font-size:9pt;display:none;\\'>(當期稅後淨利–去年同期稅後淨利) / 去年同期稅後淨利之絕對值 x 100%</div></td><td ><nobr>45.13</nobr></td><td ><nobr>16.44</nobr></td><td ><nobr>13.8</nobr></td><td ><nobr>11.2</nobr></td><td ><nobr>19.41</nobr></td><td ><nobr>23.04</nobr></td><td ><nobr>35.86</nobr></td><td ><nobr>80.97</nobr></td><td ><nobr>90.55</nobr></td><td ><nobr>16.05</nobr></td></tr><tr bgcolor=\\'white\\' align=\\'right\\' valign=\\'middle\\'><td title=\\'滑鼠在此點一下, 可顯示公式說明\\' style=\\'cursor:pointer\\' align=\\'left\\'  OnClick=\\'idDesc25.style.display=(idDesc25.style.display==\"\"?\"none\":\"\");\\'><nobr>每股稅後盈餘年成長率</nobr><div id=\\'idDesc25\\' style=\\'color:#FF8000;font-size:9pt;display:none;\\'>(當期每股稅後盈餘–去年同期每股稅後盈餘) / 去年同期每股稅後盈餘之絕對值 x 100%</div></td><td ><nobr>45.08</nobr></td><td ><nobr>16.33</nobr></td><td ><nobr>13.58</nobr></td><td ><nobr>11.16</nobr></td><td ><nobr>19.51</nobr></td><td ><nobr>22.99</nobr></td><td ><nobr>35.9</nobr></td><td ><nobr>81.32</nobr></td><td ><nobr>90.3</nobr></td><td ><nobr>16.06</nobr></td></tr><tr class=\\'bg_h1 fw_normal\\' style=\\'text-align:center;\\'><td style=\\'color:blue;width:25%;\\'><nobr>各項資產佔總資產比重</nobr></td><td><nobr>2022Q1</nobr></td><td><nobr>2021Q4</nobr></td><td><nobr>2021Q3</nobr></td><td><nobr>2021Q2</nobr></td><td><nobr>2021Q1</nobr></td><td><nobr>2020Q4</nobr></td><td><nobr>2020Q3</nobr></td><td><nobr>2020Q2</nobr></td><td><nobr>2020Q1</nobr></td><td><nobr>2019Q4</nobr></td></tr><tr bgcolor=\\'white\\' align=\\'right\\' valign=\\'middle\\'><td title=\\'滑鼠在此點一下, 可顯示公式說明\\' style=\\'cursor:pointer\\' align=\\'left\\'  OnClick=\\'idDesc26.style.display=(idDesc26.style.display==\"\"?\"none\":\"\");\\'><nobr>現金&nbsp;(%)</nobr><div id=\\'idDesc26\\' style=\\'color:#FF8000;font-size:9pt;display:none;\\'>現金及約當現金 / 資產總額 x 100%</div></td><td ><nobr>28.84</nobr></td><td ><nobr>28.59</nobr></td><td ><nobr>25.62</nobr></td><td ><nobr>24.18</nobr></td><td ><nobr>22.77</nobr></td><td ><nobr>23.91</nobr></td><td ><nobr>22.92</nobr></td><td ><nobr>19.1</nobr></td><td ><nobr>18.38</nobr></td><td ><nobr>20.11</nobr></td></tr><tr bgcolor=\\'white\\' align=\\'right\\' valign=\\'middle\\'><td title=\\'滑鼠在此點一下, 可顯示公式說明\\' style=\\'cursor:pointer\\' align=\\'left\\'  OnClick=\\'idDesc27.style.display=(idDesc27.style.display==\"\"?\"none\":\"\");\\'><nobr>應收帳款&nbsp;(%)</nobr><div id=\\'idDesc27\\' style=\\'color:#FF8000;font-size:9pt;display:none;\\'>所有應收款項 / 資產總額 x 100%</div></td><td ><nobr>5.35</nobr></td><td ><nobr>5.32</nobr></td><td ><nobr>5.62</nobr></td><td ><nobr>5.82</nobr></td><td ><nobr>5.74</nobr></td><td ><nobr>5.29</nobr></td><td ><nobr>6.17</nobr></td><td ><nobr>6.21</nobr></td><td ><nobr>6.25</nobr></td><td ><nobr>6.17</nobr></td></tr><tr bgcolor=\\'white\\' align=\\'right\\' valign=\\'middle\\'><td title=\\'滑鼠在此點一下, 可顯示公式說明\\' style=\\'cursor:pointer\\' align=\\'left\\'  OnClick=\\'idDesc28.style.display=(idDesc28.style.display==\"\"?\"none\":\"\");\\'><nobr>存貨&nbsp;(%)</nobr><div id=\\'idDesc28\\' style=\\'color:#FF8000;font-size:9pt;display:none;\\'>存貨 / 資產總額 x 100%</div></td><td ><nobr>5.01</nobr></td><td ><nobr>5.18</nobr></td><td ><nobr>5.47</nobr></td><td ><nobr>5.51</nobr></td><td ><nobr>5.29</nobr></td><td ><nobr>4.98</nobr></td><td ><nobr>4.16</nobr></td><td ><nobr>3.5</nobr></td><td ><nobr>3.34</nobr></td><td ><nobr>3.66</nobr></td></tr><tr bgcolor=\\'white\\' align=\\'right\\' valign=\\'middle\\'><td title=\\'滑鼠在此點一下, 可顯示公式說明\\' style=\\'cursor:pointer\\' align=\\'left\\'  OnClick=\\'idDesc29.style.display=(idDesc29.style.display==\"\"?\"none\":\"\");\\'><nobr>速動資產&nbsp;(%)</nobr><div id=\\'idDesc29\\' style=\\'color:#FF8000;font-size:9pt;display:none;\\'>(現金及約當現金 + 短期投資 + 所有應收款項) / 資產總額 x 100%</div></td><td ><nobr>37.46</nobr></td><td ><nobr>37.22</nobr></td><td ><nobr>34.9</nobr></td><td ><nobr>33.98</nobr></td><td ><nobr>33.03</nobr></td><td ><nobr>33.96</nobr></td><td ><nobr>34.34</nobr></td><td ><nobr>30.92</nobr></td><td ><nobr>30.22</nobr></td><td ><nobr>31.94</nobr></td></tr><tr bgcolor=\\'white\\' align=\\'right\\' valign=\\'middle\\'><td title=\\'滑鼠在此點一下, 可顯示公式說明\\' style=\\'cursor:pointer\\' align=\\'left\\'  OnClick=\\'idDesc30.style.display=(idDesc30.style.display==\"\"?\"none\":\"\");\\'><nobr>流動資產&nbsp;(%)</nobr><div id=\\'idDesc30\\' style=\\'color:#FF8000;font-size:9pt;display:none;\\'>流動資產 / 資產總額 x 100%</div></td><td ><nobr>43.13</nobr></td><td ><nobr>43.14</nobr></td><td ><nobr>41.13</nobr></td><td ><nobr>40.13</nobr></td><td ><nobr>39.05</nobr></td><td ><nobr>39.56</nobr></td><td ><nobr>39.07</nobr></td><td ><nobr>35.12</nobr></td><td ><nobr>34.25</nobr></td><td ><nobr>36.32</nobr></td></tr><tr bgcolor=\\'white\\' align=\\'right\\' valign=\\'middle\\'><td title=\\'滑鼠在此點一下, 可顯示公式說明\\' style=\\'cursor:pointer\\' align=\\'left\\'  OnClick=\\'idDesc31.style.display=(idDesc31.style.display==\"\"?\"none\":\"\");\\'><nobr>基金與投資&nbsp;(%)</nobr><div id=\\'idDesc31\\' style=\\'color:#FF8000;font-size:9pt;display:none;\\'>基金及投資 / 資產總額 x 100%</div></td><td ><nobr>1.15</nobr></td><td ><nobr>0.79</nobr></td><td ><nobr>0.83</nobr></td><td ><nobr>0.94</nobr></td><td ><nobr>1</nobr></td><td ><nobr>1</nobr></td><td ><nobr>1.01</nobr></td><td ><nobr>0.94</nobr></td><td ><nobr>1.32</nobr></td><td ><nobr>1.33</nobr></td></tr><tr bgcolor=\\'white\\' align=\\'right\\' valign=\\'middle\\'><td title=\\'滑鼠在此點一下, 可顯示公式說明\\' style=\\'cursor:pointer\\' align=\\'left\\'  OnClick=\\'idDesc32.style.display=(idDesc32.style.display==\"\"?\"none\":\"\");\\'><nobr>固定資產&nbsp;(%)</nobr><div id=\\'idDesc32\\' style=\\'color:#FF8000;font-size:9pt;display:none;\\'>固定資產 / 資產總額 x 100%</div></td><td ><nobr>53.53</nobr></td><td ><nobr>53.89</nobr></td><td ><nobr>55.87</nobr></td><td ><nobr>56.75</nobr></td><td ><nobr>57.92</nobr></td><td ><nobr>57.35</nobr></td><td ><nobr>57.87</nobr></td><td ><nobr>61.85</nobr></td><td ><nobr>62.3</nobr></td><td ><nobr>60.47</nobr></td></tr><tr bgcolor=\\'white\\' align=\\'right\\' valign=\\'middle\\'><td title=\\'滑鼠在此點一下, 可顯示公式說明\\' style=\\'cursor:pointer\\' align=\\'left\\'  OnClick=\\'idDesc33.style.display=(idDesc33.style.display==\"\"?\"none\":\"\");\\'><nobr>無形資產&nbsp;(%)</nobr><div id=\\'idDesc33\\' style=\\'color:#FF8000;font-size:9pt;display:none;\\'>無形資產 / 資產總額 x 100%</div></td><td ><nobr>0.64</nobr></td><td ><nobr>0.72</nobr></td><td ><nobr>0.77</nobr></td><td ><nobr>0.86</nobr></td><td ><nobr>0.86</nobr></td><td ><nobr>0.93</nobr></td><td ><nobr>1</nobr></td><td ><nobr>1.12</nobr></td><td ><nobr>1.16</nobr></td><td ><nobr>0.91</nobr></td></tr><tr bgcolor=\\'white\\' align=\\'right\\' valign=\\'middle\\'><td title=\\'滑鼠在此點一下, 可顯示公式說明\\' style=\\'cursor:pointer\\' align=\\'left\\'  OnClick=\\'idDesc34.style.display=(idDesc34.style.display==\"\"?\"none\":\"\");\\'><nobr>其他資產&nbsp;(%)</nobr><div id=\\'idDesc34\\' style=\\'color:#FF8000;font-size:9pt;display:none;\\'>其他資產 / 資產總額 x 100%</div></td><td ><nobr>0.2</nobr></td><td ><nobr>0.14</nobr></td><td ><nobr>0.14</nobr></td><td ><nobr>0.15</nobr></td><td ><nobr>0.11</nobr></td><td ><nobr>0.21</nobr></td><td ><nobr>0.2</nobr></td><td ><nobr>0.13</nobr></td><td ><nobr>0.14</nobr></td><td ><nobr>0.17</nobr></td></tr><tr class=\\'bg_h1 fw_normal\\' style=\\'text-align:center;\\'><td style=\\'color:blue;width:25%;\\'><nobr>資產季成長率</nobr></td><td><nobr>2022Q1</nobr></td><td><nobr>2021Q4</nobr></td><td><nobr>2021Q3</nobr></td><td><nobr>2021Q2</nobr></td><td><nobr>2021Q1</nobr></td><td><nobr>2020Q4</nobr></td><td><nobr>2020Q3</nobr></td><td><nobr>2020Q2</nobr></td><td><nobr>2020Q1</nobr></td><td><nobr>2019Q4</nobr></td></tr><tr bgcolor=\\'white\\' align=\\'right\\' valign=\\'middle\\'><td title=\\'滑鼠在此點一下, 可顯示公式說明\\' style=\\'cursor:pointer\\' align=\\'left\\'  OnClick=\\'idDesc35.style.display=(idDesc35.style.display==\"\"?\"none\":\"\");\\'><nobr>現金季成長率</nobr><div id=\\'idDesc35\\' style=\\'color:#FF8000;font-size:9pt;display:none;\\'>(當期現金及約當現金–上一季現金及約當現金) / 上一季現金及約當現金之絕對值 x 100%</div></td><td ><nobr>8.13</nobr></td><td ><nobr>24.73</nobr></td><td ><nobr>14.15</nobr></td><td ><nobr>12.52</nobr></td><td ><nobr>0.69</nobr></td><td ><nobr>9.26</nobr></td><td ><nobr>29.21</nobr></td><td ><nobr>8.55</nobr></td><td style=\\'color:red;\\'><nobr>-5.41</nobr></td><td ><nobr>0.66</nobr></td></tr><tr bgcolor=\\'white\\' align=\\'right\\' valign=\\'middle\\'><td title=\\'滑鼠在此點一下, 可顯示公式說明\\' style=\\'cursor:pointer\\' align=\\'left\\'  OnClick=\\'idDesc36.style.display=(idDesc36.style.display==\"\"?\"none\":\"\");\\'><nobr>應收帳款季成長率</nobr><div id=\\'idDesc36\\' style=\\'color:#FF8000;font-size:9pt;display:none;\\'>(當期應收款項–上一季應收款項) / 上一季應收款項之絕對值 x 100%</div></td><td ><nobr>7.62</nobr></td><td ><nobr>5.94</nobr></td><td ><nobr>4.04</nobr></td><td ><nobr>7.43</nobr></td><td ><nobr>14.68</nobr></td><td style=\\'color:red;\\'><nobr>-10.16</nobr></td><td ><nobr>6.86</nobr></td><td ><nobr>3.89</nobr></td><td ><nobr>4.76</nobr></td><td style=\\'color:red;\\'><nobr>-3.89</nobr></td></tr><tr bgcolor=\\'white\\' align=\\'right\\' valign=\\'middle\\'><td title=\\'滑鼠在此點一下, 可顯示公式說明\\' style=\\'cursor:pointer\\' align=\\'left\\'  OnClick=\\'idDesc37.style.display=(idDesc37.style.display==\"\"?\"none\":\"\");\\'><nobr>存貨季成長率</nobr><div id=\\'idDesc37\\' style=\\'color:#FF8000;font-size:9pt;display:none;\\'>(當期存貨–上一季存貨) / 上一季存貨之絕對值 x 100%</div></td><td ><nobr>3.63</nobr></td><td ><nobr>5.96</nobr></td><td ><nobr>6.92</nobr></td><td ><nobr>10.27</nobr></td><td ><nobr>12.53</nobr></td><td ><nobr>25.43</nobr></td><td ><nobr>27.65</nobr></td><td ><nobr>9.59</nobr></td><td style=\\'color:red;\\'><nobr>-5.67</nobr></td><td style=\\'color:red;\\'><nobr>-14.17</nobr></td></tr><tr bgcolor=\\'white\\' align=\\'right\\' valign=\\'middle\\'><td title=\\'滑鼠在此點一下, 可顯示公式說明\\' style=\\'cursor:pointer\\' align=\\'left\\'  OnClick=\\'idDesc38.style.display=(idDesc38.style.display==\"\"?\"none\":\"\");\\'><nobr>流動資產季成長率</nobr><div id=\\'idDesc38\\' style=\\'color:#FF8000;font-size:9pt;display:none;\\'>(當期流動資產–上一季流動資產) / 上一季流動資產之絕對值 x 100%</div></td><td ><nobr>7.17</nobr></td><td ><nobr>17.25</nobr></td><td ><nobr>10.44</nobr></td><td ><nobr>8.89</nobr></td><td ><nobr>4.36</nobr></td><td ><nobr>6.07</nobr></td><td ><nobr>19.73</nobr></td><td ><nobr>7.17</nobr></td><td style=\\'color:red;\\'><nobr>-2.45</nobr></td><td style=\\'color:red;\\'><nobr>-3.16</nobr></td></tr><tr bgcolor=\\'white\\' align=\\'right\\' valign=\\'middle\\'><td title=\\'滑鼠在此點一下, 可顯示公式說明\\' style=\\'cursor:pointer\\' align=\\'left\\'  OnClick=\\'idDesc39.style.display=(idDesc39.style.display==\"\"?\"none\":\"\");\\'><nobr>基金與投資季成長率</nobr><div id=\\'idDesc39\\' style=\\'color:#FF8000;font-size:9pt;display:none;\\'>(當期基金及投資–上一季基金及投資) / 上一季基金及投資之絕對值 x 100%</div></td><td ><nobr>55.65</nobr></td><td ><nobr>5.97</nobr></td><td style=\\'color:red;\\'><nobr>-4.59</nobr></td><td style=\\'color:red;\\'><nobr>-0.23</nobr></td><td ><nobr>5.06</nobr></td><td ><nobr>4.58</nobr></td><td ><nobr>15.7</nobr></td><td style=\\'color:red;\\'><nobr>-26.15</nobr></td><td ><nobr>2.85</nobr></td><td ><nobr>0.12</nobr></td></tr><tr bgcolor=\\'white\\' align=\\'right\\' valign=\\'middle\\'><td title=\\'滑鼠在此點一下, 可顯示公式說明\\' style=\\'cursor:pointer\\' align=\\'left\\'  OnClick=\\'idDesc40.style.display=(idDesc40.style.display==\"\"?\"none\":\"\");\\'><nobr>固定資產季成長率</nobr><div id=\\'idDesc40\\' style=\\'color:#FF8000;font-size:9pt;display:none;\\'>(當期固定資產–上一季固定資產) / 上一季固定資產之絕對值 x 100%</div></td><td ><nobr>6.44</nobr></td><td ><nobr>7.84</nobr></td><td ><nobr>6.07</nobr></td><td ><nobr>3.81</nobr></td><td ><nobr>6.79</nobr></td><td ><nobr>3.81</nobr></td><td ><nobr>0.7</nobr></td><td ><nobr>3.74</nobr></td><td ><nobr>6.6</nobr></td><td ><nobr>12.68</nobr></td></tr><tr bgcolor=\\'white\\' align=\\'right\\' valign=\\'middle\\'><td title=\\'滑鼠在此點一下, 可顯示公式說明\\' style=\\'cursor:pointer\\' align=\\'left\\'  OnClick=\\'idDesc41.style.display=(idDesc41.style.display==\"\"?\"none\":\"\");\\'><nobr>無形資產季成長率</nobr><div id=\\'idDesc41\\' style=\\'color:#FF8000;font-size:9pt;display:none;\\'>(當期無形資產–上一季無形資產) / 上一季無形資產之絕對值 x 100%</div></td><td style=\\'color:red;\\'><nobr>-4.48</nobr></td><td ><nobr>4.59</nobr></td><td style=\\'color:red;\\'><nobr>-3.36</nobr></td><td ><nobr>6.09</nobr></td><td style=\\'color:red;\\'><nobr>-2.93</nobr></td><td style=\\'color:red;\\'><nobr>-2.17</nobr></td><td style=\\'color:red;\\'><nobr>-3.85</nobr></td><td ><nobr>0.6</nobr></td><td ><nobr>31.86</nobr></td><td ><nobr>14.15</nobr></td></tr><tr bgcolor=\\'white\\' align=\\'right\\' valign=\\'middle\\'><td title=\\'滑鼠在此點一下, 可顯示公式說明\\' style=\\'cursor:pointer\\' align=\\'left\\'  OnClick=\\'idDesc42.style.display=(idDesc42.style.display==\"\"?\"none\":\"\");\\'><nobr>其他資產季成長率</nobr><div id=\\'idDesc42\\' style=\\'color:#FF8000;font-size:9pt;display:none;\\'>(當期其他資產–上一季其他資產) / 上一季其他資產之絕對值 x 100%</div></td><td ><nobr>51.92</nobr></td><td ><nobr>15.49</nobr></td><td style=\\'color:red;\\'><nobr>-2.52</nobr></td><td ><nobr>48.82</nobr></td><td style=\\'color:red;\\'><nobr>-45.89</nobr></td><td ><nobr>9.06</nobr></td><td ><nobr>63.38</nobr></td><td style=\\'color:red;\\'><nobr>-2.59</nobr></td><td style=\\'color:red;\\'><nobr>-13.39</nobr></td><td style=\\'color:red;\\'><nobr>-2.78</nobr></td></tr><tr bgcolor=\\'white\\' align=\\'right\\' valign=\\'middle\\'><td title=\\'滑鼠在此點一下, 可顯示公式說明\\' style=\\'cursor:pointer\\' align=\\'left\\'  OnClick=\\'idDesc43.style.display=(idDesc43.style.display==\"\"?\"none\":\"\");\\'><nobr>資產總額季成長率</nobr><div id=\\'idDesc43\\' style=\\'color:#FF8000;font-size:9pt;display:none;\\'>(當期資產總額–上一季資產總額) / 上一季資產總額之絕對值 x 100%</div></td><td ><nobr>7.17</nobr></td><td ><nobr>11.8</nobr></td><td ><nobr>7.74</nobr></td><td ><nobr>5.95</nobr></td><td ><nobr>5.74</nobr></td><td ><nobr>4.75</nobr></td><td ><nobr>7.63</nobr></td><td ><nobr>4.5</nobr></td><td ><nobr>3.47</nobr></td><td ><nobr>6.12</nobr></td></tr><tr class=\\'bg_h1 fw_normal\\' style=\\'text-align:center;\\'><td style=\\'color:blue;width:25%;\\'><nobr>資產年成長率</nobr></td><td><nobr>2022Q1</nobr></td><td><nobr>2021Q4</nobr></td><td><nobr>2021Q3</nobr></td><td><nobr>2021Q2</nobr></td><td><nobr>2021Q1</nobr></td><td><nobr>2020Q4</nobr></td><td><nobr>2020Q3</nobr></td><td><nobr>2020Q2</nobr></td><td><nobr>2020Q1</nobr></td><td><nobr>2019Q4</nobr></td></tr><tr bgcolor=\\'white\\' align=\\'right\\' valign=\\'middle\\'><td title=\\'滑鼠在此點一下, 可顯示公式說明\\' style=\\'cursor:pointer\\' align=\\'left\\'  OnClick=\\'idDesc44.style.display=(idDesc44.style.display==\"\"?\"none\":\"\");\\'><nobr>現金年成長率</nobr><div id=\\'idDesc44\\' style=\\'color:#FF8000;font-size:9pt;display:none;\\'>(當期現金及約當現金–去年同期現金及約當現金) / 去年同期現金及約當現金之絕對值 x 100%</div></td><td ><nobr>73.24</nobr></td><td ><nobr>61.32</nobr></td><td ><nobr>41.31</nobr></td><td ><nobr>59.96</nobr></td><td ><nobr>54.31</nobr></td><td ><nobr>44.97</nobr></td><td ><nobr>33.54</nobr></td><td style=\\'color:red;\\'><nobr>-28.03</nobr></td><td style=\\'color:red;\\'><nobr>-33.28</nobr></td><td style=\\'color:red;\\'><nobr>-21.19</nobr></td></tr><tr bgcolor=\\'white\\' align=\\'right\\' valign=\\'middle\\'><td title=\\'滑鼠在此點一下, 可顯示公式說明\\' style=\\'cursor:pointer\\' align=\\'left\\'  OnClick=\\'idDesc45.style.display=(idDesc45.style.display==\"\"?\"none\":\"\");\\'><nobr>應收帳款年成長率</nobr><div id=\\'idDesc45\\' style=\\'color:#FF8000;font-size:9pt;display:none;\\'>(當期應收款項–去年同期應收款項) / 去年同期應收款項之絕對值 x 100%</div></td><td ><nobr>27.43</nobr></td><td ><nobr>35.78</nobr></td><td ><nobr>15.14</nobr></td><td ><nobr>18.26</nobr></td><td ><nobr>14.37</nobr></td><td ><nobr>4.48</nobr></td><td ><nobr>11.78</nobr></td><td ><nobr>29.33</nobr></td><td ><nobr>37.17</nobr></td><td ><nobr>8.17</nobr></td></tr><tr bgcolor=\\'white\\' align=\\'right\\' valign=\\'middle\\'><td title=\\'滑鼠在此點一下, 可顯示公式說明\\' style=\\'cursor:pointer\\' align=\\'left\\'  OnClick=\\'idDesc46.style.display=(idDesc46.style.display==\"\"?\"none\":\"\");\\'><nobr>存貨年成長率</nobr><div id=\\'idDesc46\\' style=\\'color:#FF8000;font-size:9pt;display:none;\\'>(當期存貨–去年同期存貨) / 去年同期存貨之絕對值 x 100%</div></td><td ><nobr>29.47</nobr></td><td ><nobr>40.59</nobr></td><td ><nobr>66.41</nobr></td><td ><nobr>98.67</nobr></td><td ><nobr>97.46</nobr></td><td ><nobr>65.52</nobr></td><td ><nobr>13.26</nobr></td><td style=\\'color:red;\\'><nobr>-20.74</nobr></td><td style=\\'color:red;\\'><nobr>-27.98</nobr></td><td style=\\'color:red;\\'><nobr>-19.62</nobr></td></tr><tr bgcolor=\\'white\\' align=\\'right\\' valign=\\'middle\\'><td title=\\'滑鼠在此點一下, 可顯示公式說明\\' style=\\'cursor:pointer\\' align=\\'left\\'  OnClick=\\'idDesc47.style.display=(idDesc47.style.display==\"\"?\"none\":\"\");\\'><nobr>流動資產年成長率</nobr><div id=\\'idDesc47\\' style=\\'color:#FF8000;font-size:9pt;display:none;\\'>(當期流動資產–去年同期流動資產) / 去年同期流動資產之絕對值 x 100%</div></td><td ><nobr>51.1</nobr></td><td ><nobr>47.14</nobr></td><td ><nobr>33.11</nobr></td><td ><nobr>44.31</nobr></td><td ><nobr>42.03</nobr></td><td ><nobr>32.77</nobr></td><td ><nobr>21.22</nobr></td><td style=\\'color:red;\\'><nobr>-14.86</nobr></td><td style=\\'color:red;\\'><nobr>-19.05</nobr></td><td style=\\'color:red;\\'><nobr>-13.56</nobr></td></tr><tr bgcolor=\\'white\\' align=\\'right\\' valign=\\'middle\\'><td title=\\'滑鼠在此點一下, 可顯示公式說明\\' style=\\'cursor:pointer\\' align=\\'left\\'  OnClick=\\'idDesc48.style.display=(idDesc48.style.display==\"\"?\"none\":\"\");\\'><nobr>基金與投資年成長率</nobr><div id=\\'idDesc48\\' style=\\'color:#FF8000;font-size:9pt;display:none;\\'>(當期基金及投資–去年同期基金及投資) / 去年同期基金及投資之絕對值 x 100%</div></td><td ><nobr>57.01</nobr></td><td ><nobr>5.97</nobr></td><td ><nobr>4.59</nobr></td><td ><nobr>26.82</nobr></td><td style=\\'color:red;\\'><nobr>-6.13</nobr></td><td style=\\'color:red;\\'><nobr>-8.1</nobr></td><td style=\\'color:red;\\'><nobr>-12.01</nobr></td><td style=\\'color:red;\\'><nobr>-21.83</nobr></td><td ><nobr>3.31</nobr></td><td ><nobr>2.96</nobr></td></tr><tr bgcolor=\\'white\\' align=\\'right\\' valign=\\'middle\\'><td title=\\'滑鼠在此點一下, 可顯示公式說明\\' style=\\'cursor:pointer\\' align=\\'left\\'  OnClick=\\'idDesc49.style.display=(idDesc49.style.display==\"\"?\"none\":\"\");\\'><nobr>固定資產年成長率</nobr><div id=\\'idDesc49\\' style=\\'color:#FF8000;font-size:9pt;display:none;\\'>(當期固定資產–去年同期固定資產) / 去年同期固定資產之絕對值 x 100%</div></td><td ><nobr>26.4</nobr></td><td ><nobr>26.81</nobr></td><td ><nobr>22.07</nobr></td><td ><nobr>15.89</nobr></td><td ><nobr>15.82</nobr></td><td ><nobr>15.6</nobr></td><td ><nobr>25.49</nobr></td><td ><nobr>30.47</nobr></td><td ><nobr>29.58</nobr></td><td ><nobr>27.76</nobr></td></tr><tr bgcolor=\\'white\\' align=\\'right\\' valign=\\'middle\\'><td title=\\'滑鼠在此點一下, 可顯示公式說明\\' style=\\'cursor:pointer\\' align=\\'left\\'  OnClick=\\'idDesc50.style.display=(idDesc50.style.display==\"\"?\"none\":\"\");\\'><nobr>無形資產年成長率</nobr><div id=\\'idDesc50\\' style=\\'color:#FF8000;font-size:9pt;display:none;\\'>(當期無形資產–去年同期無形資產) / 去年同期無形資產之絕對值 x 100%</div></td><td ><nobr>2.43</nobr></td><td ><nobr>4.09</nobr></td><td style=\\'color:red;\\'><nobr>-2.64</nobr></td><td style=\\'color:red;\\'><nobr>-3.14</nobr></td><td style=\\'color:red;\\'><nobr>-8.15</nobr></td><td ><nobr>24.77</nobr></td><td ><nobr>45.57</nobr></td><td ><nobr>56.54</nobr></td><td ><nobr>51.51</nobr></td><td ><nobr>21.47</nobr></td></tr><tr bgcolor=\\'white\\' align=\\'right\\' valign=\\'middle\\'><td title=\\'滑鼠在此點一下, 可顯示公式說明\\' style=\\'cursor:pointer\\' align=\\'left\\'  OnClick=\\'idDesc51.style.display=(idDesc51.style.display==\"\"?\"none\":\"\");\\'><nobr>其他資產年成長率</nobr><div id=\\'idDesc51\\' style=\\'color:#FF8000;font-size:9pt;display:none;\\'>(當期其他資產–去年同期其他資產) / 去年同期其他資產之絕對值 x 100%</div></td><td ><nobr>154.5</nobr></td><td style=\\'color:red;\\'><nobr>-9.33</nobr></td><td style=\\'color:red;\\'><nobr>-14.38</nobr></td><td ><nobr>43.49</nobr></td><td style=\\'color:red;\\'><nobr>-6.08</nobr></td><td ><nobr>50.32</nobr></td><td ><nobr>34.01</nobr></td><td style=\\'color:red;\\'><nobr>-25.09</nobr></td><td style=\\'color:red;\\'><nobr>-25.41</nobr></td><td ><nobr>16.54</nobr></td></tr><tr bgcolor=\\'white\\' align=\\'right\\' valign=\\'middle\\'><td title=\\'滑鼠在此點一下, 可顯示公式說明\\' style=\\'cursor:pointer\\' align=\\'left\\'  OnClick=\\'idDesc52.style.display=(idDesc52.style.display==\"\"?\"none\":\"\");\\'><nobr>資產總額年成長率</nobr><div id=\\'idDesc52\\' style=\\'color:#FF8000;font-size:9pt;display:none;\\'>(當期資產總額–去年同期資產總額) / 去年同期資產總額之絕對值 x 100%</div></td><td ><nobr>36.78</nobr></td><td ><nobr>34.95</nobr></td><td ><nobr>26.44</nobr></td><td ><nobr>26.31</nobr></td><td ><nobr>24.57</nobr></td><td ><nobr>21.9</nobr></td><td ><nobr>23.49</nobr></td><td ><nobr>9.35</nobr></td><td ><nobr>7.13</nobr></td><td ><nobr>8.36</nobr></td></tr><tr class=\\'bg_h1 fw_normal\\' style=\\'text-align:center;\\'><td style=\\'color:blue;width:25%;\\'><nobr>負債&股東權益佔總資產</nobr></td><td><nobr>2022Q1</nobr></td><td><nobr>2021Q4</nobr></td><td><nobr>2021Q3</nobr></td><td><nobr>2021Q2</nobr></td><td><nobr>2021Q1</nobr></td><td><nobr>2020Q4</nobr></td><td><nobr>2020Q3</nobr></td><td><nobr>2020Q2</nobr></td><td><nobr>2020Q1</nobr></td><td><nobr>2019Q4</nobr></td></tr><tr bgcolor=\\'white\\' align=\\'right\\' valign=\\'middle\\'><td title=\\'滑鼠在此點一下, 可顯示公式說明\\' style=\\'cursor:pointer\\' align=\\'left\\'  OnClick=\\'idDesc53.style.display=(idDesc53.style.display==\"\"?\"none\":\"\");\\'><nobr>應付帳款&nbsp;(%)</nobr><div id=\\'idDesc53\\' style=\\'color:#FF8000;font-size:9pt;display:none;\\'>所有應付款項 / 資產總額 x 100%</div></td><td ><nobr>9.65</nobr></td><td ><nobr>10.67</nobr></td><td ><nobr>10.88</nobr></td><td ><nobr>11.45</nobr></td><td ><nobr>11.55</nobr></td><td ><nobr>13.92</nobr></td><td ><nobr>11.96</nobr></td><td ><nobr>13.14</nobr></td><td ><nobr>13.48</nobr></td><td ><nobr>15.48</nobr></td></tr><tr bgcolor=\\'white\\' align=\\'right\\' valign=\\'middle\\'><td title=\\'滑鼠在此點一下, 可顯示公式說明\\' style=\\'cursor:pointer\\' align=\\'left\\'  OnClick=\\'idDesc54.style.display=(idDesc54.style.display==\"\"?\"none\":\"\");\\'><nobr>流動負債&nbsp;(%)</nobr><div id=\\'idDesc54\\' style=\\'color:#FF8000;font-size:9pt;display:none;\\'>流動負債 / 資產總額 x 100%</div></td><td ><nobr>20.61</nobr></td><td ><nobr>19.85</nobr></td><td ><nobr>19.67</nobr></td><td ><nobr>20.94</nobr></td><td ><nobr>22.67</nobr></td><td ><nobr>22.35</nobr></td><td ><nobr>22.32</nobr></td><td ><nobr>25.11</nobr></td><td ><nobr>25.16</nobr></td><td ><nobr>26.08</nobr></td></tr><tr bgcolor=\\'white\\' align=\\'right\\' valign=\\'middle\\'><td title=\\'滑鼠在此點一下, 可顯示公式說明\\' style=\\'cursor:pointer\\' align=\\'left\\'  OnClick=\\'idDesc55.style.display=(idDesc55.style.display==\"\"?\"none\":\"\");\\'><nobr>長期負債&nbsp;(%)</nobr><div id=\\'idDesc55\\' style=\\'color:#FF8000;font-size:9pt;display:none;\\'>長期負債 / 資產總額 x 100%</div></td><td ><nobr>15.85</nobr></td><td ><nobr>16.46</nobr></td><td ><nobr>13.9</nobr></td><td ><nobr>13.37</nobr></td><td ><nobr>9.57</nobr></td><td ><nobr>9.28</nobr></td><td ><nobr>8.65</nobr></td><td ><nobr>3.37</nobr></td><td ><nobr>1.98</nobr></td><td ><nobr>1.11</nobr></td></tr><tr bgcolor=\\'white\\' align=\\'right\\' valign=\\'middle\\'><td title=\\'滑鼠在此點一下, 可顯示公式說明\\' style=\\'cursor:pointer\\' align=\\'left\\'  OnClick=\\'idDesc56.style.display=(idDesc56.style.display==\"\"?\"none\":\"\");\\'><nobr>其他負債&nbsp;(%)</nobr><div id=\\'idDesc56\\' style=\\'color:#FF8000;font-size:9pt;display:none;\\'>其他負債 / 資產總額 x 100%</div></td><td ><nobr>4.82</nobr></td><td ><nobr>4.81</nobr></td><td ><nobr>3.36</nobr></td><td ><nobr>0.46</nobr></td><td ><nobr>0.48</nobr></td><td ><nobr>0.53</nobr></td><td ><nobr>0.41</nobr></td><td ><nobr>0.44</nobr></td><td ><nobr>0.45</nobr></td><td ><nobr>0.51</nobr></td></tr><tr bgcolor=\\'white\\' align=\\'right\\' valign=\\'middle\\'><td title=\\'滑鼠在此點一下, 可顯示公式說明\\' style=\\'cursor:pointer\\' align=\\'left\\'  OnClick=\\'idDesc57.style.display=(idDesc57.style.display==\"\"?\"none\":\"\");\\'><nobr>負債總額&nbsp;(%)</nobr><div id=\\'idDesc57\\' style=\\'color:#FF8000;font-size:9pt;display:none;\\'>負債總額 / 資產總額 x 100%</div></td><td ><nobr>41.86</nobr></td><td ><nobr>41.73</nobr></td><td ><nobr>37.63</nobr></td><td ><nobr>35.53</nobr></td><td ><nobr>33.51</nobr></td><td ><nobr>32.97</nobr></td><td ><nobr>32.15</nobr></td><td ><nobr>29.71</nobr></td><td ><nobr>28.43</nobr></td><td ><nobr>28.38</nobr></td></tr><tr bgcolor=\\'white\\' align=\\'right\\' valign=\\'middle\\'><td title=\\'滑鼠在此點一下, 可顯示公式說明\\' style=\\'cursor:pointer\\' align=\\'left\\'  OnClick=\\'idDesc58.style.display=(idDesc58.style.display==\"\"?\"none\":\"\");\\'><nobr>普通股股本&nbsp;(%)</nobr><div id=\\'idDesc58\\' style=\\'color:#FF8000;font-size:9pt;display:none;\\'>普通股股本 / 資產總額 x 100%</div></td><td ><nobr>6.49</nobr></td><td ><nobr>6.96</nobr></td><td ><nobr>7.78</nobr></td><td ><nobr>8.38</nobr></td><td ><nobr>8.88</nobr></td><td ><nobr>9.39</nobr></td><td ><nobr>9.84</nobr></td><td ><nobr>10.59</nobr></td><td ><nobr>11.07</nobr></td><td ><nobr>11.45</nobr></td></tr><tr bgcolor=\\'white\\' align=\\'right\\' valign=\\'middle\\'><td title=\\'滑鼠在此點一下, 可顯示公式說明\\' style=\\'cursor:pointer\\' align=\\'left\\'  OnClick=\\'idDesc59.style.display=(idDesc59.style.display==\"\"?\"none\":\"\");\\'><nobr>股東權益總額&nbsp;(%)</nobr><div id=\\'idDesc59\\' style=\\'color:#FF8000;font-size:9pt;display:none;\\'>股東權益總額 / 資產總額 x 100%</div></td><td ><nobr>58.14</nobr></td><td ><nobr>58.27</nobr></td><td ><nobr>62.37</nobr></td><td ><nobr>64.47</nobr></td><td ><nobr>66.49</nobr></td><td ><nobr>67.03</nobr></td><td ><nobr>67.85</nobr></td><td ><nobr>70.29</nobr></td><td ><nobr>71.57</nobr></td><td ><nobr>71.62</nobr></td></tr><tr class=\\'bg_h1 fw_normal\\' style=\\'text-align:center;\\'><td style=\\'color:blue;width:25%;\\'><nobr>負債&股東權益季增減率</nobr></td><td><nobr>2022Q1</nobr></td><td><nobr>2021Q4</nobr></td><td><nobr>2021Q3</nobr></td><td><nobr>2021Q2</nobr></td><td><nobr>2021Q1</nobr></td><td><nobr>2020Q4</nobr></td><td><nobr>2020Q3</nobr></td><td><nobr>2020Q2</nobr></td><td><nobr>2020Q1</nobr></td><td><nobr>2019Q4</nobr></td></tr><tr bgcolor=\\'white\\' align=\\'right\\' valign=\\'middle\\'><td title=\\'滑鼠在此點一下, 可顯示公式說明\\' style=\\'cursor:pointer\\' align=\\'left\\'  OnClick=\\'idDesc60.style.display=(idDesc60.style.display==\"\"?\"none\":\"\");\\'><nobr>應付帳款季成長率</nobr><div id=\\'idDesc60\\' style=\\'color:#FF8000;font-size:9pt;display:none;\\'>(當期流動負債–上一季流動負債) / 上一季應付帳款之絕對值 x 100%</div></td><td style=\\'color:red;\\'><nobr>-3</nobr></td><td ><nobr>9.63</nobr></td><td ><nobr>2.41</nobr></td><td ><nobr>5</nobr></td><td style=\\'color:red;\\'><nobr>-12.27</nobr></td><td ><nobr>21.89</nobr></td><td style=\\'color:red;\\'><nobr>-2</nobr></td><td ><nobr>1.84</nobr></td><td style=\\'color:red;\\'><nobr>-9.9</nobr></td><td ><nobr>26.6</nobr></td></tr><tr bgcolor=\\'white\\' align=\\'right\\' valign=\\'middle\\'><td title=\\'滑鼠在此點一下, 可顯示公式說明\\' style=\\'cursor:pointer\\' align=\\'left\\'  OnClick=\\'idDesc61.style.display=(idDesc61.style.display==\"\"?\"none\":\"\");\\'><nobr>流動負債季成長率</nobr><div id=\\'idDesc61\\' style=\\'color:#FF8000;font-size:9pt;display:none;\\'>(當期流動負債–上一季流動負債) / 上一季流動負債之絕對值 x 100%</div></td><td ><nobr>11.27</nobr></td><td ><nobr>12.79</nobr></td><td ><nobr>1.22</nobr></td><td style=\\'color:red;\\'><nobr>-2.1</nobr></td><td ><nobr>7.21</nobr></td><td ><nobr>4.91</nobr></td><td style=\\'color:red;\\'><nobr>-4.32</nobr></td><td ><nobr>4.3</nobr></td><td style=\\'color:red;\\'><nobr>-0.21</nobr></td><td ><nobr>19.39</nobr></td></tr><tr bgcolor=\\'white\\' align=\\'right\\' valign=\\'middle\\'><td title=\\'滑鼠在此點一下, 可顯示公式說明\\' style=\\'cursor:pointer\\' align=\\'left\\'  OnClick=\\'idDesc62.style.display=(idDesc62.style.display==\"\"?\"none\":\"\");\\'><nobr>長期負債季成長率</nobr><div id=\\'idDesc62\\' style=\\'color:#FF8000;font-size:9pt;display:none;\\'>(當期長期負債–上一季長期負債) / 上一季長期負債之絕對值 x 100%</div></td><td ><nobr>3.16</nobr></td><td ><nobr>32.42</nobr></td><td ><nobr>11.98</nobr></td><td ><nobr>48.01</nobr></td><td ><nobr>9.13</nobr></td><td ><nobr>12.3</nobr></td><td ><nobr>176.6</nobr></td><td ><nobr>77.38</nobr></td><td ><nobr>85.16</nobr></td><td ><nobr>0</nobr></td></tr><tr bgcolor=\\'white\\' align=\\'right\\' valign=\\'middle\\'><td title=\\'滑鼠在此點一下, 可顯示公式說明\\' style=\\'cursor:pointer\\' align=\\'left\\'  OnClick=\\'idDesc63.style.display=(idDesc63.style.display==\"\"?\"none\":\"\");\\'><nobr>其他負債季成長率</nobr><div id=\\'idDesc63\\' style=\\'color:#FF8000;font-size:9pt;display:none;\\'>(當期其他負債–上一季其他負債) / 上一季其他負債之絕對值 x 100%</div></td><td ><nobr>7.47</nobr></td><td ><nobr>60.32</nobr></td><td ><nobr>682.6</nobr></td><td ><nobr>1.66</nobr></td><td style=\\'color:red;\\'><nobr>-3.58</nobr></td><td ><nobr>34.54</nobr></td><td ><nobr>1.28</nobr></td><td ><nobr>2.1</nobr></td><td style=\\'color:red;\\'><nobr>-8.8</nobr></td><td style=\\'color:red;\\'><nobr>-1.89</nobr></td></tr><tr bgcolor=\\'white\\' align=\\'right\\' valign=\\'middle\\'><td title=\\'滑鼠在此點一下, 可顯示公式說明\\' style=\\'cursor:pointer\\' align=\\'left\\'  OnClick=\\'idDesc64.style.display=(idDesc64.style.display==\"\"?\"none\":\"\");\\'><nobr>負債總額季成長率</nobr><div id=\\'idDesc64\\' style=\\'color:#FF8000;font-size:9pt;display:none;\\'>(當期負債總額–上一季負債總額) / 上一季負債總額之絕對值 x 100%</div></td><td ><nobr>7.49</nobr></td><td ><nobr>23.99</nobr></td><td ><nobr>14.12</nobr></td><td ><nobr>12.34</nobr></td><td ><nobr>7.48</nobr></td><td ><nobr>7.41</nobr></td><td ><nobr>16.48</nobr></td><td ><nobr>9.18</nobr></td><td ><nobr>3.67</nobr></td><td ><nobr>17.55</nobr></td></tr><tr bgcolor=\\'white\\' align=\\'right\\' valign=\\'middle\\'><td title=\\'滑鼠在此點一下, 可顯示公式說明\\' style=\\'cursor:pointer\\' align=\\'left\\'  OnClick=\\'idDesc65.style.display=(idDesc65.style.display==\"\"?\"none\":\"\");\\'><nobr>普通股股本季成長率</nobr><div id=\\'idDesc65\\' style=\\'color:#FF8000;font-size:9pt;display:none;\\'>(當期普通股股本–上一季普通股股本) / 上一季普通股股本之絕對值 x 100%</div></td><td ><nobr>0.01</nobr></td><td ><nobr>0</nobr></td><td ><nobr>0</nobr></td><td ><nobr>0</nobr></td><td ><nobr>0</nobr></td><td ><nobr>0</nobr></td><td ><nobr>0</nobr></td><td ><nobr>0</nobr></td><td ><nobr>0</nobr></td><td ><nobr>0</nobr></td></tr><tr bgcolor=\\'white\\' align=\\'right\\' valign=\\'middle\\'><td title=\\'滑鼠在此點一下, 可顯示公式說明\\' style=\\'cursor:pointer\\' align=\\'left\\'  OnClick=\\'idDesc66.style.display=(idDesc66.style.display==\"\"?\"none\":\"\");\\'><nobr>股東權益總額季成長率</nobr><div id=\\'idDesc66\\' style=\\'color:#FF8000;font-size:9pt;display:none;\\'>(當期股東權益總額–上一季股東權益總額) / 上一季股東權益總額之絕對值 x 100%</div></td><td ><nobr>6.94</nobr></td><td ><nobr>4.45</nobr></td><td ><nobr>4.23</nobr></td><td ><nobr>2.73</nobr></td><td ><nobr>4.88</nobr></td><td ><nobr>3.49</nobr></td><td ><nobr>3.9</nobr></td><td ><nobr>2.63</nobr></td><td ><nobr>3.39</nobr></td><td ><nobr>2.18</nobr></td></tr><tr class=\\'bg_h1 fw_normal\\' style=\\'text-align:center;\\'><td style=\\'color:blue;width:25%;\\'><nobr>負債&股東權益年增減率</nobr></td><td><nobr>2022Q1</nobr></td><td><nobr>2021Q4</nobr></td><td><nobr>2021Q3</nobr></td><td><nobr>2021Q2</nobr></td><td><nobr>2021Q1</nobr></td><td><nobr>2020Q4</nobr></td><td><nobr>2020Q3</nobr></td><td><nobr>2020Q2</nobr></td><td><nobr>2020Q1</nobr></td><td><nobr>2019Q4</nobr></td></tr><tr bgcolor=\\'white\\' align=\\'right\\' valign=\\'middle\\'><td title=\\'滑鼠在此點一下, 可顯示公式說明\\' style=\\'cursor:pointer\\' align=\\'left\\'  OnClick=\\'idDesc67.style.display=(idDesc67.style.display==\"\"?\"none\":\"\");\\'><nobr>應付帳款年成長率</nobr><div id=\\'idDesc67\\' style=\\'color:#FF8000;font-size:9pt;display:none;\\'>(當期應付帳款–去年同期應付帳款) / 去年同期應付帳款之絕對值 x 100%</div></td><td ><nobr>14.34</nobr></td><td ><nobr>3.41</nobr></td><td ><nobr>14.98</nobr></td><td ><nobr>10.04</nobr></td><td ><nobr>6.72</nobr></td><td ><nobr>9.62</nobr></td><td ><nobr>13.85</nobr></td><td style=\\'color:red;\\'><nobr>-20.71</nobr></td><td ><nobr>123.1</nobr></td><td ><nobr>202.4</nobr></td></tr><tr bgcolor=\\'white\\' align=\\'right\\' valign=\\'middle\\'><td title=\\'滑鼠在此點一下, 可顯示公式說明\\' style=\\'cursor:pointer\\' align=\\'left\\'  OnClick=\\'idDesc68.style.display=(idDesc68.style.display==\"\"?\"none\":\"\");\\'><nobr>流動負債年成長率</nobr><div id=\\'idDesc68\\' style=\\'color:#FF8000;font-size:9pt;display:none;\\'>(當期流動負債–去年同期流動負債) / 去年同期流動負債之絕對值 x 100%</div></td><td ><nobr>24.37</nobr></td><td ><nobr>19.83</nobr></td><td ><nobr>11.45</nobr></td><td ><nobr>5.36</nobr></td><td ><nobr>12.25</nobr></td><td ><nobr>4.47</nobr></td><td ><nobr>18.89</nobr></td><td style=\\'color:red;\\'><nobr>-1.2</nobr></td><td ><nobr>55.83</nobr></td><td ><nobr>73.47</nobr></td></tr><tr bgcolor=\\'white\\' align=\\'right\\' valign=\\'middle\\'><td title=\\'滑鼠在此點一下, 可顯示公式說明\\' style=\\'cursor:pointer\\' align=\\'left\\'  OnClick=\\'idDesc69.style.display=(idDesc69.style.display==\"\"?\"none\":\"\");\\'><nobr>長期負債年成長率</nobr><div id=\\'idDesc69\\' style=\\'color:#FF8000;font-size:9pt;display:none;\\'>(當期長期負債–去年同期長期負債) / 去年同期長期負債之絕對值 x 100%</div></td><td ><nobr>126.4</nobr></td><td ><nobr>139.5</nobr></td><td ><nobr>103.1</nobr></td><td ><nobr>401.7</nobr></td><td ><nobr>501.3</nobr></td><td ><nobr>920.2</nobr></td><td ><nobr>808.5</nobr></td><td ><nobr>133.5</nobr></td><td ><nobr>31.66</nobr></td><td style=\\'color:red;\\'><nobr>-55.89</nobr></td></tr><tr bgcolor=\\'white\\' align=\\'right\\' valign=\\'middle\\'><td title=\\'滑鼠在此點一下, 可顯示公式說明\\' style=\\'cursor:pointer\\' align=\\'left\\'  OnClick=\\'idDesc70.style.display=(idDesc70.style.display==\"\"?\"none\":\"\");\\'><nobr>其他負債年成長率</nobr><div id=\\'idDesc70\\' style=\\'color:#FF8000;font-size:9pt;display:none;\\'>(當期其他負債–去年同期其他負債) / 去年同期其他負債之絕對值 x 100%</div></td><td ><nobr>1271</nobr></td><td ><nobr>1130</nobr></td><td ><nobr>932.1</nobr></td><td ><nobr>33.56</nobr></td><td ><nobr>34.14</nobr></td><td ><nobr>26.88</nobr></td><td style=\\'color:red;\\'><nobr>-7.48</nobr></td><td style=\\'color:red;\\'><nobr>-9.45</nobr></td><td style=\\'color:red;\\'><nobr>-20.87</nobr></td><td style=\\'color:red;\\'><nobr>-23.19</nobr></td></tr><tr bgcolor=\\'white\\' align=\\'right\\' valign=\\'middle\\'><td title=\\'滑鼠在此點一下, 可顯示公式說明\\' style=\\'cursor:pointer\\' align=\\'left\\'  OnClick=\\'idDesc71.style.display=(idDesc71.style.display==\"\"?\"none\":\"\");\\'><nobr>負債總額年成長率</nobr><div id=\\'idDesc71\\' style=\\'color:#FF8000;font-size:9pt;display:none;\\'>(當期負債總額–去年同期負債總額) / 去年同期負債總額之絕對值 x 100%</div></td><td ><nobr>70.86</nobr></td><td ><nobr>70.84</nobr></td><td ><nobr>48</nobr></td><td ><nobr>51.05</nobr></td><td ><nobr>46.81</nobr></td><td ><nobr>41.6</nobr></td><td ><nobr>54.97</nobr></td><td ><nobr>6.21</nobr></td><td ><nobr>50.09</nobr></td><td ><nobr>55.76</nobr></td></tr><tr bgcolor=\\'white\\' align=\\'right\\' valign=\\'middle\\'><td title=\\'滑鼠在此點一下, 可顯示公式說明\\' style=\\'cursor:pointer\\' align=\\'left\\'  OnClick=\\'idDesc72.style.display=(idDesc72.style.display==\"\"?\"none\":\"\");\\'><nobr>普通股股本年成長率</nobr><div id=\\'idDesc72\\' style=\\'color:#FF8000;font-size:9pt;display:none;\\'>(當期普通股股本–去年同期普通股股本) / 去年同期普通股股本之絕對值 x 100%</div></td><td ><nobr>0.01</nobr></td><td ><nobr>0</nobr></td><td ><nobr>0</nobr></td><td ><nobr>0</nobr></td><td ><nobr>0</nobr></td><td ><nobr>0</nobr></td><td ><nobr>0</nobr></td><td ><nobr>0</nobr></td><td ><nobr>0</nobr></td><td ><nobr>0</nobr></td></tr><tr bgcolor=\\'white\\' align=\\'right\\' valign=\\'middle\\'><td title=\\'滑鼠在此點一下, 可顯示公式說明\\' style=\\'cursor:pointer\\' align=\\'left\\'  OnClick=\\'idDesc73.style.display=(idDesc73.style.display==\"\"?\"none\":\"\");\\'><nobr>股東權益總額年成長率</nobr><div id=\\'idDesc73\\' style=\\'color:#FF8000;font-size:9pt;display:none;\\'>(當期股東權益總額–去年同期股東權益總額) / 去年同期股東權益總額之絕對值 x 100%</div></td><td ><nobr>19.6</nobr></td><td ><nobr>17.3</nobr></td><td ><nobr>16.22</nobr></td><td ><nobr>15.85</nobr></td><td ><nobr>15.74</nobr></td><td ><nobr>14.09</nobr></td><td ><nobr>12.65</nobr></td><td ><nobr>10.73</nobr></td><td style=\\'color:red;\\'><nobr>-3.81</nobr></td><td style=\\'color:red;\\'><nobr>-3.3</nobr></td></tr><tr class=\\'bg_h1 fw_normal\\' style=\\'text-align:center;\\'><td style=\\'color:blue;width:25%;\\'><nobr>償債能力</nobr></td><td><nobr>2022Q1</nobr></td><td><nobr>2021Q4</nobr></td><td><nobr>2021Q3</nobr></td><td><nobr>2021Q2</nobr></td><td><nobr>2021Q1</nobr></td><td><nobr>2020Q4</nobr></td><td><nobr>2020Q3</nobr></td><td><nobr>2020Q2</nobr></td><td><nobr>2020Q1</nobr></td><td><nobr>2019Q4</nobr></td></tr><tr bgcolor=\\'white\\' align=\\'right\\' valign=\\'middle\\'><td title=\\'滑鼠在此點一下, 可顯示公式說明\\' style=\\'cursor:pointer\\' align=\\'left\\'  OnClick=\\'idDesc74.style.display=(idDesc74.style.display==\"\"?\"none\":\"\");\\'><nobr>現金比</nobr><div id=\\'idDesc74\\' style=\\'color:#FF8000;font-size:9pt;display:none;\\'>現金及約當現金 / 流動負債 x 100%</div></td><td ><nobr>139.9</nobr></td><td ><nobr>144</nobr></td><td ><nobr>130.2</nobr></td><td ><nobr>115.5</nobr></td><td ><nobr>100.5</nobr></td><td ><nobr>107</nobr></td><td ><nobr>102.7</nobr></td><td ><nobr>76.06</nobr></td><td ><nobr>73.08</nobr></td><td ><nobr>77.09</nobr></td></tr><tr bgcolor=\\'white\\' align=\\'right\\' valign=\\'middle\\'><td title=\\'滑鼠在此點一下, 可顯示公式說明\\' style=\\'cursor:pointer\\' align=\\'left\\'  OnClick=\\'idDesc75.style.display=(idDesc75.style.display==\"\"?\"none\":\"\");\\'><nobr>速動比</nobr><div id=\\'idDesc75\\' style=\\'color:#FF8000;font-size:9pt;display:none;\\'>速動資產 / 流動負債 x 100%</div></td><td ><nobr>181.7</nobr></td><td ><nobr>187.5</nobr></td><td ><nobr>177.4</nobr></td><td ><nobr>162.2</nobr></td><td ><nobr>145.7</nobr></td><td ><nobr>151.9</nobr></td><td ><nobr>153.9</nobr></td><td ><nobr>123.2</nobr></td><td ><nobr>120.1</nobr></td><td ><nobr>122.4</nobr></td></tr><tr bgcolor=\\'white\\' align=\\'right\\' valign=\\'middle\\'><td title=\\'滑鼠在此點一下, 可顯示公式說明\\' style=\\'cursor:pointer\\' align=\\'left\\'  OnClick=\\'idDesc76.style.display=(idDesc76.style.display==\"\"?\"none\":\"\");\\'><nobr>流動比</nobr><div id=\\'idDesc76\\' style=\\'color:#FF8000;font-size:9pt;display:none;\\'>流動資產 / 流動負債 x 100%</div></td><td ><nobr>209.3</nobr></td><td ><nobr>217.3</nobr></td><td ><nobr>209.1</nobr></td><td ><nobr>191.6</nobr></td><td ><nobr>172.3</nobr></td><td ><nobr>177</nobr></td><td ><nobr>175</nobr></td><td ><nobr>139.9</nobr></td><td ><nobr>136.1</nobr></td><td ><nobr>139.3</nobr></td></tr><tr bgcolor=\\'white\\' align=\\'right\\' valign=\\'middle\\'><td title=\\'滑鼠在此點一下, 可顯示公式說明\\' style=\\'cursor:pointer\\' align=\\'left\\'  OnClick=\\'idDesc77.style.display=(idDesc77.style.display==\"\"?\"none\":\"\");\\'><nobr>利息保障倍數</nobr><div id=\\'idDesc77\\' style=\\'color:#FF8000;font-size:9pt;display:none;\\'>(稅前淨利 + 支付利息) / 支付利息</div></td><td ><nobr>107</nobr></td><td ><nobr>86.03</nobr></td><td ><nobr>131.3</nobr></td><td ><nobr>132.7</nobr></td><td ><nobr>201.8</nobr></td><td ><nobr>210.6</nobr></td><td ><nobr>416.7</nobr></td><td ><nobr>334.4</nobr></td><td ><nobr>250.1</nobr></td><td ><nobr>201.1</nobr></td></tr><tr bgcolor=\\'white\\' align=\\'right\\' valign=\\'middle\\'><td title=\\'滑鼠在此點一下, 可顯示公式說明\\' style=\\'cursor:pointer\\' align=\\'left\\'  OnClick=\\'idDesc78.style.display=(idDesc78.style.display==\"\"?\"none\":\"\");\\'><nobr>現金流量比<span style=\\'color:gray;font-size:9pt;\\'>&nbsp;(當季)</span></nobr><div id=\\'idDesc78\\' style=\\'color:#FF8000;font-size:9pt;display:none;\\'>營業活動淨現金流量 / 流動負債 x 100%</div></td><td ><nobr>45.23</nobr></td><td ><nobr>51.14</nobr></td><td ><nobr>48.61</nobr></td><td ><nobr>28.94</nobr></td><td ><nobr>34.43</nobr></td><td ><nobr>41.99</nobr></td><td ><nobr>32.33</nobr></td><td ><nobr>27.71</nobr></td><td ><nobr>34.44</nobr></td><td ><nobr>34.36</nobr></td></tr><tr bgcolor=\\'white\\' align=\\'right\\' valign=\\'middle\\'><td title=\\'滑鼠在此點一下, 可顯示公式說明\\' style=\\'cursor:pointer\\' align=\\'left\\'  OnClick=\\'idDesc79.style.display=(idDesc79.style.display==\"\"?\"none\":\"\");\\'><nobr>現金流量比<span style=\\'color:gray;font-size:9pt;\\'>&nbsp;(年預估)</span></nobr><div id=\\'idDesc79\\' style=\\'color:#FF8000;font-size:9pt;display:none;\\'>營業活動淨現金流量 / 流動負債 x 100% x 4</div></td><td ><nobr>180.9</nobr></td><td ><nobr>204.6</nobr></td><td ><nobr>194.4</nobr></td><td ><nobr>115.7</nobr></td><td ><nobr>137.7</nobr></td><td ><nobr>168</nobr></td><td ><nobr>129.3</nobr></td><td ><nobr>110.8</nobr></td><td ><nobr>137.8</nobr></td><td ><nobr>137.4</nobr></td></tr><tr class=\\'bg_h1 fw_normal\\' style=\\'text-align:center;\\'><td style=\\'color:blue;width:25%;\\'><nobr>經營能力</nobr></td><td><nobr>2022Q1</nobr></td><td><nobr>2021Q4</nobr></td><td><nobr>2021Q3</nobr></td><td><nobr>2021Q2</nobr></td><td><nobr>2021Q1</nobr></td><td><nobr>2020Q4</nobr></td><td><nobr>2020Q3</nobr></td><td><nobr>2020Q2</nobr></td><td><nobr>2020Q1</nobr></td><td><nobr>2019Q4</nobr></td></tr><tr bgcolor=\\'white\\' align=\\'right\\' valign=\\'middle\\'><td title=\\'滑鼠在此點一下, 可顯示公式說明\\' style=\\'cursor:pointer\\' align=\\'left\\'  OnClick=\\'idDesc80.style.display=(idDesc80.style.display==\"\"?\"none\":\"\");\\'><nobr>營業成本率</nobr><div id=\\'idDesc80\\' style=\\'color:#FF8000;font-size:9pt;display:none;\\'>營業成本 / 營業收入 x 100%</div></td><td ><nobr>44.37</nobr></td><td ><nobr>47.34</nobr></td><td ><nobr>48.7</nobr></td><td ><nobr>49.97</nobr></td><td ><nobr>47.62</nobr></td><td ><nobr>46</nobr></td><td ><nobr>46.55</nobr></td><td ><nobr>47.01</nobr></td><td ><nobr>48.24</nobr></td><td ><nobr>49.82</nobr></td></tr><tr bgcolor=\\'white\\' align=\\'right\\' valign=\\'middle\\'><td title=\\'滑鼠在此點一下, 可顯示公式說明\\' style=\\'cursor:pointer\\' align=\\'left\\'  OnClick=\\'idDesc81.style.display=(idDesc81.style.display==\"\"?\"none\":\"\");\\'><nobr>營業費用率</nobr><div id=\\'idDesc81\\' style=\\'color:#FF8000;font-size:9pt;display:none;\\'>營業費用 / 營業收入 x 100%</div></td><td ><nobr>10.06</nobr></td><td ><nobr>10.95</nobr></td><td ><nobr>10.07</nobr></td><td ><nobr>10.89</nobr></td><td ><nobr>10.84</nobr></td><td ><nobr>10.54</nobr></td><td ><nobr>11.35</nobr></td><td ><nobr>10.79</nobr></td><td ><nobr>10.38</nobr></td><td ><nobr>11.02</nobr></td></tr><tr bgcolor=\\'white\\' align=\\'right\\' valign=\\'middle\\'><td title=\\'滑鼠在此點一下, 可顯示公式說明\\' style=\\'cursor:pointer\\' align=\\'left\\'  OnClick=\\'idDesc82.style.display=(idDesc82.style.display==\"\"?\"none\":\"\");\\'><nobr>應收帳款週轉率&nbsp;(次/年)</nobr><div id=\\'idDesc82\\' style=\\'color:#FF8000;font-size:9pt;display:none;\\'>營業收入 / ((期初應收帳款 + 期末應收帳款) / 2) x 4</div></td><td ><nobr>9.54</nobr></td><td ><nobr>9.09</nobr></td><td ><nobr>9.03</nobr></td><td ><nobr>8.57</nobr></td><td ><nobr>9.24</nobr></td><td ><nobr>9.37</nobr></td><td ><nobr>9.06</nobr></td><td ><nobr>8.32</nobr></td><td ><nobr>8.68</nobr></td><td ><nobr>8.9</nobr></td></tr><tr bgcolor=\\'white\\' align=\\'right\\' valign=\\'middle\\'><td title=\\'滑鼠在此點一下, 可顯示公式說明\\' style=\\'cursor:pointer\\' align=\\'left\\'  OnClick=\\'idDesc83.style.display=(idDesc83.style.display==\"\"?\"none\":\"\");\\'><nobr>應收款項收現日數&nbsp;(日)</nobr><div id=\\'idDesc83\\' style=\\'color:#FF8000;font-size:9pt;display:none;\\'>365(日) / 應收帳款週轉率</div></td><td ><nobr>38.26</nobr></td><td ><nobr>40.15</nobr></td><td ><nobr>40.4</nobr></td><td ><nobr>42.6</nobr></td><td ><nobr>39.48</nobr></td><td ><nobr>38.96</nobr></td><td ><nobr>40.3</nobr></td><td ><nobr>43.86</nobr></td><td ><nobr>42.06</nobr></td><td ><nobr>41.03</nobr></td></tr><tr bgcolor=\\'white\\' align=\\'right\\' valign=\\'middle\\'><td title=\\'滑鼠在此點一下, 可顯示公式說明\\' style=\\'cursor:pointer\\' align=\\'left\\'  OnClick=\\'idDesc84.style.display=(idDesc84.style.display==\"\"?\"none\":\"\");\\'><nobr>應付帳款週轉率&nbsp;(次/年)</nobr><div id=\\'idDesc84\\' style=\\'color:#FF8000;font-size:9pt;display:none;\\'>營業成本 / ((期初應付帳款 + 期末應付帳款) / 2) x 4</div></td><td ><nobr>2.23</nobr></td><td ><nobr>2.18</nobr></td><td ><nobr>2.25</nobr></td><td ><nobr>2.15</nobr></td><td ><nobr>1.91</nobr></td><td ><nobr>1.9</nobr></td><td ><nobr>2.08</nobr></td><td ><nobr>1.83</nobr></td><td ><nobr>1.8</nobr></td><td ><nobr>2.01</nobr></td></tr><tr bgcolor=\\'white\\' align=\\'right\\' valign=\\'middle\\'><td title=\\'滑鼠在此點一下, 可顯示公式說明\\' style=\\'cursor:pointer\\' align=\\'left\\'  OnClick=\\'idDesc85.style.display=(idDesc85.style.display==\"\"?\"none\":\"\");\\'><nobr>應付款項付現日數&nbsp;(日)</nobr><div id=\\'idDesc85\\' style=\\'color:#FF8000;font-size:9pt;display:none;\\'>365(日) / 應付帳款週轉率</div></td><td ><nobr>163.9</nobr></td><td ><nobr>167.1</nobr></td><td ><nobr>161.9</nobr></td><td ><nobr>169.6</nobr></td><td ><nobr>190.7</nobr></td><td ><nobr>191.9</nobr></td><td ><nobr>175.1</nobr></td><td ><nobr>199.1</nobr></td><td ><nobr>203</nobr></td><td ><nobr>181.2</nobr></td></tr><tr bgcolor=\\'white\\' align=\\'right\\' valign=\\'middle\\'><td title=\\'滑鼠在此點一下, 可顯示公式說明\\' style=\\'cursor:pointer\\' align=\\'left\\'  OnClick=\\'idDesc86.style.display=(idDesc86.style.display==\"\"?\"none\":\"\");\\'><nobr>存貨週轉率&nbsp;(次/年)</nobr><div id=\\'idDesc86\\' style=\\'color:#FF8000;font-size:9pt;display:none;\\'>營業成本 / ((期初存貨 + 期末存貨) / 2) x 4</div></td><td ><nobr>4.43</nobr></td><td ><nobr>4.42</nobr></td><td ><nobr>4.58</nobr></td><td ><nobr>4.58</nobr></td><td ><nobr>4.73</nobr></td><td ><nobr>5.39</nobr></td><td ><nobr>6.8</nobr></td><td ><nobr>7.12</nobr></td><td ><nobr>7.43</nobr></td><td ><nobr>7.04</nobr></td></tr><tr bgcolor=\\'white\\' align=\\'right\\' valign=\\'middle\\'><td title=\\'滑鼠在此點一下, 可顯示公式說明\\' style=\\'cursor:pointer\\' align=\\'left\\'  OnClick=\\'idDesc87.style.display=(idDesc87.style.display==\"\"?\"none\":\"\");\\'><nobr>平均售貨日數&nbsp;(日)</nobr><div id=\\'idDesc87\\' style=\\'color:#FF8000;font-size:9pt;display:none;\\'>365(日) / 存貨週轉率</div></td><td ><nobr>82.34</nobr></td><td ><nobr>82.55</nobr></td><td ><nobr>79.69</nobr></td><td ><nobr>79.74</nobr></td><td ><nobr>77.18</nobr></td><td ><nobr>67.73</nobr></td><td ><nobr>53.7</nobr></td><td ><nobr>51.24</nobr></td><td ><nobr>49.11</nobr></td><td ><nobr>51.87</nobr></td></tr><tr bgcolor=\\'white\\' align=\\'right\\' valign=\\'middle\\'><td title=\\'滑鼠在此點一下, 可顯示公式說明\\' style=\\'cursor:pointer\\' align=\\'left\\'  OnClick=\\'idDesc88.style.display=(idDesc88.style.display==\"\"?\"none\":\"\");\\'><nobr>固定資產週轉率&nbsp;(次/年)</nobr><div id=\\'idDesc88\\' style=\\'color:#FF8000;font-size:9pt;display:none;\\'>營業收入 / ((期初固定資產 + 期末固定資產) / 2) x 4</div></td><td ><nobr>0.95</nobr></td><td ><nobr>0.91</nobr></td><td ><nobr>0.92</nobr></td><td ><nobr>0.86</nobr></td><td ><nobr>0.89</nobr></td><td ><nobr>0.93</nobr></td><td ><nobr>0.94</nobr></td><td ><nobr>0.84</nobr></td><td ><nobr>0.88</nobr></td><td ><nobr>0.98</nobr></td></tr><tr bgcolor=\\'white\\' align=\\'right\\' valign=\\'middle\\'><td title=\\'滑鼠在此點一下, 可顯示公式說明\\' style=\\'cursor:pointer\\' align=\\'left\\'  OnClick=\\'idDesc89.style.display=(idDesc89.style.display==\"\"?\"none\":\"\");\\'><nobr>總資產週轉率&nbsp;(次/年)</nobr><div id=\\'idDesc89\\' style=\\'color:#FF8000;font-size:9pt;display:none;\\'>營業收入 / ((期初資產總額 + 期末資產總額) / 2) x 4</div></td><td ><nobr>0.51</nobr></td><td ><nobr>0.5</nobr></td><td ><nobr>0.52</nobr></td><td ><nobr>0.5</nobr></td><td ><nobr>0.51</nobr></td><td ><nobr>0.54</nobr></td><td ><nobr>0.56</nobr></td><td ><nobr>0.52</nobr></td><td ><nobr>0.54</nobr></td><td ><nobr>0.58</nobr></td></tr><tr bgcolor=\\'white\\' align=\\'right\\' valign=\\'middle\\'><td title=\\'滑鼠在此點一下, 可顯示公式說明\\' style=\\'cursor:pointer\\' align=\\'left\\'  OnClick=\\'idDesc90.style.display=(idDesc90.style.display==\"\"?\"none\":\"\");\\'><nobr>淨值週轉率&nbsp;(次/年)</nobr><div id=\\'idDesc90\\' style=\\'color:#FF8000;font-size:9pt;display:none;\\'>營業收入 / ((期初股東權益總額 + 期末股東權益總額) / 2) x 4</div></td><td ><nobr>0.87</nobr></td><td ><nobr>0.83</nobr></td><td ><nobr>0.81</nobr></td><td ><nobr>0.76</nobr></td><td ><nobr>0.76</nobr></td><td ><nobr>0.79</nobr></td><td ><nobr>0.81</nobr></td><td ><nobr>0.73</nobr></td><td ><nobr>0.75</nobr></td><td ><nobr>0.79</nobr></td></tr><tr bgcolor=\\'white\\' align=\\'right\\' valign=\\'middle\\'><td title=\\'滑鼠在此點一下, 可顯示公式說明\\' style=\\'cursor:pointer\\' align=\\'left\\'  OnClick=\\'idDesc91.style.display=(idDesc91.style.display==\"\"?\"none\":\"\");\\'><nobr>應收帳款佔營收比率<span style=\\'color:gray;font-size:9pt;\\'>&nbsp;(當季)</span></nobr><div id=\\'idDesc91\\' style=\\'color:#FF8000;font-size:9pt;display:none;\\'>當季應收帳款 / 當季營業收入 x 100%</div></td><td ><nobr>43.47</nobr></td><td ><nobr>45.27</nobr></td><td ><nobr>45.15</nobr></td><td ><nobr>48.36</nobr></td><td ><nobr>46.23</nobr></td><td ><nobr>40.41</nobr></td><td ><nobr>45.62</nobr></td><td ><nobr>48.98</nobr></td><td ><nobr>47.16</nobr></td><td ><nobr>44.08</nobr></td></tr><tr bgcolor=\\'white\\' align=\\'right\\' valign=\\'middle\\'><td title=\\'滑鼠在此點一下, 可顯示公式說明\\' style=\\'cursor:pointer\\' align=\\'left\\'  OnClick=\\'idDesc92.style.display=(idDesc92.style.display==\"\"?\"none\":\"\");\\'><nobr>應收帳款佔營收比率<span style=\\'color:gray;font-size:9pt;\\'>&nbsp;(年預估)</span></nobr><div id=\\'idDesc92\\' style=\\'color:#FF8000;font-size:9pt;display:none;\\'>當季應收帳款 / (當季營業收入 x 4) x 100%</div></td><td ><nobr>10.87</nobr></td><td ><nobr>11.32</nobr></td><td ><nobr>11.29</nobr></td><td ><nobr>12.09</nobr></td><td ><nobr>11.56</nobr></td><td ><nobr>10.1</nobr></td><td ><nobr>11.41</nobr></td><td ><nobr>12.25</nobr></td><td ><nobr>11.79</nobr></td><td ><nobr>11.02</nobr></td></tr><tr bgcolor=\\'white\\' align=\\'right\\' valign=\\'middle\\'><td title=\\'滑鼠在此點一下, 可顯示公式說明\\' style=\\'cursor:pointer\\' align=\\'left\\'  OnClick=\\'idDesc93.style.display=(idDesc93.style.display==\"\"?\"none\":\"\");\\'><nobr>存貨佔營收比率<span style=\\'color:gray;font-size:9pt;\\'>&nbsp;(當季)</span></nobr><div id=\\'idDesc93\\' style=\\'color:#FF8000;font-size:9pt;display:none;\\'>當季存貨 / 當季營業收入 x 100%</div></td><td ><nobr>40.75</nobr></td><td ><nobr>44.07</nobr></td><td ><nobr>43.95</nobr></td><td ><nobr>45.8</nobr></td><td ><nobr>42.65</nobr></td><td ><nobr>37.99</nobr></td><td ><nobr>30.72</nobr></td><td ><nobr>27.61</nobr></td><td ><nobr>25.2</nobr></td><td ><nobr>26.16</nobr></td></tr><tr bgcolor=\\'white\\' align=\\'right\\' valign=\\'middle\\'><td title=\\'滑鼠在此點一下, 可顯示公式說明\\' style=\\'cursor:pointer\\' align=\\'left\\'  OnClick=\\'idDesc94.style.display=(idDesc94.style.display==\"\"?\"none\":\"\");\\'><nobr>存貨佔營收比率<span style=\\'color:gray;font-size:9pt;\\'>&nbsp;(年預估)</span></nobr><div id=\\'idDesc94\\' style=\\'color:#FF8000;font-size:9pt;display:none;\\'>當季存貨 / (當季營業收入 x 4) x 100%</div></td><td ><nobr>10.19</nobr></td><td ><nobr>11.02</nobr></td><td ><nobr>10.99</nobr></td><td ><nobr>11.45</nobr></td><td ><nobr>10.66</nobr></td><td ><nobr>9.5</nobr></td><td ><nobr>7.68</nobr></td><td ><nobr>6.9</nobr></td><td ><nobr>6.3</nobr></td><td ><nobr>6.54</nobr></td></tr><tr class=\\'bg_h1 fw_normal\\' style=\\'text-align:center;\\'><td style=\\'color:blue;width:25%;\\'><nobr>現金流量狀況</nobr></td><td><nobr>2022Q1</nobr></td><td><nobr>2021Q4</nobr></td><td><nobr>2021Q3</nobr></td><td><nobr>2021Q2</nobr></td><td><nobr>2021Q1</nobr></td><td><nobr>2020Q4</nobr></td><td><nobr>2020Q3</nobr></td><td><nobr>2020Q2</nobr></td><td><nobr>2020Q1</nobr></td><td><nobr>2019Q4</nobr></td></tr><tr bgcolor=\\'white\\' align=\\'right\\' valign=\\'middle\\'><td title=\\'滑鼠在此點一下, 可顯示公式說明\\' style=\\'cursor:pointer\\' align=\\'left\\'  OnClick=\\'idDesc95.style.display=(idDesc95.style.display==\"\"?\"none\":\"\");\\'><nobr>每股營業現金流量&nbsp;(元)</nobr><div id=\\'idDesc95\\' style=\\'color:#FF8000;font-size:9pt;display:none;\\'>營業活動之淨現金流入(出) / 發行股數</div></td><td ><nobr>14.36</nobr></td><td ><nobr>14.58</nobr></td><td ><nobr>12.28</nobr></td><td ><nobr>7.23</nobr></td><td ><nobr>8.79</nobr></td><td ><nobr>10</nobr></td><td ><nobr>7.34</nobr></td><td ><nobr>6.57</nobr></td><td ><nobr>7.83</nobr></td><td ><nobr>7.84</nobr></td></tr><tr bgcolor=\\'white\\' align=\\'right\\' valign=\\'middle\\'><td title=\\'滑鼠在此點一下, 可顯示公式說明\\' style=\\'cursor:pointer\\' align=\\'left\\'  OnClick=\\'idDesc96.style.display=(idDesc96.style.display==\"\"?\"none\":\"\");\\'><nobr>每股投資現金流量&nbsp;(元)</nobr><div id=\\'idDesc96\\' style=\\'color:#FF8000;font-size:9pt;display:none;\\'>投資活動之淨現金流入(出) / 發行股數</div></td><td style=\\'color:red;\\'><nobr>-11.11</nobr></td><td style=\\'color:red;\\'><nobr>-9.46</nobr></td><td style=\\'color:red;\\'><nobr>-6.82</nobr></td><td style=\\'color:red;\\'><nobr>-6.54</nobr></td><td style=\\'color:red;\\'><nobr>-9.42</nobr></td><td style=\\'color:red;\\'><nobr>-3.51</nobr></td><td style=\\'color:red;\\'><nobr>-3.71</nobr></td><td style=\\'color:red;\\'><nobr>-5</nobr></td><td style=\\'color:red;\\'><nobr>-7.29</nobr></td><td style=\\'color:red;\\'><nobr>-6.63</nobr></td></tr><tr bgcolor=\\'white\\' align=\\'right\\' valign=\\'middle\\'><td title=\\'滑鼠在此點一下, 可顯示公式說明\\' style=\\'cursor:pointer\\' align=\\'left\\'  OnClick=\\'idDesc97.style.display=(idDesc97.style.display==\"\"?\"none\":\"\");\\'><nobr>每股融資現金流量&nbsp;(元)</nobr><div id=\\'idDesc97\\' style=\\'color:#FF8000;font-size:9pt;display:none;\\'>融資活動之淨現金流入(出) / 發行股數</div></td><td style=\\'color:red;\\'><nobr>-0.74</nobr></td><td ><nobr>3.17</nobr></td><td style=\\'color:red;\\'><nobr>-1.36</nobr></td><td ><nobr>2.89</nobr></td><td ><nobr>0.56</nobr></td><td style=\\'color:red;\\'><nobr>-3.91</nobr></td><td ><nobr>1.83</nobr></td><td ><nobr>0.23</nobr></td><td style=\\'color:red;\\'><nobr>-1.57</nobr></td><td style=\\'color:red;\\'><nobr>-0.66</nobr></td></tr><tr bgcolor=\\'white\\' align=\\'right\\' valign=\\'middle\\'><td title=\\'滑鼠在此點一下, 可顯示公式說明\\' style=\\'cursor:pointer\\' align=\\'left\\'  OnClick=\\'idDesc98.style.display=(idDesc98.style.display==\"\"?\"none\":\"\");\\'><nobr>每股淨現金流量&nbsp;(元)</nobr><div id=\\'idDesc98\\' style=\\'color:#FF8000;font-size:9pt;display:none;\\'>當期現金及約當現金淨增減數 / 發行股數</div></td><td ><nobr>3.34</nobr></td><td ><nobr>8.14</nobr></td><td ><nobr>4.08</nobr></td><td ><nobr>3.21</nobr></td><td ><nobr>0.18</nobr></td><td ><nobr>2.16</nobr></td><td ><nobr>5.27</nobr></td><td ><nobr>1.42</nobr></td><td style=\\'color:red;\\'><nobr>-0.95</nobr></td><td ><nobr>0.11</nobr></td></tr><tr bgcolor=\\'white\\' align=\\'right\\' valign=\\'middle\\'><td title=\\'滑鼠在此點一下, 可顯示公式說明\\' style=\\'cursor:pointer\\' align=\\'left\\'  OnClick=\\'idDesc99.style.display=(idDesc99.style.display==\"\"?\"none\":\"\");\\'><nobr>每股自由現金流量&nbsp;(元)</nobr><div id=\\'idDesc99\\' style=\\'color:#FF8000;font-size:9pt;display:none;\\'>(營業活動之淨現金流入(出) + 投資活動之淨現金流入(出)) / 發行股數</div></td><td ><nobr>3.24</nobr></td><td ><nobr>5.12</nobr></td><td ><nobr>5.46</nobr></td><td ><nobr>0.68</nobr></td><td style=\\'color:red;\\'><nobr>-0.63</nobr></td><td ><nobr>6.49</nobr></td><td ><nobr>3.63</nobr></td><td ><nobr>1.57</nobr></td><td ><nobr>0.54</nobr></td><td ><nobr>1.21</nobr></td></tr><tr class=\\'bg_h1 fw_normal\\' style=\\'text-align:center;\\'><td style=\\'color:blue;width:25%;\\'><nobr>其他指標</nobr></td><td><nobr>2022Q1</nobr></td><td><nobr>2021Q4</nobr></td><td><nobr>2021Q3</nobr></td><td><nobr>2021Q2</nobr></td><td><nobr>2021Q1</nobr></td><td><nobr>2020Q4</nobr></td><td><nobr>2020Q3</nobr></td><td><nobr>2020Q2</nobr></td><td><nobr>2020Q1</nobr></td><td><nobr>2019Q4</nobr></td></tr><tr bgcolor=\\'white\\' align=\\'right\\' valign=\\'middle\\'><td title=\\'滑鼠在此點一下, 可顯示公式說明\\' style=\\'cursor:pointer\\' align=\\'left\\'  OnClick=\\'idDesc100.style.display=(idDesc100.style.display==\"\"?\"none\":\"\");\\'><nobr>負債對淨值比率</nobr><div id=\\'idDesc100\\' style=\\'color:#FF8000;font-size:9pt;display:none;\\'>負債總額 / 股東權益總額 x 100%</div></td><td ><nobr>71.99</nobr></td><td ><nobr>71.62</nobr></td><td ><nobr>60.34</nobr></td><td ><nobr>55.11</nobr></td><td ><nobr>50.39</nobr></td><td ><nobr>49.18</nobr></td><td ><nobr>47.38</nobr></td><td ><nobr>42.26</nobr></td><td ><nobr>39.73</nobr></td><td ><nobr>39.62</nobr></td></tr><tr bgcolor=\\'white\\' align=\\'right\\' valign=\\'middle\\'><td title=\\'滑鼠在此點一下, 可顯示公式說明\\' style=\\'cursor:pointer\\' align=\\'left\\'  OnClick=\\'idDesc101.style.display=(idDesc101.style.display==\"\"?\"none\":\"\");\\'><nobr>長期資金適合率</nobr><div id=\\'idDesc101\\' style=\\'color:#FF8000;font-size:9pt;display:none;\\'>(股東權益總額 + 長期負債) / 固定資產 x 100%</div></td><td ><nobr>138.2</nobr></td><td ><nobr>138.7</nobr></td><td ><nobr>136.5</nobr></td><td ><nobr>137.2</nobr></td><td ><nobr>131.3</nobr></td><td ><nobr>133.1</nobr></td><td ><nobr>132.2</nobr></td><td ><nobr>119.1</nobr></td><td ><nobr>118.1</nobr></td><td ><nobr>120.3</nobr></td></tr><tr bgcolor=\\'white\\' align=\\'right\\' valign=\\'middle\\'><td title=\\'滑鼠在此點一下, 可顯示公式說明\\' style=\\'cursor:pointer\\' align=\\'left\\'  OnClick=\\'idDesc102.style.display=(idDesc102.style.display==\"\"?\"none\":\"\");\\'><nobr>所得稅佔稅前淨利比率</nobr><div id=\\'idDesc102\\' style=\\'color:#FF8000;font-size:9pt;display:none;\\'>所得稅費用 / 稅前淨利 x 100%</div></td><td ><nobr>10.56</nobr></td><td ><nobr>9.98</nobr></td><td ><nobr>9.99</nobr></td><td ><nobr>9.98</nobr></td><td ><nobr>9.88</nobr></td><td ><nobr>11.35</nobr></td><td ><nobr>11.44</nobr></td><td ><nobr>11.37</nobr></td><td ><nobr>11.41</nobr></td><td ><nobr>9.86</nobr></td></tr><tr bgcolor=\\'white\\' align=\\'right\\' valign=\\'middle\\'><td title=\\'滑鼠在此點一下, 可顯示公式說明\\' style=\\'cursor:pointer\\' align=\\'left\\'  OnClick=\\'idDesc103.style.display=(idDesc103.style.display==\"\"?\"none\":\"\");\\'><nobr>業外損益佔營收比率</nobr><div id=\\'idDesc103\\' style=\\'color:#FF8000;font-size:9pt;display:none;\\'>業外損益 / 營業收入 x 100%</div></td><td ><nobr>0.62</nobr></td><td ><nobr>0.47</nobr></td><td ><nobr>0.69</nobr></td><td ><nobr>1</nobr></td><td ><nobr>1.25</nobr></td><td ><nobr>1.1</nobr></td><td ><nobr>1.42</nobr></td><td ><nobr>1.71</nobr></td><td ><nobr>1.17</nobr></td><td ><nobr>1.43</nobr></td></tr><tr bgcolor=\\'white\\' align=\\'right\\' valign=\\'middle\\'><td title=\\'滑鼠在此點一下, 可顯示公式說明\\' style=\\'cursor:pointer\\' align=\\'left\\'  OnClick=\\'idDesc104.style.display=(idDesc104.style.display==\"\"?\"none\":\"\");\\'><nobr>業外損益佔稅前淨利比率</nobr><div id=\\'idDesc104\\' style=\\'color:#FF8000;font-size:9pt;display:none;\\'>業外損益 / 稅前淨利 x 100%</div></td><td ><nobr>1.34</nobr></td><td ><nobr>1.11</nobr></td><td ><nobr>1.64</nobr></td><td ><nobr>2.49</nobr></td><td ><nobr>2.92</nobr></td><td ><nobr>2.47</nobr></td><td ><nobr>3.27</nobr></td><td ><nobr>3.89</nobr></td><td ><nobr>2.74</nobr></td><td ><nobr>3.52</nobr></td></tr><tr bgcolor=\\'white\\' align=\\'right\\' valign=\\'middle\\'><td title=\\'滑鼠在此點一下, 可顯示公式說明\\' style=\\'cursor:pointer\\' align=\\'left\\'  OnClick=\\'idDesc105.style.display=(idDesc105.style.display==\"\"?\"none\":\"\");\\'><nobr>財報評分&nbsp;(100為滿分)</nobr><div id=\\'idDesc105\\' style=\\'color:#FF8000;font-size:9pt;display:none;\\'>0~40:差/ 40~70:普通/ 70~100:良好</div></td><td><nobr><a class=\\'link_red\\' target=\\'_blank\\'  href=\\'StockFinGrade.asp?STOCK_ID=2330&RPT_CAT=QUAR&QRY_TIME=20221\\'>89</a></nobr></td><td><nobr><a class=\\'link_red\\' target=\\'_blank\\'  href=\\'StockFinGrade.asp?STOCK_ID=2330&RPT_CAT=QUAR&QRY_TIME=20214\\'>91</a></nobr></td><td><nobr><a class=\\'link_red\\' target=\\'_blank\\'  href=\\'StockFinGrade.asp?STOCK_ID=2330&RPT_CAT=QUAR&QRY_TIME=20213\\'>91</a></nobr></td><td><nobr><a class=\\'link_red\\' target=\\'_blank\\'  href=\\'StockFinGrade.asp?STOCK_ID=2330&RPT_CAT=QUAR&QRY_TIME=20212\\'>89</a></nobr></td><td><nobr><a class=\\'link_red\\' target=\\'_blank\\'  href=\\'StockFinGrade.asp?STOCK_ID=2330&RPT_CAT=QUAR&QRY_TIME=20211\\'>89</a></nobr></td><td><nobr><a class=\\'link_red\\' target=\\'_blank\\'  href=\\'StockFinGrade.asp?STOCK_ID=2330&RPT_CAT=QUAR&QRY_TIME=20204\\'>91</a></nobr></td><td><nobr><a class=\\'link_red\\' target=\\'_blank\\'  href=\\'StockFinGrade.asp?STOCK_ID=2330&RPT_CAT=QUAR&QRY_TIME=20203\\'>91</a></nobr></td><td><nobr><a class=\\'link_red\\' target=\\'_blank\\'  href=\\'StockFinGrade.asp?STOCK_ID=2330&RPT_CAT=QUAR&QRY_TIME=20202\\'>91</a></nobr></td><td><nobr><a class=\\'link_red\\' target=\\'_blank\\'  href=\\'StockFinGrade.asp?STOCK_ID=2330&RPT_CAT=QUAR&QRY_TIME=20201\\'>91</a></nobr></td><td><nobr><a class=\\'link_red\\' target=\\'_blank\\'  href=\\'StockFinGrade.asp?STOCK_ID=2330&RPT_CAT=QUAR&QRY_TIME=20194\\'>91</a></nobr></td></tr></table></div></div>'"
      ]
     },
     "execution_count": 95,
     "metadata": {},
     "output_type": "execute_result"
    }
   ],
   "source": [
    "import requests\n",
    "url = 'https://goodinfo.tw/tw/StockFinDetail.asp?STEP=DATA&STOCK_ID=2330&RPT_CAT=XX_QUAR&QRY_TIME=20221'\n",
    "headers = {\n",
    "    'origin': 'https://goodinfo.tw',\n",
    "    'referer': 'https://goodinfo.tw/tw/StockFinDetail.asp?RPT_CAT=XX_M_QUAR_ACC&STOCK_ID=2330',\n",
    "    'user-agent':'Mozilla/5.0 (Macintosh; Intel Mac OS X 10_15_7) AppleWebKit/537.36 (KHTML, like Gecko) Chrome/103.0.0.0 Safari/537.36'\n",
    "}\n",
    "\n",
    "res = requests.post(url, headers = headers)\n",
    "res.encoding=\"utf-8\"\n",
    "res.text"
   ]
  },
  {
   "cell_type": "code",
   "execution_count": 10,
   "id": "1e504b33",
   "metadata": {},
   "outputs": [],
   "source": [
    "import pandas\n",
    "dfs = pandas.read_html(res.text)"
   ]
  },
  {
   "cell_type": "code",
   "execution_count": 11,
   "id": "1ae76f6a",
   "metadata": {},
   "outputs": [
    {
     "data": {
      "text/plain": [
       "[                                                   0\n",
       " 0  2330 台積電 單季財務比率表 (個別) (單位:％)合併報表 – 單季合併報表 – 累季...,\n",
       "               獲利能力 2022Q1 2021Q4 2021Q3 2021Q2 2021Q1 2020Q4 2020Q3 2020Q2  \\\n",
       " 0            營業毛利率  55.63  52.66   51.3  50.03  52.38     54  53.45  52.99   \n",
       " 1            營業利益率  45.57  41.71  41.24  39.14  41.54  43.46   42.1  42.19   \n",
       " 2            稅前淨利率  46.19  42.18  41.93  40.14  42.79  44.56  43.52   43.9   \n",
       " 3            稅後淨利率  41.31  37.97  37.74  36.14  38.56  39.51  38.54  38.91   \n",
       " 4      稅後淨利率 (母公司)  41.28  37.94  37.68   36.1  38.54  39.49  38.52  38.89   \n",
       " ..             ...    ...    ...    ...    ...    ...    ...    ...    ...   \n",
       " 113        長期資金適合率  138.2  138.7  136.5  137.2  131.3  133.1  132.2  119.1   \n",
       " 114     所得稅佔稅前淨利比率  10.56   9.98   9.99   9.98   9.88  11.35  11.44  11.37   \n",
       " 115      業外損益佔營收比率   0.62   0.47   0.69      1   1.25    1.1   1.42   1.71   \n",
       " 116    業外損益佔稅前淨利比率   1.34   1.11   1.64   2.49   2.92   2.47   3.27   3.89   \n",
       " 117  財報評分 (100為滿分)     89     91     91     89     89     91     91     91   \n",
       " \n",
       "     2020Q1 2019Q4  \n",
       " 0    51.76  50.18  \n",
       " 1    41.38  39.16  \n",
       " 2    42.55  40.59  \n",
       " 3    37.69  36.59  \n",
       " 4    37.67  36.58  \n",
       " ..     ...    ...  \n",
       " 113  118.1  120.3  \n",
       " 114  11.41   9.86  \n",
       " 115   1.17   1.43  \n",
       " 116   2.74   3.52  \n",
       " 117     91     91  \n",
       " \n",
       " [118 rows x 11 columns]]"
      ]
     },
     "execution_count": 11,
     "metadata": {},
     "output_type": "execute_result"
    }
   ],
   "source": [
    "dfs"
   ]
  },
  {
   "cell_type": "code",
   "execution_count": 12,
   "id": "cf093623",
   "metadata": {},
   "outputs": [
    {
     "data": {
      "text/plain": [
       "2"
      ]
     },
     "execution_count": 12,
     "metadata": {},
     "output_type": "execute_result"
    }
   ],
   "source": [
    "len(dfs)"
   ]
  },
  {
   "cell_type": "code",
   "execution_count": 106,
   "id": "38231216",
   "metadata": {
    "scrolled": true
   },
   "outputs": [
    {
     "data": {
      "text/plain": [
       "'台積電'"
      ]
     },
     "execution_count": 106,
     "metadata": {},
     "output_type": "execute_result"
    }
   ],
   "source": [
    "name = dfs[0].iloc[0].values[0].split(\"\\xa0\")[1]\n",
    "name"
   ]
  },
  {
   "cell_type": "code",
   "execution_count": 103,
   "id": "0871a685",
   "metadata": {},
   "outputs": [
    {
     "data": {
      "text/html": [
       "<div>\n",
       "<style scoped>\n",
       "    .dataframe tbody tr th:only-of-type {\n",
       "        vertical-align: middle;\n",
       "    }\n",
       "\n",
       "    .dataframe tbody tr th {\n",
       "        vertical-align: top;\n",
       "    }\n",
       "\n",
       "    .dataframe thead th {\n",
       "        text-align: right;\n",
       "    }\n",
       "</style>\n",
       "<table border=\"1\" class=\"dataframe\">\n",
       "  <thead>\n",
       "    <tr style=\"text-align: right;\">\n",
       "      <th></th>\n",
       "      <th>0</th>\n",
       "    </tr>\n",
       "  </thead>\n",
       "  <tbody>\n",
       "    <tr>\n",
       "      <th>0</th>\n",
       "      <td>2330 台積電 單季現金流量表 (個別) (單位:億元)合併報表 – 單季合併報表 – 累...</td>\n",
       "    </tr>\n",
       "  </tbody>\n",
       "</table>\n",
       "</div>"
      ],
      "text/plain": [
       "                                                   0\n",
       "0  2330 台積電 單季現金流量表 (個別) (單位:億元)合併報表 – 單季合併報表 – 累..."
      ]
     },
     "execution_count": 103,
     "metadata": {},
     "output_type": "execute_result"
    }
   ],
   "source": [
    "dfs[0]"
   ]
  },
  {
   "cell_type": "code",
   "execution_count": 14,
   "id": "e936c63b",
   "metadata": {},
   "outputs": [
    {
     "data": {
      "text/html": [
       "<div>\n",
       "<style scoped>\n",
       "    .dataframe tbody tr th:only-of-type {\n",
       "        vertical-align: middle;\n",
       "    }\n",
       "\n",
       "    .dataframe tbody tr th {\n",
       "        vertical-align: top;\n",
       "    }\n",
       "\n",
       "    .dataframe thead th {\n",
       "        text-align: right;\n",
       "    }\n",
       "</style>\n",
       "<table border=\"1\" class=\"dataframe\">\n",
       "  <thead>\n",
       "    <tr style=\"text-align: right;\">\n",
       "      <th></th>\n",
       "      <th>獲利能力</th>\n",
       "      <th>2022Q1</th>\n",
       "      <th>2021Q4</th>\n",
       "      <th>2021Q3</th>\n",
       "      <th>2021Q2</th>\n",
       "      <th>2021Q1</th>\n",
       "      <th>2020Q4</th>\n",
       "      <th>2020Q3</th>\n",
       "      <th>2020Q2</th>\n",
       "      <th>2020Q1</th>\n",
       "      <th>2019Q4</th>\n",
       "    </tr>\n",
       "  </thead>\n",
       "  <tbody>\n",
       "    <tr>\n",
       "      <th>0</th>\n",
       "      <td>營業毛利率</td>\n",
       "      <td>55.63</td>\n",
       "      <td>52.66</td>\n",
       "      <td>51.3</td>\n",
       "      <td>50.03</td>\n",
       "      <td>52.38</td>\n",
       "      <td>54</td>\n",
       "      <td>53.45</td>\n",
       "      <td>52.99</td>\n",
       "      <td>51.76</td>\n",
       "      <td>50.18</td>\n",
       "    </tr>\n",
       "    <tr>\n",
       "      <th>1</th>\n",
       "      <td>營業利益率</td>\n",
       "      <td>45.57</td>\n",
       "      <td>41.71</td>\n",
       "      <td>41.24</td>\n",
       "      <td>39.14</td>\n",
       "      <td>41.54</td>\n",
       "      <td>43.46</td>\n",
       "      <td>42.1</td>\n",
       "      <td>42.19</td>\n",
       "      <td>41.38</td>\n",
       "      <td>39.16</td>\n",
       "    </tr>\n",
       "    <tr>\n",
       "      <th>2</th>\n",
       "      <td>稅前淨利率</td>\n",
       "      <td>46.19</td>\n",
       "      <td>42.18</td>\n",
       "      <td>41.93</td>\n",
       "      <td>40.14</td>\n",
       "      <td>42.79</td>\n",
       "      <td>44.56</td>\n",
       "      <td>43.52</td>\n",
       "      <td>43.9</td>\n",
       "      <td>42.55</td>\n",
       "      <td>40.59</td>\n",
       "    </tr>\n",
       "    <tr>\n",
       "      <th>3</th>\n",
       "      <td>稅後淨利率</td>\n",
       "      <td>41.31</td>\n",
       "      <td>37.97</td>\n",
       "      <td>37.74</td>\n",
       "      <td>36.14</td>\n",
       "      <td>38.56</td>\n",
       "      <td>39.51</td>\n",
       "      <td>38.54</td>\n",
       "      <td>38.91</td>\n",
       "      <td>37.69</td>\n",
       "      <td>36.59</td>\n",
       "    </tr>\n",
       "    <tr>\n",
       "      <th>4</th>\n",
       "      <td>稅後淨利率 (母公司)</td>\n",
       "      <td>41.28</td>\n",
       "      <td>37.94</td>\n",
       "      <td>37.68</td>\n",
       "      <td>36.1</td>\n",
       "      <td>38.54</td>\n",
       "      <td>39.49</td>\n",
       "      <td>38.52</td>\n",
       "      <td>38.89</td>\n",
       "      <td>37.67</td>\n",
       "      <td>36.58</td>\n",
       "    </tr>\n",
       "    <tr>\n",
       "      <th>...</th>\n",
       "      <td>...</td>\n",
       "      <td>...</td>\n",
       "      <td>...</td>\n",
       "      <td>...</td>\n",
       "      <td>...</td>\n",
       "      <td>...</td>\n",
       "      <td>...</td>\n",
       "      <td>...</td>\n",
       "      <td>...</td>\n",
       "      <td>...</td>\n",
       "      <td>...</td>\n",
       "    </tr>\n",
       "    <tr>\n",
       "      <th>113</th>\n",
       "      <td>長期資金適合率</td>\n",
       "      <td>138.2</td>\n",
       "      <td>138.7</td>\n",
       "      <td>136.5</td>\n",
       "      <td>137.2</td>\n",
       "      <td>131.3</td>\n",
       "      <td>133.1</td>\n",
       "      <td>132.2</td>\n",
       "      <td>119.1</td>\n",
       "      <td>118.1</td>\n",
       "      <td>120.3</td>\n",
       "    </tr>\n",
       "    <tr>\n",
       "      <th>114</th>\n",
       "      <td>所得稅佔稅前淨利比率</td>\n",
       "      <td>10.56</td>\n",
       "      <td>9.98</td>\n",
       "      <td>9.99</td>\n",
       "      <td>9.98</td>\n",
       "      <td>9.88</td>\n",
       "      <td>11.35</td>\n",
       "      <td>11.44</td>\n",
       "      <td>11.37</td>\n",
       "      <td>11.41</td>\n",
       "      <td>9.86</td>\n",
       "    </tr>\n",
       "    <tr>\n",
       "      <th>115</th>\n",
       "      <td>業外損益佔營收比率</td>\n",
       "      <td>0.62</td>\n",
       "      <td>0.47</td>\n",
       "      <td>0.69</td>\n",
       "      <td>1</td>\n",
       "      <td>1.25</td>\n",
       "      <td>1.1</td>\n",
       "      <td>1.42</td>\n",
       "      <td>1.71</td>\n",
       "      <td>1.17</td>\n",
       "      <td>1.43</td>\n",
       "    </tr>\n",
       "    <tr>\n",
       "      <th>116</th>\n",
       "      <td>業外損益佔稅前淨利比率</td>\n",
       "      <td>1.34</td>\n",
       "      <td>1.11</td>\n",
       "      <td>1.64</td>\n",
       "      <td>2.49</td>\n",
       "      <td>2.92</td>\n",
       "      <td>2.47</td>\n",
       "      <td>3.27</td>\n",
       "      <td>3.89</td>\n",
       "      <td>2.74</td>\n",
       "      <td>3.52</td>\n",
       "    </tr>\n",
       "    <tr>\n",
       "      <th>117</th>\n",
       "      <td>財報評分 (100為滿分)</td>\n",
       "      <td>89</td>\n",
       "      <td>91</td>\n",
       "      <td>91</td>\n",
       "      <td>89</td>\n",
       "      <td>89</td>\n",
       "      <td>91</td>\n",
       "      <td>91</td>\n",
       "      <td>91</td>\n",
       "      <td>91</td>\n",
       "      <td>91</td>\n",
       "    </tr>\n",
       "  </tbody>\n",
       "</table>\n",
       "<p>118 rows × 11 columns</p>\n",
       "</div>"
      ],
      "text/plain": [
       "              獲利能力 2022Q1 2021Q4 2021Q3 2021Q2 2021Q1 2020Q4 2020Q3 2020Q2  \\\n",
       "0            營業毛利率  55.63  52.66   51.3  50.03  52.38     54  53.45  52.99   \n",
       "1            營業利益率  45.57  41.71  41.24  39.14  41.54  43.46   42.1  42.19   \n",
       "2            稅前淨利率  46.19  42.18  41.93  40.14  42.79  44.56  43.52   43.9   \n",
       "3            稅後淨利率  41.31  37.97  37.74  36.14  38.56  39.51  38.54  38.91   \n",
       "4      稅後淨利率 (母公司)  41.28  37.94  37.68   36.1  38.54  39.49  38.52  38.89   \n",
       "..             ...    ...    ...    ...    ...    ...    ...    ...    ...   \n",
       "113        長期資金適合率  138.2  138.7  136.5  137.2  131.3  133.1  132.2  119.1   \n",
       "114     所得稅佔稅前淨利比率  10.56   9.98   9.99   9.98   9.88  11.35  11.44  11.37   \n",
       "115      業外損益佔營收比率   0.62   0.47   0.69      1   1.25    1.1   1.42   1.71   \n",
       "116    業外損益佔稅前淨利比率   1.34   1.11   1.64   2.49   2.92   2.47   3.27   3.89   \n",
       "117  財報評分 (100為滿分)     89     91     91     89     89     91     91     91   \n",
       "\n",
       "    2020Q1 2019Q4  \n",
       "0    51.76  50.18  \n",
       "1    41.38  39.16  \n",
       "2    42.55  40.59  \n",
       "3    37.69  36.59  \n",
       "4    37.67  36.58  \n",
       "..     ...    ...  \n",
       "113  118.1  120.3  \n",
       "114  11.41   9.86  \n",
       "115   1.17   1.43  \n",
       "116   2.74   3.52  \n",
       "117     91     91  \n",
       "\n",
       "[118 rows x 11 columns]"
      ]
     },
     "execution_count": 14,
     "metadata": {},
     "output_type": "execute_result"
    }
   ],
   "source": [
    "dfs[1]"
   ]
  },
  {
   "cell_type": "code",
   "execution_count": 28,
   "id": "a526e320",
   "metadata": {},
   "outputs": [
    {
     "data": {
      "text/plain": [
       "獲利能力      股東權益報酬率 (當季)\n",
       "2022Q1            9.03\n",
       "2021Q4            7.83\n",
       "2021Q3            7.69\n",
       "2021Q2            6.84\n",
       "2021Q1            7.37\n",
       "2020Q4            7.85\n",
       "2020Q3            7.83\n",
       "2020Q2            7.12\n",
       "2020Q1             7.1\n",
       "2019Q4            7.23\n",
       "Name: 8, dtype: object"
      ]
     },
     "execution_count": 28,
     "metadata": {},
     "output_type": "execute_result"
    }
   ],
   "source": [
    "dfs[1].iloc[8]"
   ]
  },
  {
   "cell_type": "code",
   "execution_count": 57,
   "id": "b7ee323b",
   "metadata": {},
   "outputs": [
    {
     "data": {
      "text/plain": [
       "array(['股東權益報酬率\\xa0(當季)', '9.03', '7.83', '7.69', '6.84', '7.37', '7.85',\n",
       "       '7.83', '7.12', '7.1', '7.23'], dtype=object)"
      ]
     },
     "execution_count": 57,
     "metadata": {},
     "output_type": "execute_result"
    }
   ],
   "source": [
    " dfs[1].iloc[8].values"
   ]
  },
  {
   "cell_type": "code",
   "execution_count": 61,
   "id": "3657b229",
   "metadata": {},
   "outputs": [
    {
     "data": {
      "text/plain": [
       "54.44"
      ]
     },
     "execution_count": 61,
     "metadata": {},
     "output_type": "execute_result"
    }
   ],
   "source": [
    "roe_list =  dfs[1].iloc[8].values\n",
    "roe=0\n",
    "for quarter in roe_list[1:8]:\n",
    "    roe+= float(quarter)\n",
    "roe"
   ]
  },
  {
   "cell_type": "code",
   "execution_count": 75,
   "id": "e39c0422",
   "metadata": {
    "scrolled": true
   },
   "outputs": [
    {
     "data": {
      "text/plain": [
       "'<table class=\\'b1 p6_0 r10_0\\' style=\\'width:100%;font-size:11pt;\\'><tr class=\\'bg_h0\\' style=\\'text-align:center;\\'><td><nobr><span style=\\'color:blue;font-size:14pt;font-weight:bold;\\'>2330&nbsp;台積電&nbsp;單季現金流量表&nbsp;(個別)</span><span style=\\'font-size:10pt;color:black;\\'>&nbsp;&nbsp;&nbsp;&nbsp;(單位:億元)</span><span id=\\'txtFinBodyLoading\\' style=\\'position:absolute;font-size:10pt;color:gray;display:none;\\'><br>&nbsp;&nbsp;&nbsp;&nbsp;&nbsp;&nbsp;(載入中...)</span></nobr><div style=\\'margin-top:6px;\\'><nobr><select id=\\'RPT_CAT\\' style=\\'font-size:10pt\\' OnChange=\\'ChgFinSheet(\"RPT_CAT\");\\'><option value=\\'CF_M_QUAR\\' >合併報表 – 單季</option><option value=\\'CF_M_QUAR_ACC\\' >合併報表 – 累季</option><option value=\\'CF_M_YEAR\\' >合併報表 – 年度</option><option value=\\'CF_M_Y4Q\\' >合併報表 – 近四季</option><option value=\\'CF_QUAR\\' selected>個別報表 – 單季</option><option value=\\'CF_QUAR_ACC\\' >個別報表 – 累季</option><option value=\\'CF_YEAR\\' >個別報表 – 年度</option><option value=\\'CF_Y4Q\\' >個別報表 – 近四季</option></select>&nbsp;<select id=\\'QRY_TIME\\' style=\\'font-size:10pt\\' OnChange=\\'ChgFinSheet(\"QRY_TIME\");\\'><option value=\\'20221\\' selected>2022Q1</option><option value=\\'20214\\' >2021Q4</option><option value=\\'20213\\' >2021Q3</option><option value=\\'20212\\' >2021Q2</option><option value=\\'20211\\' >2021Q1</option><option value=\\'20204\\' >2020Q4</option><option value=\\'20203\\' >2020Q3</option><option value=\\'20202\\' >2020Q2</option><option value=\\'20201\\' >2020Q1</option><option value=\\'20194\\' >2019Q4</option><option value=\\'20193\\' >2019Q3</option><option value=\\'20192\\' >2019Q2</option><option value=\\'20191\\' >2019Q1</option><option value=\\'20184\\' >2018Q4</option><option value=\\'20183\\' >2018Q3</option><option value=\\'20182\\' >2018Q2</option><option value=\\'20181\\' >2018Q1</option><option value=\\'20174\\' >2017Q4</option><option value=\\'20173\\' >2017Q3</option><option value=\\'20172\\' >2017Q2</option><option value=\\'20171\\' >2017Q1</option><option value=\\'20164\\' >2016Q4</option><option value=\\'20163\\' >2016Q3</option><option value=\\'20162\\' >2016Q2</option><option value=\\'20161\\' >2016Q1</option><option value=\\'20154\\' >2015Q4</option><option value=\\'20153\\' >2015Q3</option><option value=\\'20152\\' >2015Q2</option><option value=\\'20151\\' >2015Q1</option><option value=\\'20144\\' >2014Q4</option><option value=\\'20143\\' >2014Q3</option><option value=\\'20142\\' >2014Q2</option><option value=\\'20141\\' >2014Q1</option><option value=\\'20134\\' >2013Q4</option><option value=\\'20133\\' >2013Q3</option><option value=\\'20132\\' >2013Q2</option><option value=\\'20131\\' >2013Q1</option><option value=\\'20124\\' >2012Q4</option><option value=\\'20123\\' >2012Q3</option><option value=\\'20122\\' >2012Q2</option><option value=\\'20121\\' >2012Q1</option><option value=\\'20114\\' >2011Q4</option><option value=\\'20113\\' >2011Q3</option><option value=\\'20112\\' >2011Q2</option><option value=\\'20111\\' >2011Q1</option><option value=\\'20104\\' >2010Q4</option><option value=\\'20103\\' >2010Q3</option><option value=\\'20102\\' >2010Q2</option><option value=\\'20101\\' >2010Q1</option><option value=\\'20094\\' >2009Q4</option><option value=\\'20093\\' >2009Q3</option><option value=\\'20092\\' >2009Q2</option><option value=\\'20091\\' >2009Q1</option><option value=\\'20084\\' >2008Q4</option><option value=\\'20083\\' >2008Q3</option><option value=\\'20082\\' >2008Q2</option><option value=\\'20081\\' >2008Q1</option><option value=\\'20074\\' >2007Q4</option><option value=\\'20073\\' >2007Q3</option><option value=\\'20072\\' >2007Q2</option><option value=\\'20071\\' >2007Q1</option><option value=\\'20064\\' >2006Q4</option><option value=\\'20063\\' >2006Q3</option><option value=\\'20062\\' >2006Q2</option><option value=\\'20061\\' >2006Q1</option><option value=\\'20054\\' >2005Q4</option><option value=\\'20053\\' >2005Q3</option><option value=\\'20052\\' >2005Q2</option><option value=\\'20051\\' >2005Q1</option><option value=\\'20044\\' >2004Q4</option><option value=\\'20043\\' >2004Q3</option><option value=\\'20042\\' >2004Q2</option><option value=\\'20041\\' >2004Q1</option><option value=\\'20034\\' >2003Q4</option><option value=\\'20033\\' >2003Q3</option><option value=\\'20032\\' >2003Q2</option><option value=\\'20031\\' >2003Q1</option><option value=\\'20024\\' >2002Q4</option><option value=\\'20023\\' >2002Q3</option><option value=\\'20022\\' >2002Q2</option><option value=\\'20021\\' >2002Q1</option><option value=\\'20014\\' >2001Q4</option><option value=\\'20013\\' >2001Q3</option><option value=\\'20012\\' >2001Q2</option><option value=\\'20011\\' >2001Q1</option><option value=\\'20004\\' >2000Q4</option><option value=\\'20003\\' >2000Q3</option><option value=\\'20002\\' >2000Q2</option><option value=\\'20001\\' >2000Q1</option><option value=\\'19994\\' >1999Q4</option><option value=\\'19993\\' >1999Q3</option><option value=\\'19992\\' >1999Q2</option><option value=\\'19991\\' >1999Q1</option><option value=\\'19984\\' >1998Q4</option><option value=\\'19983\\' >1998Q3</option><option value=\\'19982\\' >1998Q2</option><option value=\\'19981\\' >1998Q1</option><option value=\\'19974\\' >1997Q4</option><option value=\\'19973\\' >1997Q3</option><option value=\\'19972\\' >1997Q2</option><option value=\\'19971\\' >1997Q1</option><option value=\\'19964\\' >1996Q4</option><option value=\\'19963\\' >1996Q3</option><option value=\\'19962\\' >1996Q2</option><option value=\\'19961\\' >1996Q1</option><option value=\\'19954\\' >1995Q4</option><option value=\\'19953\\' >1995Q3</option><option value=\\'19952\\' >1995Q2</option><option value=\\'19951\\' >1995Q1</option><option value=\\'19944\\' >1994Q4</option></select>&ensp;<input type=\\'button\\' value=\\'匯出XLS\\' style=\\'font-size:10pt;padding:1px 6px;\\' onclick=\"export2xls(divFinDetail.innerHTML,\\'FinDetail.xls\\');\">&nbsp;<input type=\\'button\\' value=\\'匯出HTML\\' style=\\'font-size:10pt;padding:1px 6px;\\' onclick=\"export2html(divFinDetail.innerHTML,\\'FinDetail.html\\');\">&nbsp;</nobr></div></td></tr></table><div style=\\'position:relative;width:811px;\\'><div id=\\'divFinDetail\\' style=\\'overflow-x:auto;overflow-y:hidden;border:0;\\'><table class=\\'b1 p4_4 r0_10 row_mouse_over\\' style=\\'width:100%;font-size:11pt;line-height:20px;\\'><tr class=\\'bg_h1 fw_normal\\' style=\\'text-align:center;\\'><th   style=\\'color:blue;\\'><nobr>營業活動</nobr></th><th><nobr>2022Q1</nobr></th><th><nobr>2021Q4</nobr></th><th><nobr>2021Q3</nobr></th><th><nobr>2021Q2</nobr></th><th><nobr>2021Q1</nobr></th><th><nobr>2020Q4</nobr></th><th><nobr>2020Q3</nobr></th><th><nobr>2020Q2</nobr></th><th><nobr>2020Q1</nobr></th><th><nobr>2019Q4</nobr></th></tr><tr bgcolor=\\'white\\' align=\\'right\\' valign=\\'middle\\'><td align=\\'left\\' style=\\'padding-left:34px\\'><nobr>本期淨利(淨損)</nobr></td><td ><nobr>2,268</nobr></td><td ><nobr>1,848</nobr></td><td ><nobr>1,739</nobr></td><td ><nobr>1,494</nobr></td><td ><nobr>1,551</nobr></td><td ><nobr>1,611</nobr></td><td ><nobr>1,551</nobr></td><td ><nobr>1,364</nobr></td><td ><nobr>1,321</nobr></td><td ><nobr>1,288</nobr></td></tr><tr bgcolor=\\'white\\' align=\\'right\\' valign=\\'middle\\'><td align=\\'left\\' style=\\'padding-left:49px\\'>繼續營業單位淨利(淨損)</td><td ><nobr>2,268</nobr></td><td ><nobr>1,848</nobr></td><td ><nobr>1,739</nobr></td><td ><nobr>1,494</nobr></td><td ><nobr>1,551</nobr></td><td ><nobr>1,611</nobr></td><td ><nobr>1,551</nobr></td><td ><nobr>1,364</nobr></td><td ><nobr>1,321</nobr></td><td ><nobr>1,288</nobr></td></tr><tr bgcolor=\\'white\\' align=\\'right\\' valign=\\'middle\\'><td align=\\'left\\' style=\\'padding-left:64px\\'><nobr>折舊費用</nobr></td><td ><nobr>1,089</nobr></td><td ><nobr>1,086</nobr></td><td ><nobr>1,049</nobr></td><td ><nobr>1,017</nobr></td><td ><nobr>989.7</nobr></td><td ><nobr>956.5</nobr></td><td ><nobr>928.2</nobr></td><td ><nobr>689.8</nobr></td><td ><nobr>670.8</nobr></td><td ><nobr>661.4</nobr></td></tr><tr bgcolor=\\'white\\' align=\\'right\\' valign=\\'middle\\'><td align=\\'left\\' style=\\'padding-left:64px\\'><nobr>攤銷費用</nobr></td><td ><nobr>21.68</nobr></td><td ><nobr>20.74</nobr></td><td ><nobr>21.25</nobr></td><td ><nobr>20.81</nobr></td><td ><nobr>19.27</nobr></td><td ><nobr>19.14</nobr></td><td ><nobr>19.08</nobr></td><td ><nobr>18.94</nobr></td><td ><nobr>14.71</nobr></td><td ><nobr>13.94</nobr></td></tr><tr bgcolor=\\'white\\' align=\\'right\\' valign=\\'middle\\'><td align=\\'left\\' style=\\'padding-left:64px\\'>呆帳費用提列(轉列收入)數</td><td ><nobr>0.12</nobr></td><td ><nobr>0.025</nobr></td><td style=\\'color:red;\\'><nobr>-0.02</nobr></td><td style=\\'color:red;\\'><nobr>-0.028</nobr></td><td style=\\'color:red;\\'><nobr>-0.005</nobr></td><td style=\\'color:red;\\'><nobr>-0.005</nobr></td><td ><nobr>0.04</nobr></td><td style=\\'color:red;\\'><nobr>-0.014</nobr></td><td ><nobr>0.016</nobr></td><td style=\\'color:red;\\'><nobr>-0.009</nobr></td></tr><tr bgcolor=\\'white\\' align=\\'right\\' valign=\\'middle\\'><td align=\\'left\\' style=\\'padding-left:64px\\'>透過損益按公允價值衡量金融資產及負債之淨損失(利益)</td><td ><nobr>-</nobr></td><td ><nobr>0</nobr></td><td ><nobr>0</nobr></td><td ><nobr>0</nobr></td><td ><nobr>-</nobr></td><td style=\\'color:red;\\'><nobr>-0.006</nobr></td><td style=\\'color:red;\\'><nobr>-0.058</nobr></td><td ><nobr>0.034</nobr></td><td ><nobr>-</nobr></td><td style=\\'color:red;\\'><nobr>-0.024</nobr></td></tr><tr bgcolor=\\'white\\' align=\\'right\\' valign=\\'middle\\'><td align=\\'left\\' style=\\'padding-left:64px\\'>利息費用提列(迴轉)數</td><td ><nobr>21.41</nobr></td><td ><nobr>21.74</nobr></td><td ><nobr>13.34</nobr></td><td ><nobr>11.34</nobr></td><td ><nobr>7.72</nobr></td><td ><nobr>7.69</nobr></td><td ><nobr>3.73</nobr></td><td ><nobr>4.09</nobr></td><td ><nobr>5.31</nobr></td><td ><nobr>6.44</nobr></td></tr><tr bgcolor=\\'white\\' align=\\'right\\' valign=\\'middle\\'><td align=\\'left\\' style=\\'padding-left:64px\\'><nobr>利息收入</nobr></td><td style=\\'color:red;\\'><nobr>-16.74</nobr></td><td style=\\'color:red;\\'><nobr>-14.63</nobr></td><td style=\\'color:red;\\'><nobr>-13.57</nobr></td><td style=\\'color:red;\\'><nobr>-14.29</nobr></td><td style=\\'color:red;\\'><nobr>-14.61</nobr></td><td style=\\'color:red;\\'><nobr>-16.53</nobr></td><td style=\\'color:red;\\'><nobr>-18.98</nobr></td><td style=\\'color:red;\\'><nobr>-24.78</nobr></td><td style=\\'color:red;\\'><nobr>-29.89</nobr></td><td style=\\'color:red;\\'><nobr>-33.18</nobr></td></tr><tr bgcolor=\\'white\\' align=\\'right\\' valign=\\'middle\\'><td align=\\'left\\' style=\\'padding-left:64px\\'><nobr>股利收入</nobr></td><td style=\\'color:red;\\'><nobr>-0.001</nobr></td><td style=\\'color:red;\\'><nobr>-0.051</nobr></td><td style=\\'color:red;\\'><nobr>-0.091</nobr></td><td style=\\'color:red;\\'><nobr>-1.79</nobr></td><td style=\\'color:red;\\'><nobr>-1.69</nobr></td><td style=\\'color:red;\\'><nobr>-1.85</nobr></td><td style=\\'color:red;\\'><nobr>-1.11</nobr></td><td style=\\'color:red;\\'><nobr>-2.31</nobr></td><td style=\\'color:red;\\'><nobr>-1.11</nobr></td><td style=\\'color:red;\\'><nobr>-1.71</nobr></td></tr><tr bgcolor=\\'white\\' align=\\'right\\' valign=\\'middle\\'><td align=\\'left\\' style=\\'padding-left:64px\\'><nobr>股份基礎給付酬勞成本</nobr></td><td ><nobr>0.27</nobr></td><td ><nobr>0.018</nobr></td><td ><nobr>0.026</nobr></td><td ><nobr>0.018</nobr></td><td ><nobr>0.017</nobr></td><td ><nobr>0.017</nobr></td><td ><nobr>0.019</nobr></td><td ><nobr>0.016</nobr></td><td ><nobr>0.014</nobr></td><td ><nobr>0.014</nobr></td></tr><tr bgcolor=\\'white\\' align=\\'right\\' valign=\\'middle\\'><td align=\\'left\\' style=\\'padding-left:64px\\'>採用權益法認列之關聯企業及合資損失(利益)之份額</td><td style=\\'color:red;\\'><nobr>-17.25</nobr></td><td style=\\'color:red;\\'><nobr>-16.51</nobr></td><td style=\\'color:red;\\'><nobr>-15.13</nobr></td><td style=\\'color:red;\\'><nobr>-11.72</nobr></td><td style=\\'color:red;\\'><nobr>-12.67</nobr></td><td style=\\'color:red;\\'><nobr>-13.55</nobr></td><td style=\\'color:red;\\'><nobr>-8.33</nobr></td><td style=\\'color:red;\\'><nobr>-6.79</nobr></td><td style=\\'color:red;\\'><nobr>-7.26</nobr></td><td style=\\'color:red;\\'><nobr>-8.66</nobr></td></tr><tr bgcolor=\\'white\\' align=\\'right\\' valign=\\'middle\\'><td align=\\'left\\' style=\\'padding-left:64px\\'>處分及報廢固定資產損失(利益)</td><td ><nobr>0.48</nobr></td><td ><nobr>1.5</nobr></td><td ><nobr>1.13</nobr></td><td ><nobr>0.21</nobr></td><td style=\\'color:red;\\'><nobr>-0.1</nobr></td><td style=\\'color:red;\\'><nobr>-0.37</nobr></td><td style=\\'color:red;\\'><nobr>-1.46</nobr></td><td ><nobr>0.29</nobr></td><td style=\\'color:red;\\'><nobr>-0.35</nobr></td><td ><nobr>0.84</nobr></td></tr><tr bgcolor=\\'white\\' align=\\'right\\' valign=\\'middle\\'><td align=\\'left\\' style=\\'padding-left:64px\\'>處分無形資產損失(利益)</td><td ><nobr>-</nobr></td><td ><nobr>0</nobr></td><td ><nobr>0</nobr></td><td ><nobr>0.012</nobr></td><td ><nobr>-</nobr></td><td ><nobr>0</nobr></td><td ><nobr>0.006</nobr></td><td ><nobr>0</nobr></td><td ><nobr>-</nobr></td><td ><nobr>0</nobr></td></tr><tr bgcolor=\\'white\\' align=\\'right\\' valign=\\'middle\\'><td align=\\'left\\' style=\\'padding-left:64px\\'><nobr>處分投資損失(利益)</nobr></td><td ><nobr>1.41</nobr></td><td ><nobr>0.9</nobr></td><td style=\\'color:red;\\'><nobr>-0.14</nobr></td><td style=\\'color:red;\\'><nobr>-1.66</nobr></td><td style=\\'color:red;\\'><nobr>-0.03</nobr></td><td style=\\'color:red;\\'><nobr>-1.12</nobr></td><td style=\\'color:red;\\'><nobr>-4</nobr></td><td style=\\'color:red;\\'><nobr>-7.48</nobr></td><td style=\\'color:red;\\'><nobr>-1.79</nobr></td><td style=\\'color:red;\\'><nobr>-0.39</nobr></td></tr><tr bgcolor=\\'white\\' align=\\'right\\' valign=\\'middle\\'><td align=\\'left\\' style=\\'padding-left:64px\\'>非金融資產減損損失(迴轉利益)</td><td ><nobr>7.91</nobr></td><td ><nobr>0</nobr></td><td ><nobr>0</nobr></td><td ><nobr>0</nobr></td><td ><nobr>2.74</nobr></td><td ><nobr>0</nobr></td><td ><nobr>0.1</nobr></td><td ><nobr>0</nobr></td><td ><nobr>0</nobr></td><td ><nobr>0</nobr></td></tr><tr bgcolor=\\'white\\' align=\\'right\\' valign=\\'middle\\'><td align=\\'left\\' style=\\'padding-left:64px\\'>未實現銷貨利益(損失)</td><td ><nobr>-</nobr></td><td style=\\'color:red;\\'><nobr>-0.76</nobr></td><td ><nobr>0.76</nobr></td><td ><nobr>0</nobr></td><td ><nobr>-</nobr></td><td style=\\'color:red;\\'><nobr>-0.64</nobr></td><td style=\\'color:red;\\'><nobr>-0.13</nobr></td><td ><nobr>0.77</nobr></td><td ><nobr>-</nobr></td><td ><nobr>0</nobr></td></tr><tr bgcolor=\\'white\\' align=\\'right\\' valign=\\'middle\\'><td align=\\'left\\' style=\\'padding-left:64px\\'>已實現銷貨損失(利益)</td><td ><nobr>-</nobr></td><td ><nobr>0</nobr></td><td ><nobr>0.27</nobr></td><td style=\\'color:red;\\'><nobr>-0.27</nobr></td><td ><nobr>-</nobr></td><td ><nobr>0</nobr></td><td ><nobr>0</nobr></td><td ><nobr>0</nobr></td><td ><nobr>-</nobr></td><td ><nobr>0.43</nobr></td></tr><tr bgcolor=\\'white\\' align=\\'right\\' valign=\\'middle\\'><td align=\\'left\\' style=\\'padding-left:64px\\'>未實現外幣兌換損失(利益)</td><td ><nobr>20.75</nobr></td><td style=\\'color:red;\\'><nobr>-50.11</nobr></td><td style=\\'color:red;\\'><nobr>-34.2</nobr></td><td style=\\'color:red;\\'><nobr>-29.1</nobr></td><td style=\\'color:red;\\'><nobr>-47.74</nobr></td><td style=\\'color:red;\\'><nobr>-6.31</nobr></td><td ><nobr>21.75</nobr></td><td style=\\'color:red;\\'><nobr>-37.21</nobr></td><td ><nobr>8.04</nobr></td><td style=\\'color:red;\\'><nobr>-59.65</nobr></td></tr><tr bgcolor=\\'white\\' align=\\'right\\' valign=\\'middle\\'><td align=\\'left\\' style=\\'padding-left:64px\\'><nobr>其他項目</nobr></td><td style=\\'color:red;\\'><nobr>-2.58</nobr></td><td ><nobr>0.001</nobr></td><td style=\\'color:red;\\'><nobr>-1.31</nobr></td><td style=\\'color:red;\\'><nobr>-0.92</nobr></td><td style=\\'color:red;\\'><nobr>-1.92</nobr></td><td ><nobr>0.14</nobr></td><td style=\\'color:red;\\'><nobr>-0.005</nobr></td><td ><nobr>0</nobr></td><td ><nobr>0</nobr></td><td style=\\'color:red;\\'><nobr>-0.025</nobr></td></tr><tr bgcolor=\\'white\\' align=\\'right\\' valign=\\'middle\\'><td align=\\'left\\' style=\\'padding-left:49px\\'>不影響現金流量之收益費損項目合計</td><td ><nobr>1,127</nobr></td><td ><nobr>1,049</nobr></td><td ><nobr>1,021</nobr></td><td ><nobr>989.9</nobr></td><td ><nobr>940.7</nobr></td><td ><nobr>943.1</nobr></td><td ><nobr>938.9</nobr></td><td ><nobr>635.3</nobr></td><td ><nobr>658.6</nobr></td><td ><nobr>579.4</nobr></td></tr><tr bgcolor=\\'white\\' align=\\'right\\' valign=\\'middle\\'><td align=\\'left\\' style=\\'padding-left:79px\\'>透過損益按公允價值衡量之金融資產(增加)減少</td><td ><nobr>9.19</nobr></td><td style=\\'color:red;\\'><nobr>-8.48</nobr></td><td style=\\'color:red;\\'><nobr>-3.98</nobr></td><td style=\\'color:red;\\'><nobr>-0.34</nobr></td><td ><nobr>39.3</nobr></td><td style=\\'color:red;\\'><nobr>-11.13</nobr></td><td style=\\'color:red;\\'><nobr>-17.99</nobr></td><td ><nobr>10.27</nobr></td><td style=\\'color:red;\\'><nobr>-10.8</nobr></td><td ><nobr>4.63</nobr></td></tr><tr bgcolor=\\'white\\' align=\\'right\\' valign=\\'middle\\'><td align=\\'left\\' style=\\'padding-left:79px\\'><nobr>應收帳款(增加)減少</nobr></td><td style=\\'color:red;\\'><nobr>-152.6</nobr></td><td style=\\'color:red;\\'><nobr>-112.8</nobr></td><td style=\\'color:red;\\'><nobr>-88.34</nobr></td><td style=\\'color:red;\\'><nobr>-103.3</nobr></td><td style=\\'color:red;\\'><nobr>-216.6</nobr></td><td ><nobr>162.2</nobr></td><td style=\\'color:red;\\'><nobr>-129.9</nobr></td><td style=\\'color:red;\\'><nobr>-27.15</nobr></td><td style=\\'color:red;\\'><nobr>-85.95</nobr></td><td ><nobr>34.12</nobr></td></tr><tr bgcolor=\\'white\\' align=\\'right\\' valign=\\'middle\\'><td align=\\'left\\' style=\\'padding-left:79px\\'>應收帳款–關係人(增加)減少</td><td ><nobr>1.34</nobr></td><td ><nobr>1.44</nobr></td><td style=\\'color:red;\\'><nobr>-0.75</nobr></td><td style=\\'color:red;\\'><nobr>-4.49</nobr></td><td ><nobr>2.23</nobr></td><td ><nobr>3.2</nobr></td><td ><nobr>0.14</nobr></td><td style=\\'color:red;\\'><nobr>-4.64</nobr></td><td ><nobr>4.34</nobr></td><td ><nobr>3.19</nobr></td></tr><tr bgcolor=\\'white\\' align=\\'right\\' valign=\\'middle\\'><td align=\\'left\\' style=\\'padding-left:79px\\'>其他應收款–關係人(增加)減少</td><td ><nobr>0.034</nobr></td><td ><nobr>0.12</nobr></td><td ><nobr>0.14</nobr></td><td style=\\'color:red;\\'><nobr>-0.34</nobr></td><td style=\\'color:red;\\'><nobr>-0.019</nobr></td><td style=\\'color:red;\\'><nobr>-0.092</nobr></td><td ><nobr>0.28</nobr></td><td style=\\'color:red;\\'><nobr>-0.023</nobr></td><td style=\\'color:red;\\'><nobr>-0.085</nobr></td><td ><nobr>0.049</nobr></td></tr><tr bgcolor=\\'white\\' align=\\'right\\' valign=\\'middle\\'><td align=\\'left\\' style=\\'padding-left:79px\\'><nobr>存貨(增加)減少</nobr></td><td style=\\'color:red;\\'><nobr>-70.16</nobr></td><td style=\\'color:red;\\'><nobr>-108.7</nobr></td><td style=\\'color:red;\\'><nobr>-118</nobr></td><td style=\\'color:red;\\'><nobr>-158.7</nobr></td><td style=\\'color:red;\\'><nobr>-172.1</nobr></td><td style=\\'color:red;\\'><nobr>-278.4</nobr></td><td style=\\'color:red;\\'><nobr>-237.2</nobr></td><td style=\\'color:red;\\'><nobr>-75.1</nobr></td><td ><nobr>47.03</nobr></td><td ><nobr>137</nobr></td></tr><tr bgcolor=\\'white\\' align=\\'right\\' valign=\\'middle\\'><td align=\\'left\\' style=\\'padding-left:79px\\'>其他流動資產(增加)減少</td><td style=\\'color:red;\\'><nobr>-11.32</nobr></td><td ><nobr>8.61</nobr></td><td style=\\'color:red;\\'><nobr>-39.25</nobr></td><td style=\\'color:red;\\'><nobr>-16.07</nobr></td><td ><nobr>7.72</nobr></td><td style=\\'color:red;\\'><nobr>-10.71</nobr></td><td ><nobr>10.76</nobr></td><td style=\\'color:red;\\'><nobr>-12.52</nobr></td><td style=\\'color:red;\\'><nobr>-1.11</nobr></td><td style=\\'color:red;\\'><nobr>-6.47</nobr></td></tr><tr bgcolor=\\'white\\' align=\\'right\\' valign=\\'middle\\'><td align=\\'left\\' style=\\'padding-left:79px\\'>其他金融資產(增加)減少</td><td ><nobr>12.29</nobr></td><td style=\\'color:red;\\'><nobr>-37.33</nobr></td><td style=\\'color:red;\\'><nobr>-2.01</nobr></td><td style=\\'color:red;\\'><nobr>-13.85</nobr></td><td style=\\'color:red;\\'><nobr>-29.17</nobr></td><td style=\\'color:red;\\'><nobr>-10.43</nobr></td><td ><nobr>8.15</nobr></td><td style=\\'color:red;\\'><nobr>-4.91</nobr></td><td ><nobr>21.1</nobr></td><td ><nobr>27.56</nobr></td></tr><tr bgcolor=\\'white\\' align=\\'right\\' valign=\\'middle\\'><td align=\\'left\\' style=\\'padding-left:64px\\'>營業活動相關之資產淨變動合計</td><td style=\\'color:red;\\'><nobr>-211.2</nobr></td><td style=\\'color:red;\\'><nobr>-257.1</nobr></td><td style=\\'color:red;\\'><nobr>-252.1</nobr></td><td style=\\'color:red;\\'><nobr>-297.1</nobr></td><td style=\\'color:red;\\'><nobr>-368.7</nobr></td><td style=\\'color:red;\\'><nobr>-145.4</nobr></td><td style=\\'color:red;\\'><nobr>-365.8</nobr></td><td style=\\'color:red;\\'><nobr>-114.1</nobr></td><td style=\\'color:red;\\'><nobr>-25.49</nobr></td><td ><nobr>200.1</nobr></td></tr><tr bgcolor=\\'white\\' align=\\'right\\' valign=\\'middle\\'><td align=\\'left\\' style=\\'padding-left:79px\\'><nobr>應付帳款增加(減少)</nobr></td><td ><nobr>13.68</nobr></td><td ><nobr>55.52</nobr></td><td ><nobr>20.07</nobr></td><td ><nobr>30.73</nobr></td><td style=\\'color:red;\\'><nobr>-23.34</nobr></td><td ><nobr>0.75</nobr></td><td ><nobr>8.08</nobr></td><td style=\\'color:red;\\'><nobr>-1.82</nobr></td><td style=\\'color:red;\\'><nobr>-2.97</nobr></td><td ><nobr>42.56</nobr></td></tr><tr bgcolor=\\'white\\' align=\\'right\\' valign=\\'middle\\'><td align=\\'left\\' style=\\'padding-left:79px\\'>應付帳款–關係人增加(減少)</td><td ><nobr>0.14</nobr></td><td style=\\'color:red;\\'><nobr>-7.18</nobr></td><td ><nobr>6.51</nobr></td><td style=\\'color:red;\\'><nobr>-4.41</nobr></td><td style=\\'color:red;\\'><nobr>-1.63</nobr></td><td ><nobr>1.25</nobr></td><td ><nobr>5.5</nobr></td><td style=\\'color:red;\\'><nobr>-0.58</nobr></td><td ><nobr>0.56</nobr></td><td style=\\'color:red;\\'><nobr>-2.03</nobr></td></tr><tr bgcolor=\\'white\\' align=\\'right\\' valign=\\'middle\\'><td align=\\'left\\' style=\\'padding-left:79px\\'>員工福利負債準備增加(減少)</td><td style=\\'color:red;\\'><nobr>-25.04</nobr></td><td ><nobr>0.028</nobr></td><td style=\\'color:red;\\'><nobr>-0.093</nobr></td><td style=\\'color:red;\\'><nobr>-0.09</nobr></td><td style=\\'color:red;\\'><nobr>-6.2</nobr></td><td ><nobr>0.12</nobr></td><td ><nobr>0.038</nobr></td><td ><nobr>0.036</nobr></td><td style=\\'color:red;\\'><nobr>-8.05</nobr></td><td ><nobr>0.19</nobr></td></tr><tr bgcolor=\\'white\\' align=\\'right\\' valign=\\'middle\\'><td align=\\'left\\' style=\\'padding-left:79px\\'>其他流動負債增加(減少)</td><td ><nobr>28.82</nobr></td><td ><nobr>360.1</nobr></td><td ><nobr>299</nobr></td><td ><nobr>115.5</nobr></td><td ><nobr>106</nobr></td><td ><nobr>94.12</nobr></td><td ><nobr>81.72</nobr></td><td ><nobr>49.11</nobr></td><td ><nobr>19.21</nobr></td><td style=\\'color:red;\\'><nobr>-11.49</nobr></td></tr><tr bgcolor=\\'white\\' align=\\'right\\' valign=\\'middle\\'><td align=\\'left\\' style=\\'padding-left:79px\\'>其他營業負債增加(減少)</td><td ><nobr>526.6</nobr></td><td ><nobr>735.3</nobr></td><td ><nobr>647.5</nobr></td><td ><nobr>81.79</nobr></td><td ><nobr>84.69</nobr></td><td ><nobr>90.96</nobr></td><td style=\\'color:red;\\'><nobr>-134.4</nobr></td><td ><nobr>83.08</nobr></td><td ><nobr>80.71</nobr></td><td ><nobr>73.78</nobr></td></tr><tr bgcolor=\\'white\\' align=\\'right\\' valign=\\'middle\\'><td align=\\'left\\' style=\\'padding-left:64px\\'>營業活動相關之負債淨變動合計</td><td ><nobr>544.2</nobr></td><td ><nobr>1,144</nobr></td><td ><nobr>973</nobr></td><td ><nobr>223.5</nobr></td><td ><nobr>159.5</nobr></td><td ><nobr>187.2</nobr></td><td style=\\'color:red;\\'><nobr>-39.09</nobr></td><td ><nobr>129.8</nobr></td><td ><nobr>89.47</nobr></td><td ><nobr>103</nobr></td></tr><tr bgcolor=\\'white\\' align=\\'right\\' valign=\\'middle\\'><td align=\\'left\\' style=\\'padding-left:49px\\'>營業活動相關之資產及負債淨變動合計</td><td ><nobr>333</nobr></td><td ><nobr>886.6</nobr></td><td ><nobr>720.9</nobr></td><td style=\\'color:red;\\'><nobr>-73.64</nobr></td><td style=\\'color:red;\\'><nobr>-209.2</nobr></td><td ><nobr>41.8</nobr></td><td style=\\'color:red;\\'><nobr>-404.9</nobr></td><td ><nobr>15.75</nobr></td><td ><nobr>63.98</nobr></td><td ><nobr>303.1</nobr></td></tr><tr bgcolor=\\'white\\' align=\\'right\\' valign=\\'middle\\'><td align=\\'left\\' style=\\'padding-left:34px\\'><nobr>調整項目合計</nobr></td><td ><nobr>1,460</nobr></td><td ><nobr>1,935</nobr></td><td ><nobr>1,742</nobr></td><td ><nobr>916.2</nobr></td><td ><nobr>731.5</nobr></td><td ><nobr>984.9</nobr></td><td ><nobr>534</nobr></td><td ><nobr>651</nobr></td><td ><nobr>722.6</nobr></td><td ><nobr>882.5</nobr></td></tr><tr bgcolor=\\'white\\' align=\\'right\\' valign=\\'middle\\'><td align=\\'left\\' style=\\'padding-left:19px\\'>營運產生之現金流入(出)</td><td ><nobr>3,728</nobr></td><td ><nobr>3,784</nobr></td><td ><nobr>3,481</nobr></td><td ><nobr>2,410</nobr></td><td ><nobr>2,282</nobr></td><td ><nobr>2,596</nobr></td><td ><nobr>2,085</nobr></td><td ><nobr>2,015</nobr></td><td ><nobr>2,044</nobr></td><td ><nobr>2,170</nobr></td></tr><tr bgcolor=\\'white\\' align=\\'right\\' valign=\\'middle\\'><td align=\\'left\\' style=\\'padding-left:19px\\'><nobr>所得稅之(支付)退還</nobr></td><td style=\\'color:red;\\'><nobr>-6.42</nobr></td><td style=\\'color:red;\\'><nobr>-1.57</nobr></td><td style=\\'color:red;\\'><nobr>-293.7</nobr></td><td style=\\'color:red;\\'><nobr>-535.7</nobr></td><td style=\\'color:red;\\'><nobr>-4.02</nobr></td><td style=\\'color:red;\\'><nobr>-4.65</nobr></td><td style=\\'color:red;\\'><nobr>-183.5</nobr></td><td style=\\'color:red;\\'><nobr>-311.6</nobr></td><td style=\\'color:red;\\'><nobr>-13.79</nobr></td><td style=\\'color:red;\\'><nobr>-140.7</nobr></td></tr><tr bgcolor=\\'white\\' align=\\'right\\' valign=\\'middle\\'><td align=\\'left\\' style=\\'padding-left:4px\\'>營業活動之淨現金流入(出)</td><td ><nobr>3,722</nobr></td><td ><nobr>3,782</nobr></td><td ><nobr>3,187</nobr></td><td ><nobr>1,874</nobr></td><td ><nobr>2,278</nobr></td><td ><nobr>2,591</nobr></td><td ><nobr>1,902</nobr></td><td ><nobr>1,703</nobr></td><td ><nobr>2,030</nobr></td><td ><nobr>2,030</nobr></td></tr><tr class=\\'bg_h1 fw_normal\\' style=\\'text-align:center;\\'><td   style=\\'color:blue;\\'><nobr>投資活動</nobr></td><td><nobr>2022Q1</nobr></td><td><nobr>2021Q4</nobr></td><td><nobr>2021Q3</nobr></td><td><nobr>2021Q2</nobr></td><td><nobr>2021Q1</nobr></td><td><nobr>2020Q4</nobr></td><td><nobr>2020Q3</nobr></td><td><nobr>2020Q2</nobr></td><td><nobr>2020Q1</nobr></td><td><nobr>2019Q4</nobr></td></tr><tr bgcolor=\\'white\\' align=\\'right\\' valign=\\'middle\\'><td align=\\'left\\' style=\\'padding-left:19px\\'>透過其他綜合損益按公允價值衡量之金融資產(增加)減少</td><td style=\\'color:red;\\'><nobr>-85.8</nobr></td><td style=\\'color:red;\\'><nobr>-45.82</nobr></td><td ><nobr>63.43</nobr></td><td style=\\'color:red;\\'><nobr>-64.97</nobr></td><td ><nobr>35.68</nobr></td><td style=\\'color:red;\\'><nobr>-18.39</nobr></td><td ><nobr>33.19</nobr></td><td ><nobr>22.08</nobr></td><td ><nobr>6.58</nobr></td><td style=\\'color:red;\\'><nobr>-5.78</nobr></td></tr><tr bgcolor=\\'white\\' align=\\'right\\' valign=\\'middle\\'><td align=\\'left\\' style=\\'padding-left:19px\\'>按攤銷後成本衡量之金融資產(增加)減少</td><td style=\\'color:red;\\'><nobr>-181.6</nobr></td><td style=\\'color:red;\\'><nobr>-38</nobr></td><td ><nobr>0</nobr></td><td ><nobr>0</nobr></td><td ><nobr>0</nobr></td><td ><nobr>0</nobr></td><td style=\\'color:red;\\'><nobr>-29.36</nobr></td><td style=\\'color:red;\\'><nobr>-13.66</nobr></td><td ><nobr>-</nobr></td><td ><nobr>0</nobr></td></tr><tr bgcolor=\\'white\\' align=\\'right\\' valign=\\'middle\\'><td align=\\'left\\' style=\\'padding-left:19px\\'>按攤銷後成本衡量之金融資產到期還本</td><td ><nobr>-</nobr></td><td ><nobr>0</nobr></td><td ><nobr>27.87</nobr></td><td ><nobr>65.81</nobr></td><td ><nobr>-</nobr></td><td ><nobr>2.85</nobr></td><td ><nobr>0</nobr></td><td ><nobr>0</nobr></td><td ><nobr>-</nobr></td><td ><nobr>0</nobr></td></tr><tr bgcolor=\\'white\\' align=\\'right\\' valign=\\'middle\\'><td align=\\'left\\' style=\\'padding-left:19px\\'>避險之衍生性金融負債除列</td><td ><nobr>5.37</nobr></td><td ><nobr>1.75</nobr></td><td style=\\'color:red;\\'><nobr>-0.42</nobr></td><td ><nobr>0.32</nobr></td><td ><nobr>1.12</nobr></td><td ><nobr>0.13</nobr></td><td ><nobr>0.17</nobr></td><td style=\\'color:red;\\'><nobr>-1.13</nobr></td><td style=\\'color:red;\\'><nobr>-2.26</nobr></td><td ><nobr>0.16</nobr></td></tr><tr bgcolor=\\'white\\' align=\\'right\\' valign=\\'middle\\'><td align=\\'left\\' style=\\'padding-left:19px\\'><nobr>固定資產(增加)減少</nobr></td><td style=\\'color:red;\\'><nobr>-2,615</nobr></td><td style=\\'color:red;\\'><nobr>-2,354</nobr></td><td style=\\'color:red;\\'><nobr>-1,885</nobr></td><td style=\\'color:red;\\'><nobr>-1,669</nobr></td><td style=\\'color:red;\\'><nobr>-2,480</nobr></td><td style=\\'color:red;\\'><nobr>-884.7</nobr></td><td style=\\'color:red;\\'><nobr>-990.8</nobr></td><td style=\\'color:red;\\'><nobr>-1,266</nobr></td><td style=\\'color:red;\\'><nobr>-1,925</nobr></td><td style=\\'color:red;\\'><nobr>-1,699</nobr></td></tr><tr bgcolor=\\'white\\' align=\\'right\\' valign=\\'middle\\'><td align=\\'left\\' style=\\'padding-left:19px\\'><nobr>無形資產(增加)減少</nobr></td><td style=\\'color:red;\\'><nobr>-5.83</nobr></td><td style=\\'color:red;\\'><nobr>-33.63</nobr></td><td style=\\'color:red;\\'><nobr>-15.54</nobr></td><td style=\\'color:red;\\'><nobr>-35.43</nobr></td><td style=\\'color:red;\\'><nobr>-5.81</nobr></td><td style=\\'color:red;\\'><nobr>-8.38</nobr></td><td style=\\'color:red;\\'><nobr>-2.17</nobr></td><td style=\\'color:red;\\'><nobr>-76.41</nobr></td><td style=\\'color:red;\\'><nobr>-8.46</nobr></td><td style=\\'color:red;\\'><nobr>-49.05</nobr></td></tr><tr bgcolor=\\'white\\' align=\\'right\\' valign=\\'middle\\'><td align=\\'left\\' style=\\'padding-left:19px\\'>存出保證金(增加)減少</td><td style=\\'color:red;\\'><nobr>-13.61</nobr></td><td style=\\'color:red;\\'><nobr>-2.19</nobr></td><td ><nobr>0.89</nobr></td><td style=\\'color:red;\\'><nobr>-13.4</nobr></td><td ><nobr>1.57</nobr></td><td style=\\'color:red;\\'><nobr>-0.82</nobr></td><td ><nobr>2.21</nobr></td><td ><nobr>2.96</nobr></td><td ><nobr>2.7</nobr></td><td ><nobr>1.09</nobr></td></tr><tr bgcolor=\\'white\\' align=\\'right\\' valign=\\'middle\\'><td align=\\'left\\' style=\\'padding-left:19px\\'>其他預付款項(增加)減少</td><td ><nobr>0</nobr></td><td ><nobr>0</nobr></td><td ><nobr>0</nobr></td><td ><nobr>0</nobr></td><td style=\\'color:red;\\'><nobr>-12</nobr></td><td style=\\'color:red;\\'><nobr>-24.95</nobr></td><td style=\\'color:red;\\'><nobr>-21.98</nobr></td><td ><nobr>0</nobr></td><td ><nobr>0</nobr></td><td ><nobr>0</nobr></td></tr><tr bgcolor=\\'white\\' align=\\'right\\' valign=\\'middle\\'><td align=\\'left\\' style=\\'padding-left:19px\\'><nobr>收取之利息</nobr></td><td ><nobr>15.27</nobr></td><td ><nobr>15.21</nobr></td><td ><nobr>14.3</nobr></td><td ><nobr>15.46</nobr></td><td ><nobr>14.94</nobr></td><td ><nobr>18.09</nobr></td><td ><nobr>20.07</nobr></td><td ><nobr>29.21</nobr></td><td ><nobr>30.38</nobr></td><td ><nobr>36.2</nobr></td></tr><tr bgcolor=\\'white\\' align=\\'right\\' valign=\\'middle\\'><td align=\\'left\\' style=\\'padding-left:19px\\'><nobr>收取之股利</nobr></td><td ><nobr>0.001</nobr></td><td ><nobr>0.051</nobr></td><td ><nobr>19.41</nobr></td><td ><nobr>3.83</nobr></td><td ><nobr>1.69</nobr></td><td ><nobr>1.91</nobr></td><td ><nobr>26.57</nobr></td><td ><nobr>5.29</nobr></td><td ><nobr>1.11</nobr></td><td ><nobr>0.74</nobr></td></tr><tr bgcolor=\\'white\\' align=\\'right\\' valign=\\'middle\\'><td align=\\'left\\' style=\\'padding-left:19px\\'><nobr>其他投資活動</nobr></td><td ><nobr>0.68</nobr></td><td ><nobr>2.99</nobr></td><td ><nobr>5.29</nobr></td><td ><nobr>0</nobr></td><td ><nobr>0</nobr></td><td ><nobr>4.72</nobr></td><td ><nobr>1.32</nobr></td><td ><nobr>0</nobr></td><td ><nobr>4.96</nobr></td><td ><nobr>0</nobr></td></tr><tr bgcolor=\\'white\\' align=\\'right\\' valign=\\'middle\\'><td align=\\'left\\' style=\\'padding-left:4px\\'>投資活動之淨現金流入(出)</td><td style=\\'color:red;\\'><nobr>-2,881</nobr></td><td style=\\'color:red;\\'><nobr>-2,453</nobr></td><td style=\\'color:red;\\'><nobr>-1,770</nobr></td><td style=\\'color:red;\\'><nobr>-1,698</nobr></td><td style=\\'color:red;\\'><nobr>-2,443</nobr></td><td style=\\'color:red;\\'><nobr>-909.6</nobr></td><td style=\\'color:red;\\'><nobr>-960.8</nobr></td><td style=\\'color:red;\\'><nobr>-1,298</nobr></td><td style=\\'color:red;\\'><nobr>-1,890</nobr></td><td style=\\'color:red;\\'><nobr>-1,716</nobr></td></tr><tr class=\\'bg_h1 fw_normal\\' style=\\'text-align:center;\\'><td   style=\\'color:blue;\\'><nobr>融資活動</nobr></td><td><nobr>2022Q1</nobr></td><td><nobr>2021Q4</nobr></td><td><nobr>2021Q3</nobr></td><td><nobr>2021Q2</nobr></td><td><nobr>2021Q1</nobr></td><td><nobr>2020Q4</nobr></td><td><nobr>2020Q3</nobr></td><td><nobr>2020Q2</nobr></td><td><nobr>2020Q1</nobr></td><td><nobr>2019Q4</nobr></td></tr><tr bgcolor=\\'white\\' align=\\'right\\' valign=\\'middle\\'><td align=\\'left\\' style=\\'padding-left:19px\\'><nobr>短期借款增加(減少)</nobr></td><td ><nobr>305.3</nobr></td><td style=\\'color:red;\\'><nobr>-18.62</nobr></td><td style=\\'color:red;\\'><nobr>-180.9</nobr></td><td ><nobr>35.52</nobr></td><td ><nobr>520.7</nobr></td><td style=\\'color:red;\\'><nobr>-673.5</nobr></td><td style=\\'color:red;\\'><nobr>-168</nobr></td><td ><nobr>322.3</nobr></td><td ><nobr>203.5</nobr></td><td ><nobr>356.8</nobr></td></tr><tr bgcolor=\\'white\\' align=\\'right\\' valign=\\'middle\\'><td align=\\'left\\' style=\\'padding-left:19px\\'>應付短期票券增加(減少)</td><td ><nobr>-</nobr></td><td ><nobr>0</nobr></td><td ><nobr>0</nobr></td><td ><nobr>0</nobr></td><td ><nobr>-</nobr></td><td ><nobr>0</nobr></td><td style=\\'color:red;\\'><nobr>-65</nobr></td><td ><nobr>64.85</nobr></td><td ><nobr>-</nobr></td><td ><nobr>0</nobr></td></tr><tr bgcolor=\\'white\\' align=\\'right\\' valign=\\'middle\\'><td align=\\'left\\' style=\\'padding-left:19px\\'><nobr>公司債之發行(償還)</nobr></td><td ><nobr>195.8</nobr></td><td ><nobr>1,571</nobr></td><td ><nobr>492.7</nobr></td><td ><nobr>1,365</nobr></td><td ><nobr>184.8</nobr></td><td ><nobr>304.7</nobr></td><td ><nobr>1,357</nobr></td><td ><nobr>359.6</nobr></td><td ><nobr>23.75</nobr></td><td ><nobr>0</nobr></td></tr><tr bgcolor=\\'white\\' align=\\'right\\' valign=\\'middle\\'><td align=\\'left\\' style=\\'padding-left:19px\\'><nobr>長期借款增加(減少)</nobr></td><td ><nobr>0</nobr></td><td ><nobr>0</nobr></td><td ><nobr>3</nobr></td><td ><nobr>5.5</nobr></td><td ><nobr>6.6</nobr></td><td ><nobr>10</nobr></td><td ><nobr>10</nobr></td><td ><nobr>0</nobr></td><td ><nobr>0</nobr></td><td ><nobr>0</nobr></td></tr><tr bgcolor=\\'white\\' align=\\'right\\' valign=\\'middle\\'><td align=\\'left\\' style=\\'padding-left:19px\\'><nobr>租賃本金增加(減少)</nobr></td><td style=\\'color:red;\\'><nobr>-5.23</nobr></td><td style=\\'color:red;\\'><nobr>-5.35</nobr></td><td style=\\'color:red;\\'><nobr>-4.65</nobr></td><td style=\\'color:red;\\'><nobr>-4.53</nobr></td><td style=\\'color:red;\\'><nobr>-5.33</nobr></td><td style=\\'color:red;\\'><nobr>-4.6</nobr></td><td style=\\'color:red;\\'><nobr>-7.43</nobr></td><td style=\\'color:red;\\'><nobr>-7.3</nobr></td><td style=\\'color:red;\\'><nobr>-6.83</nobr></td><td style=\\'color:red;\\'><nobr>-4.73</nobr></td></tr><tr bgcolor=\\'white\\' align=\\'right\\' valign=\\'middle\\'><td align=\\'left\\' style=\\'padding-left:19px\\'>存入保證金增加(減少)</td><td ><nobr>0.069</nobr></td><td ><nobr>0.58</nobr></td><td ><nobr>2.58</nobr></td><td ><nobr>0.29</nobr></td><td ><nobr>0.87</nobr></td><td ><nobr>1.1</nobr></td><td ><nobr>0.06</nobr></td><td style=\\'color:red;\\'><nobr>-0.001</nobr></td><td ><nobr>0.14</nobr></td><td ><nobr>0.091</nobr></td></tr><tr bgcolor=\\'white\\' align=\\'right\\' valign=\\'middle\\'><td align=\\'left\\' style=\\'padding-left:19px\\'><nobr>庫藏股之(買回)賣出</nobr></td><td style=\\'color:red;\\'><nobr>-8.72</nobr></td><td ><nobr>-</nobr></td><td ><nobr>-</nobr></td><td ><nobr>0</nobr></td><td ><nobr>0</nobr></td><td ><nobr>-</nobr></td><td ><nobr>-</nobr></td><td ><nobr>-</nobr></td><td ><nobr>-</nobr></td><td ><nobr>-</nobr></td></tr><tr bgcolor=\\'white\\' align=\\'right\\' valign=\\'middle\\'><td align=\\'left\\' style=\\'padding-left:19px\\'>子公司股權(增加)減少</td><td ><nobr>0</nobr></td><td ><nobr>0</nobr></td><td ><nobr>0</nobr></td><td ><nobr>0</nobr></td><td ><nobr>94.52</nobr></td><td ><nobr>0</nobr></td><td ><nobr>0</nobr></td><td ><nobr>0</nobr></td><td ><nobr>0</nobr></td><td ><nobr>-</nobr></td></tr><tr bgcolor=\\'white\\' align=\\'right\\' valign=\\'middle\\'><td align=\\'left\\' style=\\'padding-left:19px\\'><nobr>發放現金股利</nobr></td><td style=\\'color:red;\\'><nobr>-713.1</nobr></td><td style=\\'color:red;\\'><nobr>-713.1</nobr></td><td style=\\'color:red;\\'><nobr>-648.3</nobr></td><td style=\\'color:red;\\'><nobr>-648.3</nobr></td><td style=\\'color:red;\\'><nobr>-648.3</nobr></td><td style=\\'color:red;\\'><nobr>-648.3</nobr></td><td style=\\'color:red;\\'><nobr>-648.3</nobr></td><td style=\\'color:red;\\'><nobr>-648.3</nobr></td><td style=\\'color:red;\\'><nobr>-648.3</nobr></td><td style=\\'color:red;\\'><nobr>-518.6</nobr></td></tr><tr bgcolor=\\'white\\' align=\\'right\\' valign=\\'middle\\'><td align=\\'left\\' style=\\'padding-left:19px\\'><nobr>收取(支付)之利息</nobr></td><td style=\\'color:red;\\'><nobr>-11.04</nobr></td><td style=\\'color:red;\\'><nobr>-11.39</nobr></td><td style=\\'color:red;\\'><nobr>-16.49</nobr></td><td style=\\'color:red;\\'><nobr>-2.74</nobr></td><td style=\\'color:red;\\'><nobr>-7.73</nobr></td><td style=\\'color:red;\\'><nobr>-1.56</nobr></td><td style=\\'color:red;\\'><nobr>-4.29</nobr></td><td style=\\'color:red;\\'><nobr>-2.19</nobr></td><td style=\\'color:red;\\'><nobr>-9.77</nobr></td><td style=\\'color:red;\\'><nobr>-5.39</nobr></td></tr><tr bgcolor=\\'white\\' align=\\'right\\' valign=\\'middle\\'><td align=\\'left\\' style=\\'padding-left:19px\\'><nobr>非控制權益變動</nobr></td><td ><nobr>46.06</nobr></td><td ><nobr>0.009</nobr></td><td style=\\'color:red;\\'><nobr>-1.16</nobr></td><td ><nobr>0</nobr></td><td ><nobr>0.002</nobr></td><td ><nobr>0</nobr></td><td ><nobr>0</nobr></td><td ><nobr>0</nobr></td><td ><nobr>0</nobr></td><td ><nobr>0.002</nobr></td></tr><tr bgcolor=\\'white\\' align=\\'right\\' valign=\\'middle\\'><td align=\\'left\\' style=\\'padding-left:19px\\'><nobr>其他融資活動</nobr></td><td ><nobr>-</nobr></td><td ><nobr>0.11</nobr></td><td ><nobr>-</nobr></td><td ><nobr>-</nobr></td><td ><nobr>-</nobr></td><td ><nobr>0.073</nobr></td><td ><nobr>-</nobr></td><td ><nobr>-</nobr></td><td ><nobr>-</nobr></td><td ><nobr>0.04</nobr></td></tr><tr bgcolor=\\'white\\' align=\\'right\\' valign=\\'middle\\'><td align=\\'left\\' style=\\'padding-left:4px\\'>融資活動之淨現金流入(出)</td><td style=\\'color:red;\\'><nobr>-190.9</nobr></td><td ><nobr>822.8</nobr></td><td style=\\'color:red;\\'><nobr>-353.2</nobr></td><td ><nobr>750.3</nobr></td><td ><nobr>146.2</nobr></td><td style=\\'color:red;\\'><nobr>-1,012</nobr></td><td ><nobr>474.3</nobr></td><td ><nobr>59.12</nobr></td><td style=\\'color:red;\\'><nobr>-407.6</nobr></td><td style=\\'color:red;\\'><nobr>-171.8</nobr></td></tr><tr class=\\'bg_h1 fw_normal\\' style=\\'text-align:center;\\'><td   style=\\'color:blue;\\'><nobr>其他影響現金流量之活動</nobr></td><td><nobr>2022Q1</nobr></td><td><nobr>2021Q4</nobr></td><td><nobr>2021Q3</nobr></td><td><nobr>2021Q2</nobr></td><td><nobr>2021Q1</nobr></td><td><nobr>2020Q4</nobr></td><td><nobr>2020Q3</nobr></td><td><nobr>2020Q2</nobr></td><td><nobr>2020Q1</nobr></td><td><nobr>2019Q4</nobr></td></tr><tr bgcolor=\\'white\\' align=\\'right\\' valign=\\'middle\\'><td align=\\'left\\' style=\\'padding-left:4px\\'><nobr>匯率變動影響數</nobr></td><td ><nobr>215.9</nobr></td><td style=\\'color:red;\\'><nobr>-39.62</nobr></td><td style=\\'color:red;\\'><nobr>-5.31</nobr></td><td style=\\'color:red;\\'><nobr>-94.65</nobr></td><td ><nobr>63.74</nobr></td><td style=\\'color:red;\\'><nobr>-109.9</nobr></td><td style=\\'color:red;\\'><nobr>-49.44</nobr></td><td style=\\'color:red;\\'><nobr>-96.61</nobr></td><td ><nobr>20.99</nobr></td><td style=\\'color:red;\\'><nobr>-112</nobr></td></tr><tr class=\\'bg_h1 fw_normal\\' style=\\'text-align:center;\\'><td   style=\\'color:blue;\\'><nobr>現金流量總計</nobr></td><td><nobr>2022Q1</nobr></td><td><nobr>2021Q4</nobr></td><td><nobr>2021Q3</nobr></td><td><nobr>2021Q2</nobr></td><td><nobr>2021Q1</nobr></td><td><nobr>2020Q4</nobr></td><td><nobr>2020Q3</nobr></td><td><nobr>2020Q2</nobr></td><td><nobr>2020Q1</nobr></td><td><nobr>2019Q4</nobr></td></tr><tr bgcolor=\\'white\\' align=\\'right\\' valign=\\'middle\\'><td align=\\'left\\' style=\\'padding-left:4px\\'>本期現金及約當現金增加(減少)數</td><td ><nobr>866</nobr></td><td ><nobr>2,112</nobr></td><td ><nobr>1,058</nobr></td><td ><nobr>832.5</nobr></td><td ><nobr>45.57</nobr></td><td ><nobr>559.8</nobr></td><td ><nobr>1,366</nobr></td><td ><nobr>368.4</nobr></td><td style=\\'color:red;\\'><nobr>-246.2</nobr></td><td ><nobr>29.69</nobr></td></tr><tr bgcolor=\\'white\\' align=\\'right\\' valign=\\'middle\\'><td align=\\'left\\' style=\\'padding-left:4px\\'>期初現金及約當現金餘額</td><td ><nobr>10,650</nobr></td><td ><nobr>8,538</nobr></td><td ><nobr>7,480</nobr></td><td ><nobr>6,647</nobr></td><td ><nobr>6,602</nobr></td><td ><nobr>6,042</nobr></td><td ><nobr>4,676</nobr></td><td ><nobr>4,308</nobr></td><td ><nobr>4,554</nobr></td><td ><nobr>4,524</nobr></td></tr><tr bgcolor=\\'white\\' align=\\'right\\' valign=\\'middle\\'><td align=\\'left\\' style=\\'padding-left:4px\\'>期末現金及約當現金餘額</td><td ><nobr>11,516</nobr></td><td ><nobr>10,650</nobr></td><td ><nobr>8,538</nobr></td><td ><nobr>7,480</nobr></td><td ><nobr>6,647</nobr></td><td ><nobr>6,602</nobr></td><td ><nobr>6,042</nobr></td><td ><nobr>4,676</nobr></td><td ><nobr>4,308</nobr></td><td ><nobr>4,554</nobr></td></tr><tr class=\\'bg_h1\\' align=\\'right\\' valign=\\'middle\\'>  <td align=\\'left\\' style=\\'color:blue\\'>財務報告書–公<nobr>開資訊觀測站</nobr></td><td  align=\\'center\\'><a target=\\'_blank\\' class=\\'link_blue\\' href=\\'OpenLink.asp?LINK=http%3A%2F%2Fdoc%2Etwse%2Ecom%2Etw%2Fserver%2Djava%2Ft57sb01%3Fstep%3D1%26colorchg%3D1%26co%5Fid%3D2330%26year%3D111%26seamon%3D%26mtype%3DA%26\\'><img height=\\'16px\\' src=\\'image/link.png\\'></a></td><td  align=\\'center\\'><a target=\\'_blank\\' class=\\'link_blue\\' href=\\'OpenLink.asp?LINK=http%3A%2F%2Fdoc%2Etwse%2Ecom%2Etw%2Fserver%2Djava%2Ft57sb01%3Fstep%3D1%26colorchg%3D1%26co%5Fid%3D2330%26year%3D110%26seamon%3D%26mtype%3DA%26\\'><img height=\\'16px\\' src=\\'image/link.png\\'></a></td><td  align=\\'center\\'><a target=\\'_blank\\' class=\\'link_blue\\' href=\\'OpenLink.asp?LINK=http%3A%2F%2Fdoc%2Etwse%2Ecom%2Etw%2Fserver%2Djava%2Ft57sb01%3Fstep%3D1%26colorchg%3D1%26co%5Fid%3D2330%26year%3D110%26seamon%3D%26mtype%3DA%26\\'><img height=\\'16px\\' src=\\'image/link.png\\'></a></td><td  align=\\'center\\'><a target=\\'_blank\\' class=\\'link_blue\\' href=\\'OpenLink.asp?LINK=http%3A%2F%2Fdoc%2Etwse%2Ecom%2Etw%2Fserver%2Djava%2Ft57sb01%3Fstep%3D1%26colorchg%3D1%26co%5Fid%3D2330%26year%3D110%26seamon%3D%26mtype%3DA%26\\'><img height=\\'16px\\' src=\\'image/link.png\\'></a></td><td  align=\\'center\\'><a target=\\'_blank\\' class=\\'link_blue\\' href=\\'OpenLink.asp?LINK=http%3A%2F%2Fdoc%2Etwse%2Ecom%2Etw%2Fserver%2Djava%2Ft57sb01%3Fstep%3D1%26colorchg%3D1%26co%5Fid%3D2330%26year%3D110%26seamon%3D%26mtype%3DA%26\\'><img height=\\'16px\\' src=\\'image/link.png\\'></a></td><td  align=\\'center\\'><a target=\\'_blank\\' class=\\'link_blue\\' href=\\'OpenLink.asp?LINK=http%3A%2F%2Fdoc%2Etwse%2Ecom%2Etw%2Fserver%2Djava%2Ft57sb01%3Fstep%3D1%26colorchg%3D1%26co%5Fid%3D2330%26year%3D109%26seamon%3D%26mtype%3DA%26\\'><img height=\\'16px\\' src=\\'image/link.png\\'></a></td><td  align=\\'center\\'><a target=\\'_blank\\' class=\\'link_blue\\' href=\\'OpenLink.asp?LINK=http%3A%2F%2Fdoc%2Etwse%2Ecom%2Etw%2Fserver%2Djava%2Ft57sb01%3Fstep%3D1%26colorchg%3D1%26co%5Fid%3D2330%26year%3D109%26seamon%3D%26mtype%3DA%26\\'><img height=\\'16px\\' src=\\'image/link.png\\'></a></td><td  align=\\'center\\'><a target=\\'_blank\\' class=\\'link_blue\\' href=\\'OpenLink.asp?LINK=http%3A%2F%2Fdoc%2Etwse%2Ecom%2Etw%2Fserver%2Djava%2Ft57sb01%3Fstep%3D1%26colorchg%3D1%26co%5Fid%3D2330%26year%3D109%26seamon%3D%26mtype%3DA%26\\'><img height=\\'16px\\' src=\\'image/link.png\\'></a></td><td  align=\\'center\\'><a target=\\'_blank\\' class=\\'link_blue\\' href=\\'OpenLink.asp?LINK=http%3A%2F%2Fdoc%2Etwse%2Ecom%2Etw%2Fserver%2Djava%2Ft57sb01%3Fstep%3D1%26colorchg%3D1%26co%5Fid%3D2330%26year%3D109%26seamon%3D%26mtype%3DA%26\\'><img height=\\'16px\\' src=\\'image/link.png\\'></a></td><td  align=\\'center\\'><a target=\\'_blank\\' class=\\'link_blue\\' href=\\'OpenLink.asp?LINK=http%3A%2F%2Fdoc%2Etwse%2Ecom%2Etw%2Fserver%2Djava%2Ft57sb01%3Fstep%3D1%26colorchg%3D1%26co%5Fid%3D2330%26year%3D108%26seamon%3D%26mtype%3DA%26\\'><img height=\\'16px\\' src=\\'image/link.png\\'></a></td></tr></table></div></div>'"
      ]
     },
     "execution_count": 75,
     "metadata": {},
     "output_type": "execute_result"
    }
   ],
   "source": [
    "import requests\n",
    "url = 'https://goodinfo.tw/tw/StockFinDetail.asp?STEP=DATA&STOCK_ID=2330&RPT_CAT=CF_QUAR&QRY_TIME=20221'\n",
    "headers = {\n",
    "    'origin': 'https://goodinfo.tw',\n",
    "    'referer': 'https://goodinfo.tw/tw/StockFinDetail.asp?RPT_CAT=XX_M_QUAR_ACC&STOCK_ID=2330',\n",
    "    'user-agent':'Mozilla/5.0 (Macintosh; Intel Mac OS X 10_15_7) AppleWebKit/537.36 (KHTML, like Gecko) Chrome/103.0.0.0 Safari/537.36'\n",
    "}\n",
    "\n",
    "res = requests.post(url, headers = headers)\n",
    "res.encoding=\"utf-8\"\n",
    "res.text\n"
   ]
  },
  {
   "cell_type": "code",
   "execution_count": 76,
   "id": "1236d7d4",
   "metadata": {},
   "outputs": [
    {
     "data": {
      "text/plain": [
       "[                                                   0\n",
       " 0  2330 台積電 單季現金流量表 (個別) (單位:億元)合併報表 – 單季合併報表 – 累...,\n",
       "                 營業活動  2022Q1  2021Q4  2021Q3  2021Q2  2021Q1  2020Q4  2020Q3  \\\n",
       " 0           本期淨利(淨損)    2268    1848    1739    1494    1551    1611    1551   \n",
       " 1       繼續營業單位淨利(淨損)    2268    1848    1739    1494    1551    1611    1551   \n",
       " 2               折舊費用    1089    1086    1049    1017   989.7   956.5   928.2   \n",
       " 3               攤銷費用   21.68   20.74   21.25   20.81   19.27   19.14   19.08   \n",
       " 4      呆帳費用提列(轉列收入)數    0.12   0.025   -0.02  -0.028  -0.005  -0.005    0.04   \n",
       " ..               ...     ...     ...     ...     ...     ...     ...     ...   \n",
       " 68            現金流量總計  2022Q1  2021Q4  2021Q3  2021Q2  2021Q1  2020Q4  2020Q3   \n",
       " 69  本期現金及約當現金增加(減少)數     866    2112    1058   832.5   45.57   559.8    1366   \n",
       " 70       期初現金及約當現金餘額   10650    8538    7480    6647    6602    6042    4676   \n",
       " 71       期末現金及約當現金餘額   11516   10650    8538    7480    6647    6602    6042   \n",
       " 72     財務報告書–公開資訊觀測站     NaN     NaN     NaN     NaN     NaN     NaN     NaN   \n",
       " \n",
       "     2020Q2  2020Q1  2019Q4  \n",
       " 0     1364    1321    1288  \n",
       " 1     1364    1321    1288  \n",
       " 2    689.8   670.8   661.4  \n",
       " 3    18.94   14.71   13.94  \n",
       " 4   -0.014   0.016  -0.009  \n",
       " ..     ...     ...     ...  \n",
       " 68  2020Q2  2020Q1  2019Q4  \n",
       " 69   368.4  -246.2   29.69  \n",
       " 70    4308    4554    4524  \n",
       " 71    4676    4308    4554  \n",
       " 72     NaN     NaN     NaN  \n",
       " \n",
       " [73 rows x 11 columns]]"
      ]
     },
     "execution_count": 76,
     "metadata": {},
     "output_type": "execute_result"
    }
   ],
   "source": [
    "import pandas\n",
    "dfs = pandas.read_html(res.text)\n",
    "dfs"
   ]
  },
  {
   "cell_type": "code",
   "execution_count": 77,
   "id": "b7ee077b",
   "metadata": {},
   "outputs": [
    {
     "data": {
      "text/plain": [
       "2"
      ]
     },
     "execution_count": 77,
     "metadata": {},
     "output_type": "execute_result"
    }
   ],
   "source": [
    "len(dfs)"
   ]
  },
  {
   "cell_type": "code",
   "execution_count": 80,
   "id": "cfcbaf00",
   "metadata": {
    "scrolled": true
   },
   "outputs": [
    {
     "data": {
      "text/html": [
       "<div>\n",
       "<style scoped>\n",
       "    .dataframe tbody tr th:only-of-type {\n",
       "        vertical-align: middle;\n",
       "    }\n",
       "\n",
       "    .dataframe tbody tr th {\n",
       "        vertical-align: top;\n",
       "    }\n",
       "\n",
       "    .dataframe thead th {\n",
       "        text-align: right;\n",
       "    }\n",
       "</style>\n",
       "<table border=\"1\" class=\"dataframe\">\n",
       "  <thead>\n",
       "    <tr style=\"text-align: right;\">\n",
       "      <th></th>\n",
       "      <th>營業活動</th>\n",
       "      <th>2022Q1</th>\n",
       "      <th>2021Q4</th>\n",
       "      <th>2021Q3</th>\n",
       "      <th>2021Q2</th>\n",
       "      <th>2021Q1</th>\n",
       "      <th>2020Q4</th>\n",
       "      <th>2020Q3</th>\n",
       "      <th>2020Q2</th>\n",
       "      <th>2020Q1</th>\n",
       "      <th>2019Q4</th>\n",
       "    </tr>\n",
       "  </thead>\n",
       "  <tbody>\n",
       "    <tr>\n",
       "      <th>0</th>\n",
       "      <td>本期淨利(淨損)</td>\n",
       "      <td>2268</td>\n",
       "      <td>1848</td>\n",
       "      <td>1739</td>\n",
       "      <td>1494</td>\n",
       "      <td>1551</td>\n",
       "      <td>1611</td>\n",
       "      <td>1551</td>\n",
       "      <td>1364</td>\n",
       "      <td>1321</td>\n",
       "      <td>1288</td>\n",
       "    </tr>\n",
       "    <tr>\n",
       "      <th>1</th>\n",
       "      <td>繼續營業單位淨利(淨損)</td>\n",
       "      <td>2268</td>\n",
       "      <td>1848</td>\n",
       "      <td>1739</td>\n",
       "      <td>1494</td>\n",
       "      <td>1551</td>\n",
       "      <td>1611</td>\n",
       "      <td>1551</td>\n",
       "      <td>1364</td>\n",
       "      <td>1321</td>\n",
       "      <td>1288</td>\n",
       "    </tr>\n",
       "    <tr>\n",
       "      <th>2</th>\n",
       "      <td>折舊費用</td>\n",
       "      <td>1089</td>\n",
       "      <td>1086</td>\n",
       "      <td>1049</td>\n",
       "      <td>1017</td>\n",
       "      <td>989.7</td>\n",
       "      <td>956.5</td>\n",
       "      <td>928.2</td>\n",
       "      <td>689.8</td>\n",
       "      <td>670.8</td>\n",
       "      <td>661.4</td>\n",
       "    </tr>\n",
       "    <tr>\n",
       "      <th>3</th>\n",
       "      <td>攤銷費用</td>\n",
       "      <td>21.68</td>\n",
       "      <td>20.74</td>\n",
       "      <td>21.25</td>\n",
       "      <td>20.81</td>\n",
       "      <td>19.27</td>\n",
       "      <td>19.14</td>\n",
       "      <td>19.08</td>\n",
       "      <td>18.94</td>\n",
       "      <td>14.71</td>\n",
       "      <td>13.94</td>\n",
       "    </tr>\n",
       "    <tr>\n",
       "      <th>4</th>\n",
       "      <td>呆帳費用提列(轉列收入)數</td>\n",
       "      <td>0.12</td>\n",
       "      <td>0.025</td>\n",
       "      <td>-0.02</td>\n",
       "      <td>-0.028</td>\n",
       "      <td>-0.005</td>\n",
       "      <td>-0.005</td>\n",
       "      <td>0.04</td>\n",
       "      <td>-0.014</td>\n",
       "      <td>0.016</td>\n",
       "      <td>-0.009</td>\n",
       "    </tr>\n",
       "    <tr>\n",
       "      <th>...</th>\n",
       "      <td>...</td>\n",
       "      <td>...</td>\n",
       "      <td>...</td>\n",
       "      <td>...</td>\n",
       "      <td>...</td>\n",
       "      <td>...</td>\n",
       "      <td>...</td>\n",
       "      <td>...</td>\n",
       "      <td>...</td>\n",
       "      <td>...</td>\n",
       "      <td>...</td>\n",
       "    </tr>\n",
       "    <tr>\n",
       "      <th>68</th>\n",
       "      <td>現金流量總計</td>\n",
       "      <td>2022Q1</td>\n",
       "      <td>2021Q4</td>\n",
       "      <td>2021Q3</td>\n",
       "      <td>2021Q2</td>\n",
       "      <td>2021Q1</td>\n",
       "      <td>2020Q4</td>\n",
       "      <td>2020Q3</td>\n",
       "      <td>2020Q2</td>\n",
       "      <td>2020Q1</td>\n",
       "      <td>2019Q4</td>\n",
       "    </tr>\n",
       "    <tr>\n",
       "      <th>69</th>\n",
       "      <td>本期現金及約當現金增加(減少)數</td>\n",
       "      <td>866</td>\n",
       "      <td>2112</td>\n",
       "      <td>1058</td>\n",
       "      <td>832.5</td>\n",
       "      <td>45.57</td>\n",
       "      <td>559.8</td>\n",
       "      <td>1366</td>\n",
       "      <td>368.4</td>\n",
       "      <td>-246.2</td>\n",
       "      <td>29.69</td>\n",
       "    </tr>\n",
       "    <tr>\n",
       "      <th>70</th>\n",
       "      <td>期初現金及約當現金餘額</td>\n",
       "      <td>10650</td>\n",
       "      <td>8538</td>\n",
       "      <td>7480</td>\n",
       "      <td>6647</td>\n",
       "      <td>6602</td>\n",
       "      <td>6042</td>\n",
       "      <td>4676</td>\n",
       "      <td>4308</td>\n",
       "      <td>4554</td>\n",
       "      <td>4524</td>\n",
       "    </tr>\n",
       "    <tr>\n",
       "      <th>71</th>\n",
       "      <td>期末現金及約當現金餘額</td>\n",
       "      <td>11516</td>\n",
       "      <td>10650</td>\n",
       "      <td>8538</td>\n",
       "      <td>7480</td>\n",
       "      <td>6647</td>\n",
       "      <td>6602</td>\n",
       "      <td>6042</td>\n",
       "      <td>4676</td>\n",
       "      <td>4308</td>\n",
       "      <td>4554</td>\n",
       "    </tr>\n",
       "    <tr>\n",
       "      <th>72</th>\n",
       "      <td>財務報告書–公開資訊觀測站</td>\n",
       "      <td>NaN</td>\n",
       "      <td>NaN</td>\n",
       "      <td>NaN</td>\n",
       "      <td>NaN</td>\n",
       "      <td>NaN</td>\n",
       "      <td>NaN</td>\n",
       "      <td>NaN</td>\n",
       "      <td>NaN</td>\n",
       "      <td>NaN</td>\n",
       "      <td>NaN</td>\n",
       "    </tr>\n",
       "  </tbody>\n",
       "</table>\n",
       "<p>73 rows × 11 columns</p>\n",
       "</div>"
      ],
      "text/plain": [
       "                營業活動  2022Q1  2021Q4  2021Q3  2021Q2  2021Q1  2020Q4  2020Q3  \\\n",
       "0           本期淨利(淨損)    2268    1848    1739    1494    1551    1611    1551   \n",
       "1       繼續營業單位淨利(淨損)    2268    1848    1739    1494    1551    1611    1551   \n",
       "2               折舊費用    1089    1086    1049    1017   989.7   956.5   928.2   \n",
       "3               攤銷費用   21.68   20.74   21.25   20.81   19.27   19.14   19.08   \n",
       "4      呆帳費用提列(轉列收入)數    0.12   0.025   -0.02  -0.028  -0.005  -0.005    0.04   \n",
       "..               ...     ...     ...     ...     ...     ...     ...     ...   \n",
       "68            現金流量總計  2022Q1  2021Q4  2021Q3  2021Q2  2021Q1  2020Q4  2020Q3   \n",
       "69  本期現金及約當現金增加(減少)數     866    2112    1058   832.5   45.57   559.8    1366   \n",
       "70       期初現金及約當現金餘額   10650    8538    7480    6647    6602    6042    4676   \n",
       "71       期末現金及約當現金餘額   11516   10650    8538    7480    6647    6602    6042   \n",
       "72     財務報告書–公開資訊觀測站     NaN     NaN     NaN     NaN     NaN     NaN     NaN   \n",
       "\n",
       "    2020Q2  2020Q1  2019Q4  \n",
       "0     1364    1321    1288  \n",
       "1     1364    1321    1288  \n",
       "2    689.8   670.8   661.4  \n",
       "3    18.94   14.71   13.94  \n",
       "4   -0.014   0.016  -0.009  \n",
       "..     ...     ...     ...  \n",
       "68  2020Q2  2020Q1  2019Q4  \n",
       "69   368.4  -246.2   29.69  \n",
       "70    4308    4554    4524  \n",
       "71    4676    4308    4554  \n",
       "72     NaN     NaN     NaN  \n",
       "\n",
       "[73 rows x 11 columns]"
      ]
     },
     "execution_count": 80,
     "metadata": {},
     "output_type": "execute_result"
    }
   ],
   "source": [
    "dfs[1]"
   ]
  },
  {
   "cell_type": "code",
   "execution_count": 85,
   "id": "b8b81ca4",
   "metadata": {},
   "outputs": [
    {
     "data": {
      "text/html": [
       "<div>\n",
       "<style scoped>\n",
       "    .dataframe tbody tr th:only-of-type {\n",
       "        vertical-align: middle;\n",
       "    }\n",
       "\n",
       "    .dataframe tbody tr th {\n",
       "        vertical-align: top;\n",
       "    }\n",
       "\n",
       "    .dataframe thead th {\n",
       "        text-align: right;\n",
       "    }\n",
       "</style>\n",
       "<table border=\"1\" class=\"dataframe\">\n",
       "  <thead>\n",
       "    <tr style=\"text-align: right;\">\n",
       "      <th></th>\n",
       "      <th>營業活動</th>\n",
       "      <th>2022Q1</th>\n",
       "      <th>2021Q4</th>\n",
       "      <th>2021Q3</th>\n",
       "      <th>2021Q2</th>\n",
       "      <th>2021Q1</th>\n",
       "      <th>2020Q4</th>\n",
       "      <th>2020Q3</th>\n",
       "      <th>2020Q2</th>\n",
       "      <th>2020Q1</th>\n",
       "      <th>2019Q4</th>\n",
       "    </tr>\n",
       "  </thead>\n",
       "  <tbody>\n",
       "    <tr>\n",
       "      <th>38</th>\n",
       "      <td>營業活動之淨現金流入(出)</td>\n",
       "      <td>3722</td>\n",
       "      <td>3782</td>\n",
       "      <td>3187</td>\n",
       "      <td>1874</td>\n",
       "      <td>2278</td>\n",
       "      <td>2591</td>\n",
       "      <td>1902</td>\n",
       "      <td>1703</td>\n",
       "      <td>2030</td>\n",
       "      <td>2030</td>\n",
       "    </tr>\n",
       "    <tr>\n",
       "      <th>51</th>\n",
       "      <td>投資活動之淨現金流入(出)</td>\n",
       "      <td>-2881</td>\n",
       "      <td>-2453</td>\n",
       "      <td>-1770</td>\n",
       "      <td>-1698</td>\n",
       "      <td>-2443</td>\n",
       "      <td>-909.6</td>\n",
       "      <td>-960.8</td>\n",
       "      <td>-1298</td>\n",
       "      <td>-1890</td>\n",
       "      <td>-1716</td>\n",
       "    </tr>\n",
       "  </tbody>\n",
       "</table>\n",
       "</div>"
      ],
      "text/plain": [
       "             營業活動 2022Q1 2021Q4 2021Q3 2021Q2 2021Q1  2020Q4  2020Q3 2020Q2  \\\n",
       "38  營業活動之淨現金流入(出)   3722   3782   3187   1874   2278    2591    1902   1703   \n",
       "51  投資活動之淨現金流入(出)  -2881  -2453  -1770  -1698  -2443  -909.6  -960.8  -1298   \n",
       "\n",
       "   2020Q1 2019Q4  \n",
       "38   2030   2030  \n",
       "51  -1890  -1716  "
      ]
     },
     "execution_count": 85,
     "metadata": {},
     "output_type": "execute_result"
    }
   ],
   "source": [
    "dfs[1].iloc[[38,51]]"
   ]
  },
  {
   "cell_type": "code",
   "execution_count": 86,
   "id": "027607d8",
   "metadata": {},
   "outputs": [
    {
     "data": {
      "text/plain": [
       "array([['營業活動之淨現金流入(出)', '3722', '3782', '3187', '1874', '2278', '2591',\n",
       "        '1902', '1703', '2030', '2030'],\n",
       "       ['投資活動之淨現金流入(出)', '-2881', '-2453', '-1770', '-1698', '-2443',\n",
       "        '-909.6', '-960.8', '-1298', '-1890', '-1716']], dtype=object)"
      ]
     },
     "execution_count": 86,
     "metadata": {},
     "output_type": "execute_result"
    }
   ],
   "source": [
    "dfs[1].iloc[[38,51]].values"
   ]
  },
  {
   "cell_type": "code",
   "execution_count": 92,
   "id": "a397de4a",
   "metadata": {},
   "outputs": [
    {
     "data": {
      "text/plain": [
       "32451.4"
      ]
     },
     "execution_count": 92,
     "metadata": {},
     "output_type": "execute_result"
    }
   ],
   "source": [
    "fcf_list =  dfs[1].iloc[[38,51]].values\n",
    "fcf=0\n",
    "for flow_in in fcf_list[0][1:8]:\n",
    "    fcf+= float(flow_in)\n",
    "for flow_out in fcf_list[1][1:8]:\n",
    "    fcf-= float(flow_out)\n",
    "round(fcf,2)"
   ]
  },
  {
   "cell_type": "code",
   "execution_count": null,
   "id": "dee28693",
   "metadata": {},
   "outputs": [],
   "source": []
  }
 ],
 "metadata": {
  "kernelspec": {
   "display_name": "Python 3",
   "language": "python",
   "name": "python3"
  },
  "language_info": {
   "codemirror_mode": {
    "name": "ipython",
    "version": 3
   },
   "file_extension": ".py",
   "mimetype": "text/x-python",
   "name": "python",
   "nbconvert_exporter": "python",
   "pygments_lexer": "ipython3",
   "version": "3.8.8"
  }
 },
 "nbformat": 4,
 "nbformat_minor": 5
}
