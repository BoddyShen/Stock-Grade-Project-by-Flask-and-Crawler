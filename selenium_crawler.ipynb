{
 "cells": [
  {
   "cell_type": "code",
   "execution_count": 2,
   "id": "f91d3f1f",
   "metadata": {},
   "outputs": [],
   "source": [
    "from selenium import webdriver\n",
    "from webdriver_manager.chrome import ChromeDriverManager\n",
    "from selenium.webdriver.support.select import Select\n",
    "from selenium.webdriver.common.by import By\n",
    "from time import sleep\n",
    "from bs4 import BeautifulSoup\n",
    "import pandas as pd\n",
    "import requests\n"
   ]
  },
  {
   "cell_type": "code",
   "execution_count": 3,
   "id": "47ff8499",
   "metadata": {},
   "outputs": [
    {
     "name": "stderr",
     "output_type": "stream",
     "text": [
      "[WDM] - Downloading:  93%|█████████▎| 7.54M/8.07M [00:01<00:00, 7.69MB/s]<ipython-input-3-ed6ab71e0dcb>:3: DeprecationWarning: executable_path has been deprecated, please pass in a Service object\n",
      "  driver = webdriver.Chrome(ChromeDriverManager().install())\n",
      "[WDM] - Downloading: 100%|██████████| 8.07M/8.07M [00:15<00:00, 563kB/s] \n"
     ]
    },
    {
     "name": "stdout",
     "output_type": "stream",
     "text": [
      "2022Q1    9.03\n",
      "2021Q4    7.83\n",
      "2021Q3    7.69\n",
      "2021Q2    6.84\n",
      "Name: 8, dtype: float64\n"
     ]
    },
    {
     "data": {
      "text/plain": [
       "31.39"
      ]
     },
     "execution_count": 3,
     "metadata": {},
     "output_type": "execute_result"
    }
   ],
   "source": [
    "\n",
    "def get_roe(stock_id='2330', qua=4):\n",
    "    try:\n",
    "        driver = webdriver.Chrome(ChromeDriverManager().install())\n",
    "        driver.get(\n",
    "            f\"https://goodinfo.tw/tw/StockFinDetail.asp?RPT_CAT=XX_M_QUAR_ACC&STOCK_ID={stock_id}\")\n",
    "        sleep(2)\n",
    "        select = Select(driver.find_element(By.ID, 'RPT_CAT'))\n",
    "        select.select_by_value(\"XX_QUAR\")\n",
    "        sleep(2)\n",
    "\n",
    "        soup = BeautifulSoup(driver.page_source, 'html.parser')\n",
    "        data = soup.select('#divFinDetail')\n",
    "        dfs = pd.read_html(data[0].prettify())\n",
    "\n",
    "        df = dfs[0]\n",
    "        # print(type(dfs[0])) #<class 'pandas.core.frame.DataFrame'>\n",
    "        roedf = df[df['獲利能力'] ==\n",
    "                   '股東權益報酬率  (當季)'].iloc[0][1:qua+1].astype(float)\n",
    "        # print(type(roedf)) #<class 'pandas.core.series.Series'>\n",
    "        print(roedf)\n",
    "        roe = sum(roedf)\n",
    "\n",
    "        driver.quit()\n",
    "        return roe\n",
    "\n",
    "    except:\n",
    "        return\n",
    "get_roe()"
   ]
  },
  {
   "cell_type": "code",
   "execution_count": null,
   "id": "fc35e4ec",
   "metadata": {},
   "outputs": [],
   "source": []
  }
 ],
 "metadata": {
  "kernelspec": {
   "display_name": "Python 3",
   "language": "python",
   "name": "python3"
  },
  "language_info": {
   "codemirror_mode": {
    "name": "ipython",
    "version": 3
   },
   "file_extension": ".py",
   "mimetype": "text/x-python",
   "name": "python",
   "nbconvert_exporter": "python",
   "pygments_lexer": "ipython3",
   "version": "3.8.8"
  }
 },
 "nbformat": 4,
 "nbformat_minor": 5
}
